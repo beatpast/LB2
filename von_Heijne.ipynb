{
 "cells": [
  {
   "cell_type": "code",
   "execution_count": 1,
   "id": "a0fe2cd5-3364-438d-b1ac-58839e8a1411",
   "metadata": {},
   "outputs": [],
   "source": [
    "import pandas as pd\n",
    "import numpy as np\n",
    "from sklearn.metrics import precision_score, recall_score, precision_recall_curve, confusion_matrix, matthews_corrcoef, accuracy_score"
   ]
  },
  {
   "cell_type": "code",
   "execution_count": 2,
   "id": "fbbf2800-1027-4d9d-aa30-4f6a6a1607d1",
   "metadata": {},
   "outputs": [
    {
     "name": "stdout",
     "output_type": "stream",
     "text": [
      "559\n"
     ]
    }
   ],
   "source": [
    "#retrieving the positions of the signal peptides in the sequences of the different training sets for each round\n",
    "df_trainp2 = pd.read_csv('training_pos234_real.tsv', sep='\\t')\n",
    "signalp_length=[]\n",
    "pept_l=[]\n",
    "pept_l1=[]\n",
    "to_remove =[]\n",
    "for i in df_trainp2['Signal peptide']:\n",
    "    signalp_length.append(i)\n",
    "for j in range(len(signalp_length)):\n",
    "    if signalp_length[j][10] != \".\":\n",
    "        if signalp_length[j][10] != \"?\":\n",
    "            if signalp_length[j][11] != \";\":\n",
    "                pept_l.append(signalp_length[j][10])\n",
    "                pept_l1.append(signalp_length[j][11])\n",
    "for el in range(len(pept_l)):\n",
    "   pept_l[el] = int(pept_l[el]+pept_l1[el])\n",
    "#for k in range(len(pept_l1)):\n",
    "#    if pept_l1[k] == ';':\n",
    "#        to_remove.append(k)\n",
    "#to_remove\n",
    "print(len(pept_l))"
   ]
  },
  {
   "cell_type": "code",
   "execution_count": 3,
   "id": "6c9d55ff-d111-4ff9-afd7-e5f0b64848d1",
   "metadata": {},
   "outputs": [
    {
     "name": "stdout",
     "output_type": "stream",
     "text": [
      "559\n"
     ]
    }
   ],
   "source": [
    "#saving these positions in a file\n",
    "print(len(pept_l))\n",
    "file_pept_length = open(\"pept_l_r1.text\", \"w\")\n",
    "for element in range(len(pept_l)):\n",
    "    file_pept_length.write(str(pept_l[element]) + \"\\n\")"
   ]
  },
  {
   "cell_type": "code",
   "execution_count": 4,
   "id": "1923db47-e39e-4d87-9cc9-962272b35dd2",
   "metadata": {},
   "outputs": [
    {
     "name": "stdout",
     "output_type": "stream",
     "text": [
      "560\n"
     ]
    }
   ],
   "source": [
    "df_trainp2 = pd.read_csv('training_pos034.tsv', sep='\\t')\n",
    "signalp_length=[]\n",
    "pept_l=[]\n",
    "pept_l1=[]\n",
    "to_remove =[]\n",
    "for i in df_trainp2['Signal peptide']:\n",
    "    signalp_length.append(i)\n",
    "for j in range(len(signalp_length)):\n",
    "    if signalp_length[j][10] != \".\":\n",
    "        if signalp_length[j][10] != \"?\":\n",
    "            if signalp_length[j][11] != \";\":\n",
    "                pept_l.append(signalp_length[j][10])\n",
    "                pept_l1.append(signalp_length[j][11])\n",
    "for el in range(len(pept_l)):\n",
    "   pept_l[el] = int(pept_l[el]+pept_l1[el])\n",
    "#for k in range(len(pept_l1)):\n",
    "#    if pept_l1[k] == ';':\n",
    "#        to_remove.append(k)\n",
    "#to_remove\n",
    "print(len(pept_l))"
   ]
  },
  {
   "cell_type": "code",
   "execution_count": 5,
   "id": "785ec6ad-8110-4967-8195-3272a9a86da5",
   "metadata": {},
   "outputs": [
    {
     "name": "stdout",
     "output_type": "stream",
     "text": [
      "560\n"
     ]
    }
   ],
   "source": [
    "print(len(pept_l))\n",
    "file_pept_length = open(\"pept_l_r2.text\", \"w\")\n",
    "for element in range(len(pept_l)):\n",
    "    file_pept_length.write(str(pept_l[element]) + \"\\n\")"
   ]
  },
  {
   "cell_type": "code",
   "execution_count": 6,
   "id": "e4998489-0978-4686-8e0f-a2c4ae2162e3",
   "metadata": {},
   "outputs": [
    {
     "name": "stdout",
     "output_type": "stream",
     "text": [
      "560\n"
     ]
    }
   ],
   "source": [
    "df_trainp3 = pd.read_csv('training_pos014.tsv', sep='\\t')\n",
    "signalp_length=[]\n",
    "pept_l=[]\n",
    "pept_l1=[]\n",
    "to_remove =[]\n",
    "for i in df_trainp3['Signal peptide']:\n",
    "    signalp_length.append(i)\n",
    "for j in range(len(signalp_length)):\n",
    "    if signalp_length[j][10] != \".\":\n",
    "        if signalp_length[j][10] != \"?\":\n",
    "            if signalp_length[j][11] != \";\":\n",
    "                pept_l.append(signalp_length[j][10])\n",
    "                pept_l1.append(signalp_length[j][11])\n",
    "for el in range(len(pept_l)):\n",
    "   pept_l[el] = int(pept_l[el]+pept_l1[el])\n",
    "#for k in range(len(pept_l1)):\n",
    "#    if pept_l1[k] == ';':\n",
    "#        to_remove.append(k)\n",
    "#to_remove\n",
    "print(len(pept_l))"
   ]
  },
  {
   "cell_type": "code",
   "execution_count": 7,
   "id": "895c6f1d-79b7-4d7c-a85b-cfa33c4cdc3b",
   "metadata": {},
   "outputs": [
    {
     "name": "stdout",
     "output_type": "stream",
     "text": [
      "560\n"
     ]
    }
   ],
   "source": [
    "print(len(pept_l))\n",
    "file_pept_length = open(\"pept_l_r3.text\", \"w\")\n",
    "for element in range(len(pept_l)):\n",
    "    file_pept_length.write(str(pept_l[element]) + \"\\n\")"
   ]
  },
  {
   "cell_type": "code",
   "execution_count": 8,
   "id": "30424e57-d78d-417d-b8af-2c670870e6c5",
   "metadata": {},
   "outputs": [
    {
     "name": "stdout",
     "output_type": "stream",
     "text": [
      "557\n"
     ]
    }
   ],
   "source": [
    "df_trainp3 = pd.read_csv('training_pos012.tsv', sep='\\t')\n",
    "signalp_length=[]\n",
    "pept_l=[]\n",
    "pept_l1=[]\n",
    "to_remove =[]\n",
    "for i in df_trainp3['Signal peptide']:\n",
    "    signalp_length.append(i)\n",
    "for j in range(len(signalp_length)):\n",
    "    if signalp_length[j][10] != \".\":\n",
    "        if signalp_length[j][10] != \"?\":\n",
    "            if signalp_length[j][11] != \";\":\n",
    "                pept_l.append(signalp_length[j][10])\n",
    "                pept_l1.append(signalp_length[j][11])\n",
    "for el in range(len(pept_l)):\n",
    "   pept_l[el] = int(pept_l[el]+pept_l1[el])\n",
    "#for k in range(len(pept_l1)):\n",
    "#    if pept_l1[k] == ';':\n",
    "#        to_remove.append(k)\n",
    "#to_remove\n",
    "print(len(pept_l))"
   ]
  },
  {
   "cell_type": "code",
   "execution_count": 9,
   "id": "e5be6008-dd06-4d54-bfdf-a0de85e3190f",
   "metadata": {},
   "outputs": [
    {
     "name": "stdout",
     "output_type": "stream",
     "text": [
      "557\n"
     ]
    }
   ],
   "source": [
    "print(len(pept_l))\n",
    "file_pept_length = open(\"pept_l_r4.text\", \"w\")\n",
    "for element in range(len(pept_l)):\n",
    "    file_pept_length.write(str(pept_l[element]) + \"\\n\")"
   ]
  },
  {
   "cell_type": "code",
   "execution_count": 55,
   "id": "a45a6241-bfae-4351-a788-eb27c8c18f86",
   "metadata": {},
   "outputs": [
    {
     "name": "stdout",
     "output_type": "stream",
     "text": [
      "557\n"
     ]
    }
   ],
   "source": [
    "df_trainp2 = pd.read_csv('training_pos123.tsv', sep='\\t')\n",
    "signalp_length=[]\n",
    "pept_l=[]\n",
    "pept_l1=[]\n",
    "to_remove =[]\n",
    "for i in df_trainp2['Signal peptide']:\n",
    "    signalp_length.append(i)\n",
    "for j in range(len(signalp_length)):\n",
    "    if signalp_length[j][10] != \".\":\n",
    "        if signalp_length[j][10] != \"?\":\n",
    "            if signalp_length[j][11] != \";\":\n",
    "                pept_l.append(signalp_length[j][10])\n",
    "                pept_l1.append(signalp_length[j][11])\n",
    "for el in range(len(pept_l)):\n",
    "   pept_l[el] = int(pept_l[el]+pept_l1[el])\n",
    "#for k in range(len(pept_l1)):\n",
    "#    if pept_l1[k] == ';':\n",
    "#        to_remove.append(k)\n",
    "#to_remove\n",
    "print(len(pept_l))"
   ]
  },
  {
   "cell_type": "code",
   "execution_count": 56,
   "id": "3f2f202e-3f46-4d90-b818-a9d0b15a6b7f",
   "metadata": {},
   "outputs": [
    {
     "name": "stdout",
     "output_type": "stream",
     "text": [
      "557\n"
     ]
    }
   ],
   "source": [
    "print(len(pept_l))\n",
    "file_pept_length = open(\"pept_l_r5.text\", \"w\")\n",
    "for element in range(len(pept_l)):\n",
    "    file_pept_length.write(str(pept_l[element]) + \"\\n\")"
   ]
  },
  {
   "cell_type": "code",
   "execution_count": 12,
   "id": "766e6459-7e83-4470-b7bf-e937cf58fcb1",
   "metadata": {},
   "outputs": [
    {
     "name": "stdout",
     "output_type": "stream",
     "text": [
      "['LLIFILLQLPKLDSA', 'LAVSNLLVWEKVTSL']\n"
     ]
    }
   ],
   "source": [
    "%%bash\n",
    "#round0:training\n",
    "python vH_train1-prova.py test.fasta matrix_prova.text pept_l_r1-Copy1.text"
   ]
  },
  {
   "cell_type": "code",
   "execution_count": 13,
   "id": "4731ca5a-da00-49b1-86aa-718265040351",
   "metadata": {},
   "outputs": [],
   "source": [
    "%%bash\n",
    "#round0:testing\n",
    "python vH_predict-Copy1.py training0_prova.fasta matrix_prova.text result_test_round_prova8.text"
   ]
  },
  {
   "cell_type": "code",
   "execution_count": 14,
   "id": "4cefbfdf-c15f-4d56-815f-1ef0001982c1",
   "metadata": {},
   "outputs": [],
   "source": [
    "%%bash\n",
    "#round1:training\n",
    "python vH_train1.py training_pos234_real.fasta matrix.text pept_l_r1.text"
   ]
  },
  {
   "cell_type": "code",
   "execution_count": 15,
   "id": "08b058b4-222b-4e70-9830-3546b0e70bd0",
   "metadata": {},
   "outputs": [],
   "source": [
    "%%bash\n",
    "#round1:testing\n",
    "python vH_predict-Copy1.py trainings0.fasta matrix.text result_test_round1.text"
   ]
  },
  {
   "cell_type": "code",
   "execution_count": 16,
   "id": "67646987-2c44-4d70-9f2a-ddaaf50ebaeb",
   "metadata": {},
   "outputs": [],
   "source": [
    "%%bash\n",
    "#round1:validation\n",
    "python vH_predict-Copy1.py trainings1.fasta matrix.text result_validation_1.text"
   ]
  },
  {
   "cell_type": "code",
   "execution_count": 17,
   "id": "d36fbb0c-967b-4f48-ab67-abfe79abfae8",
   "metadata": {},
   "outputs": [],
   "source": [
    "# creating dataframe of the training1 for the validation round1\n",
    "df_training_1 = pd.read_csv('trainings1.tsv', sep='\\t')\n",
    "# Remove rows where \"Entry\" column equals \"Q3LFD5\" because obsolete protein and not present in the fasta file\n",
    "df_training_1 = df_training_1[df_training_1[\"Entry\"] != 'Q3LFD5']\n"
   ]
  },
  {
   "cell_type": "code",
   "execution_count": 18,
   "id": "b0081567-e03b-4bab-b292-06c06e940625",
   "metadata": {},
   "outputs": [
    {
     "name": "stdout",
     "output_type": "stream",
     "text": [
      "3193\n"
     ]
    }
   ],
   "source": [
    "#round1\n",
    "#creating a list with the labeling of the proteins containing or not containing the signal peptide in the subset for validation\n",
    "pept_pr1 = []\n",
    "pept_label_1 = []\n",
    "for i in df_training_1[\"Signal peptide\"]:\n",
    "    pept_pr1.append(str(i))\n",
    "for j in range(len(pept_pr1)):\n",
    "    if pept_pr1[j] == \"nan\" :\n",
    "        pept_label_1.append(0)\n",
    "    else:\n",
    "        pept_label_1.append(1)\n",
    "\n",
    "print(len(pept_label_1))"
   ]
  },
  {
   "cell_type": "code",
   "execution_count": 19,
   "id": "6f4f4ba2-63ae-44ba-be56-96632c521c58",
   "metadata": {},
   "outputs": [],
   "source": [
    "# binary representation of the true (observed) class for each validation example: 0=NO_SP, 1=SP\n",
    "#pept_label_1\n",
    "#opening the necessary files\n",
    "file_testing_1 = open(\"result_test_round1.text\",\"r\")\n",
    "file_validation_1 = open(\"result_validation_1.text\", \"r\")\n",
    "# SP detection scores assigned to each validation example by means of weight matrix scanning\n",
    "result_validation = []\n",
    "y_test_scores = []\n",
    "for result in file_validation_1:\n",
    "    result_validation.append(float(result.strip()))\n",
    "for result1 in file_testing_1:\n",
    "    y_test_scores.append(float(result1.strip()))\n",
    "\n",
    "# precision-recall curve values\n",
    "# precision: contains precision scores at varying thresholds\n",
    "# recall: contains recall scores at varying thresholds\n",
    "# thresholds: the thresholds values\n",
    "precision, recall, thresholds = precision_recall_curve(pept_label_1, result_validation)\n",
    "# compute f-scores at varying thresholds\n",
    "fscore = (2 * precision * recall) / (precision + recall)\n",
    "# get the index of the maximum value of the f-score\n",
    "index = np.argmax(fscore)\n",
    "# retrieve the threshold value corresponding to the max f-score computed above\n",
    "optimal_threshold1 = thresholds[index]\n",
    "# SP detection scores assigned to each testing example by means of weight matrix scanning\n",
    "\n",
    "# classify examples in the testing set\n",
    "y_pred_test1 = [int(t_s >= optimal_threshold1) for t_s in y_test_scores]\n"
   ]
  },
  {
   "cell_type": "code",
   "execution_count": 20,
   "id": "aeadd670-994b-4f31-899b-768da8a3a789",
   "metadata": {},
   "outputs": [
    {
     "name": "stdout",
     "output_type": "stream",
     "text": [
      "0.6083235372533828\n"
     ]
    }
   ],
   "source": [
    "#round1\n",
    "# Calculate the confusion matrix\n",
    "confusion_matrix_result = confusion_matrix(pept_label_1, y_pred_test1)\n",
    "# Calculate MCC\n",
    "mcc1 = matthews_corrcoef(pept_label_1, y_pred_test1)\n",
    "print(mcc1)"
   ]
  },
  {
   "cell_type": "code",
   "execution_count": 21,
   "id": "aa8992d4-5fcd-4100-8887-d1aba89f4bb9",
   "metadata": {},
   "outputs": [
    {
     "name": "stdout",
     "output_type": "stream",
     "text": [
      "precision:  0.7 recall:  0.5645161290322581 accuracy:  0.9605386783589102\n"
     ]
    }
   ],
   "source": [
    "precision1 = precision_score(pept_label_1, y_pred_test1)\n",
    "recall1 = recall_score(pept_label_1, y_pred_test1)\n",
    "accuracy1 = accuracy_score(pept_label_1, y_pred_test1)\n",
    "print(\"precision: \", precision1,\"recall: \", recall1,\"accuracy: \", accuracy1)"
   ]
  },
  {
   "cell_type": "code",
   "execution_count": 22,
   "id": "79314391-d510-4af5-8526-9128d026eab8",
   "metadata": {},
   "outputs": [
    {
     "data": {
      "text/plain": [
       "array([[2962,   45],\n",
       "       [  81,  105]])"
      ]
     },
     "execution_count": 22,
     "metadata": {},
     "output_type": "execute_result"
    }
   ],
   "source": [
    "confusion_matrix_result"
   ]
  },
  {
   "cell_type": "code",
   "execution_count": 23,
   "id": "ee032040-737d-47bc-a51f-af4cc534fabe",
   "metadata": {},
   "outputs": [
    {
     "name": "stdout",
     "output_type": "stream",
     "text": [
      "3193\n"
     ]
    }
   ],
   "source": [
    "#doing the same for round2\n",
    "pept_pr2 = []\n",
    "pept_label_2 = []\n",
    "df_training_2 = pd.read_csv('trainings2.tsv', sep='\\t')\n",
    "for i in df_training_2[\"Signal peptide\"]:\n",
    "    pept_pr2.append(str(i))\n",
    "for j in range(len(pept_pr2)):\n",
    "    if pept_pr2[j] == \"nan\" :\n",
    "        pept_label_2.append(0)\n",
    "    else:\n",
    "        pept_label_2.append(1)\n",
    "\n",
    "print(len(pept_label_2))"
   ]
  },
  {
   "cell_type": "code",
   "execution_count": 24,
   "id": "e70fa016-bbd4-4549-9676-c29d2fc39ae8",
   "metadata": {},
   "outputs": [],
   "source": [
    "%%bash\n",
    "#round2:training\n",
    "python vH_train1.py training_pos034.fasta matrix2.text pept_l_r2.text"
   ]
  },
  {
   "cell_type": "code",
   "execution_count": 25,
   "id": "28b21679-b33a-4459-9a41-6fd5b7a01ea7",
   "metadata": {},
   "outputs": [],
   "source": [
    "%%bash\n",
    "#round2:testing\n",
    "python vH_predict-Copy1.py trainings1.fasta matrix2.text result_test_round2.text"
   ]
  },
  {
   "cell_type": "code",
   "execution_count": 26,
   "id": "f9cffcc4-87d0-4c40-93ac-662eabe48842",
   "metadata": {},
   "outputs": [],
   "source": [
    "%%bash\n",
    "#round2:validation\n",
    "python vH_predict-Copy1.py trainings2.fasta matrix2.text result_validation_2.text"
   ]
  },
  {
   "cell_type": "code",
   "execution_count": 27,
   "id": "4b3a66ad-1b4a-428e-b41f-0441ddd116c7",
   "metadata": {},
   "outputs": [],
   "source": [
    "#round2\n",
    "# binary representation of the true (observed) class for each validation example: 0=NO_SP, 1=SP\n",
    "#pept_label_2\n",
    "#opening the necessary files\n",
    "file_testing_2 = open(\"result_test_round2.text\",\"r\")\n",
    "file_validation_2 = open(\"result_validation_2.text\", \"r\")\n",
    "# SP detection scores assigned to each validation example by means of weight matrix scanning\n",
    "result_validation = []\n",
    "y_test_scores = []\n",
    "for result in file_validation_2:\n",
    "    result_validation.append(float(result.strip()))\n",
    "for result1 in file_testing_2:\n",
    "    y_test_scores.append(float(result1.strip()))\n",
    "\n",
    "# precision-recall curve values\n",
    "# precision: contains precision scores at varying thresholds\n",
    "# recall: contains recall scores at varying thresholds\n",
    "# thresholds: the thresholds values\n",
    "precision, recall, thresholds = precision_recall_curve(pept_label_2, result_validation)\n",
    "# compute f-scores at varying thresholds\n",
    "fscore = (2 * precision * recall) / (precision + recall)\n",
    "# get the index of the maximum value of the f-score\n",
    "index = np.argmax(fscore)\n",
    "# retrieve the threshold value corresponding to the max f-score computed above\n",
    "optimal_threshold2 = thresholds[index]\n",
    "# SP detection scores assigned to each testing example by means of weight matrix scanning\n",
    "# classify examples in the testing set\n",
    "y_pred_test2 = [int(t_s >= optimal_threshold2) for t_s in y_test_scores]\n"
   ]
  },
  {
   "cell_type": "code",
   "execution_count": 28,
   "id": "e118166e-514b-4baa-a261-4861347a2f4c",
   "metadata": {},
   "outputs": [
    {
     "name": "stdout",
     "output_type": "stream",
     "text": [
      "0.5999892219216524\n"
     ]
    }
   ],
   "source": [
    "#round2\n",
    "# Calculate the confusion matrix\n",
    "confusion_matrix_result = confusion_matrix(pept_label_2, y_pred_test2)\n",
    "# Calculate MCC\n",
    "mcc2 = matthews_corrcoef(pept_label_2, y_pred_test2)\n",
    "print(mcc2)"
   ]
  },
  {
   "cell_type": "code",
   "execution_count": 29,
   "id": "ff61c15d-743b-4d8d-81e2-5c7659a678b6",
   "metadata": {},
   "outputs": [
    {
     "name": "stdout",
     "output_type": "stream",
     "text": [
      "precision:  0.650887573964497 recall:  0.5945945945945946 accuracy:  0.9580331976197933\n"
     ]
    }
   ],
   "source": [
    "precision2 = precision_score(pept_label_2, y_pred_test2)\n",
    "recall2 = recall_score(pept_label_2, y_pred_test2)\n",
    "accuracy2 = accuracy_score(pept_label_2, y_pred_test2)\n",
    "print(\"precision: \", precision2,\"recall: \", recall2,\"accuracy: \", accuracy2)"
   ]
  },
  {
   "cell_type": "code",
   "execution_count": 30,
   "id": "8a4b37a4-540e-4dc6-a8fb-c60626d35368",
   "metadata": {},
   "outputs": [],
   "source": [
    "%%bash\n",
    "#round3:training\n",
    "python vH_train1.py training_pos014.fasta matrix3.text pept_l_r3.text"
   ]
  },
  {
   "cell_type": "code",
   "execution_count": 31,
   "id": "852c6dcb-9321-473a-8c80-7ee7e04ed920",
   "metadata": {},
   "outputs": [],
   "source": [
    "%%bash\n",
    "#round3:testing\n",
    "python vH_predict-Copy1.py trainings2.fasta matrix3.text result_test_round3.text"
   ]
  },
  {
   "cell_type": "code",
   "execution_count": 32,
   "id": "d937c8d5-7af8-463e-abb5-a60b88cbbbf6",
   "metadata": {},
   "outputs": [],
   "source": [
    "%%bash\n",
    "#round3:validation\n",
    "python vH_predict-Copy1.py trainings3.fasta matrix3.text result_validation_3.text"
   ]
  },
  {
   "cell_type": "code",
   "execution_count": 33,
   "id": "3db0ab69-278a-40e2-a0ad-f1456f68c71d",
   "metadata": {},
   "outputs": [],
   "source": [
    "# creating dataframe of the training3 for the validation round3\n",
    "df_training_3 = pd.read_csv('trainings3.tsv', sep='\\t')"
   ]
  },
  {
   "cell_type": "code",
   "execution_count": 34,
   "id": "66a4f3eb-b3ce-4c48-9626-154762a06fc9",
   "metadata": {},
   "outputs": [
    {
     "name": "stdout",
     "output_type": "stream",
     "text": [
      "3194\n"
     ]
    }
   ],
   "source": [
    "#round3\n",
    "#creating a list with the labeling of the proteins containing or not containing the signal peptide in the subset for validation\n",
    "pept_pr1 = []\n",
    "pept_label_3 = []\n",
    "for i in df_training_3[\"Signal peptide\"]:\n",
    "    pept_pr1.append(str(i))\n",
    "for j in range(len(pept_pr1)):\n",
    "    if pept_pr1[j] == \"nan\" :\n",
    "        pept_label_3.append(0)\n",
    "    else:\n",
    "        pept_label_3.append(1)\n",
    "\n",
    "print(len(pept_label_3))"
   ]
  },
  {
   "cell_type": "code",
   "execution_count": 35,
   "id": "7e898d14-4335-4981-933d-0b49799a1243",
   "metadata": {},
   "outputs": [
    {
     "name": "stdout",
     "output_type": "stream",
     "text": [
      "4.1680040305731545\n"
     ]
    }
   ],
   "source": [
    "# binary representation of the true (observed) class for each validation example: 0=NO_SP, 1=SP\n",
    "#pept_label_3\n",
    "#opening the necessary files\n",
    "file_testing_3 = open(\"result_test_round3.text\",\"r\")\n",
    "file_validation_3 = open(\"result_validation_3.text\", \"r\")\n",
    "# SP detection scores assigned to each validation example by means of weight matrix scanning\n",
    "result_validation = []\n",
    "y_test_scores = []\n",
    "for result in file_validation_3:\n",
    "    result_validation.append(float(result.strip()))\n",
    "for result1 in file_testing_3:\n",
    "    y_test_scores.append(float(result1.strip()))\n",
    "\n",
    "# precision-recall curve values\n",
    "# precision: contains precision scores at varying thresholds\n",
    "# recall: contains recall scores at varying thresholds\n",
    "# thresholds: the thresholds values\n",
    "precision, recall, thresholds = precision_recall_curve(pept_label_3, result_validation)\n",
    "# compute f-scores at varying thresholds\n",
    "fscore = (2 * precision * recall) / (precision + recall)\n",
    "# get the index of the maximum value of the f-score\n",
    "index = np.argmax(fscore)\n",
    "# retrieve the threshold value corresponding to the max f-score computed above\n",
    "optimal_threshold3 = thresholds[index]\n",
    "# SP detection scores assigned to each testing example by means of weight matrix scanning\n",
    "\n",
    "# classify examples in the testing set\n",
    "y_pred_test3 = [int(t_s >= optimal_threshold3) for t_s in y_test_scores]\n",
    "\n",
    "print(optimal_threshold3)"
   ]
  },
  {
   "cell_type": "code",
   "execution_count": 36,
   "id": "31ed6e6e-a7eb-454b-9474-f8213098a33b",
   "metadata": {},
   "outputs": [
    {
     "data": {
      "text/plain": [
       "1"
      ]
     },
     "execution_count": 36,
     "metadata": {},
     "output_type": "execute_result"
    }
   ],
   "source": [
    "pept_label_3.pop(-1)"
   ]
  },
  {
   "cell_type": "code",
   "execution_count": 37,
   "id": "dedb5c6c-e37c-45a1-9258-cda5574c5398",
   "metadata": {},
   "outputs": [
    {
     "name": "stdout",
     "output_type": "stream",
     "text": [
      "0.6056040456295946\n"
     ]
    }
   ],
   "source": [
    "#round3\n",
    "# Calculate the confusion matrix\n",
    "confusion_matrix_result = confusion_matrix(pept_label_3, y_pred_test3)\n",
    "# Calculate MCC\n",
    "mcc3 = matthews_corrcoef(pept_label_3, y_pred_test3)\n",
    "print(mcc3)"
   ]
  },
  {
   "cell_type": "code",
   "execution_count": 38,
   "id": "4f4c7631-0c70-4ef4-af68-b5e15c2b8f7b",
   "metadata": {},
   "outputs": [
    {
     "name": "stdout",
     "output_type": "stream",
     "text": [
      "precision:  0.5622317596566524 recall:  0.7081081081081081 accuracy:  0.951143125587222\n"
     ]
    }
   ],
   "source": [
    "precision3 = precision_score(pept_label_3, y_pred_test3)\n",
    "recall3 = recall_score(pept_label_3, y_pred_test3)\n",
    "accuracy3 = accuracy_score(pept_label_3, y_pred_test3)\n",
    "print(\"precision: \", precision3,\"recall: \", recall3,\"accuracy: \", accuracy3)"
   ]
  },
  {
   "cell_type": "code",
   "execution_count": 39,
   "id": "0f8c7cde-bd80-4228-a440-2f01051769f6",
   "metadata": {},
   "outputs": [],
   "source": [
    "%%bash\n",
    "#round4:training\n",
    "python vH_train1.py training_pos012.fasta matrix4.text pept_l_r4.text"
   ]
  },
  {
   "cell_type": "code",
   "execution_count": 40,
   "id": "8e1c9ea5-e752-4ec3-b35a-f04c9c21f027",
   "metadata": {},
   "outputs": [],
   "source": [
    "%%bash\n",
    "#round4:testing\n",
    "python vH_predict-Copy1.py trainings3.fasta matrix4.text result_test_round4.text"
   ]
  },
  {
   "cell_type": "code",
   "execution_count": 41,
   "id": "7e3f4e3a-e890-4d29-b644-1bd781f015cb",
   "metadata": {},
   "outputs": [],
   "source": [
    "%%bash\n",
    "#round4:validation\n",
    "python vH_predict-Copy1.py trainings4.fasta matrix4.text result_validation_4.text"
   ]
  },
  {
   "cell_type": "code",
   "execution_count": 42,
   "id": "2af66798-ac1a-4e0d-9f12-344c57517169",
   "metadata": {},
   "outputs": [],
   "source": [
    "# creating dataframe of the training3 for the validation round4\n",
    "df_training_4 = pd.read_csv('trainings4.tsv', sep='\\t')"
   ]
  },
  {
   "cell_type": "code",
   "execution_count": 43,
   "id": "d64d60ff-e5d1-45f3-8c6e-5f07444e57a0",
   "metadata": {},
   "outputs": [
    {
     "name": "stdout",
     "output_type": "stream",
     "text": [
      "3197\n"
     ]
    }
   ],
   "source": [
    "#round4\n",
    "#creating a list with the labeling of the proteins containing or not containing the signal peptide in the subset for validation\n",
    "pept_pr1 = []\n",
    "pept_label_4 = []\n",
    "for i in df_training_4[\"Signal peptide\"]:\n",
    "    pept_pr1.append(str(i))\n",
    "for j in range(len(pept_pr1)):\n",
    "    if pept_pr1[j] == \"nan\" :\n",
    "        pept_label_4.append(0)\n",
    "    else:\n",
    "        pept_label_4.append(1)\n",
    "\n",
    "print(len(pept_label_4))"
   ]
  },
  {
   "cell_type": "code",
   "execution_count": 44,
   "id": "d55097a3-a56f-4c85-9b7c-2b7a6bb6e59c",
   "metadata": {},
   "outputs": [],
   "source": [
    "#round4\n",
    "# binary representation of the true (observed) class for each validation example: 0=NO_SP, 1=SP\n",
    "#pept_label_4\n",
    "#opening the necessary files\n",
    "file_testing_4 = open(\"result_test_round4.text\",\"r\")\n",
    "file_validation_4 = open(\"result_validation_4.text\", \"r\")\n",
    "# SP detection scores assigned to each validation example by means of weight matrix scanning\n",
    "result_validation = []\n",
    "y_test_scores = []\n",
    "for result in file_validation_4:\n",
    "    result_validation.append(float(result.strip()))\n",
    "for result1 in file_testing_4:\n",
    "    y_test_scores.append(float(result1.strip()))\n",
    "\n",
    "# precision-recall curve values\n",
    "# precision: contains precision scores at varying thresholds\n",
    "# recall: contains recall scores at varying thresholds\n",
    "# thresholds: the thresholds values\n",
    "precision, recall, thresholds = precision_recall_curve(pept_label_4, result_validation)\n",
    "# compute f-scores at varying thresholds\n",
    "fscore = (2 * precision * recall) / (precision + recall)\n",
    "# get the index of the maximum value of the f-score\n",
    "index = np.argmax(fscore)\n",
    "# retrieve the threshold value corresponding to the max f-score computed above\n",
    "optimal_threshold4 = thresholds[index]\n",
    "# SP detection scores assigned to each testing example by means of weight matrix scanning\n",
    "# classify examples in the testing set\n",
    "y_pred_test4 = [int(t_s >= optimal_threshold4) for t_s in y_test_scores]"
   ]
  },
  {
   "cell_type": "code",
   "execution_count": 45,
   "id": "3304a147-bb3a-401e-a504-aee807a672d6",
   "metadata": {},
   "outputs": [
    {
     "data": {
      "text/plain": [
       "1"
      ]
     },
     "execution_count": 45,
     "metadata": {},
     "output_type": "execute_result"
    }
   ],
   "source": [
    "pept_label_4.pop(-1)\n",
    "pept_label_4.pop(-2)\n",
    "pept_label_4.pop(-3)"
   ]
  },
  {
   "cell_type": "code",
   "execution_count": 46,
   "id": "c4c5a8d7-dafe-402b-9c21-9f77432860a0",
   "metadata": {},
   "outputs": [
    {
     "name": "stdout",
     "output_type": "stream",
     "text": [
      "0.6047103035913711\n"
     ]
    }
   ],
   "source": [
    "#round4\n",
    "# Calculate the confusion matrix\n",
    "confusion_matrix_result = confusion_matrix(pept_label_4, y_pred_test4)\n",
    "# Calculate MCC\n",
    "mcc4 = matthews_corrcoef(pept_label_4, y_pred_test4)\n",
    "print(mcc4)"
   ]
  },
  {
   "cell_type": "code",
   "execution_count": 47,
   "id": "c0ed071c-bbe2-4796-8089-33295d4f45b8",
   "metadata": {},
   "outputs": [
    {
     "name": "stdout",
     "output_type": "stream",
     "text": [
      "precision:  0.6134020618556701 recall:  0.6432432432432432 accuracy:  0.9558547276142768\n"
     ]
    }
   ],
   "source": [
    "precision4 = precision_score(pept_label_4, y_pred_test4)\n",
    "recall4 = recall_score(pept_label_4, y_pred_test4)\n",
    "accuracy4 = accuracy_score(pept_label_4, y_pred_test4)\n",
    "print(\"precision: \", precision4,\"recall: \", recall4,\"accuracy: \", accuracy4)"
   ]
  },
  {
   "cell_type": "code",
   "execution_count": 57,
   "id": "0f53d1dc-b719-4722-a675-d8ab1ce888ad",
   "metadata": {},
   "outputs": [],
   "source": [
    "%%bash\n",
    "#round5:training\n",
    "python vH_train1.py training_pos123.fasta matrix5.text pept_l_r5.text"
   ]
  },
  {
   "cell_type": "code",
   "execution_count": 58,
   "id": "1b58811b-f488-4607-ad97-2c515a782d17",
   "metadata": {},
   "outputs": [],
   "source": [
    "%%bash\n",
    "#round5:testing\n",
    "python vH_predict-Copy1.py trainings4.fasta matrix5.text result_test_round5.text"
   ]
  },
  {
   "cell_type": "code",
   "execution_count": 59,
   "id": "fa74191a-6f65-4142-b6f0-e9361e201202",
   "metadata": {},
   "outputs": [],
   "source": [
    "%%bash\n",
    "#round5:validation\n",
    "python vH_predict-Copy1.py trainings0.fasta matrix5.text result_validation_5.text"
   ]
  },
  {
   "cell_type": "code",
   "execution_count": 60,
   "id": "92d89c6a-c408-4dbb-8991-51749c17b245",
   "metadata": {},
   "outputs": [],
   "source": [
    "# creating dataframe of the training4 for the validation round5\n",
    "df_training_0 = pd.read_csv('trainings0.tsv', sep='\\t')"
   ]
  },
  {
   "cell_type": "code",
   "execution_count": 61,
   "id": "3c5a2447-4f0d-49e0-9090-1ea2b99ee0d8",
   "metadata": {},
   "outputs": [
    {
     "name": "stdout",
     "output_type": "stream",
     "text": [
      "3194\n"
     ]
    }
   ],
   "source": [
    "#round5\n",
    "#creating a list with the labeling of the proteins containing or not containing the signal peptide in the subset for validation\n",
    "pept_pr1 = []\n",
    "pept_label_5 = []\n",
    "for i in df_training_0[\"Signal peptide\"]:\n",
    "    pept_pr1.append(str(i))\n",
    "for j in range(len(pept_pr1)):\n",
    "    if pept_pr1[j] == \"nan\" :\n",
    "        pept_label_5.append(0)\n",
    "    else:\n",
    "        pept_label_5.append(1)\n",
    "\n",
    "print(len(pept_label_5))"
   ]
  },
  {
   "cell_type": "code",
   "execution_count": 62,
   "id": "de6921f6-6efc-46b8-8692-c065f8d9bd77",
   "metadata": {},
   "outputs": [
    {
     "data": {
      "text/plain": [
       "1"
      ]
     },
     "execution_count": 62,
     "metadata": {},
     "output_type": "execute_result"
    }
   ],
   "source": [
    "pept_label_5.pop(-1)\n",
    "#pept_label_5.pop(-2)\n",
    "#pept_label_5.pop(-3)"
   ]
  },
  {
   "cell_type": "code",
   "execution_count": 63,
   "id": "b3162012-79cf-4963-b411-7d43c030303c",
   "metadata": {},
   "outputs": [],
   "source": [
    "#round5\n",
    "# binary representation of the true (observed) class for each validation example: 0=NO_SP, 1=SP\n",
    "#pept_label_5\n",
    "#opening the necessary files\n",
    "file_testing_5 = open(\"result_test_round5.text\",\"r\")\n",
    "file_validation_5 = open(\"result_validation_5.text\", \"r\")\n",
    "# SP detection scores assigned to each validation example by means of weight matrix scanning\n",
    "result_validation = []\n",
    "y_test_scores = []\n",
    "for result in file_validation_5:\n",
    "    result_validation.append(float(result.strip()))\n",
    "for result1 in file_testing_5:\n",
    "    y_test_scores.append(float(result1.strip()))\n",
    "\n",
    "# precision-recall curve values\n",
    "# precision: contains precision scores at varying thresholds\n",
    "# recall: contains recall scores at varying thresholds\n",
    "# thresholds: the thresholds values\n",
    "precision, recall, thresholds = precision_recall_curve(pept_label_5, result_validation)\n",
    "# compute f-scores at varying thresholds\n",
    "fscore5 = (2 * precision * recall) / (precision + recall)\n",
    "# get the index of the maximum value of the f-score\n",
    "index5 = np.argmax(fscore5)\n",
    "# retrieve the threshold value corresponding to the max f-score computed above\n",
    "optimal_threshold5 = thresholds[index]\n",
    "# SP detection scores assigned to each testing example by means of weight matrix scanning\n",
    "# classify examples in the testing set\n",
    "y_pred_test5 = [int(t_s >= optimal_threshold4) for t_s in y_test_scores]"
   ]
  },
  {
   "cell_type": "code",
   "execution_count": 70,
   "id": "39f29f43-d4ea-4d51-a815-ec619b3c8826",
   "metadata": {},
   "outputs": [
    {
     "data": {
      "text/plain": [
       "1"
      ]
     },
     "execution_count": 70,
     "metadata": {},
     "output_type": "execute_result"
    }
   ],
   "source": [
    "y_pred_test5.pop(-1)\n"
   ]
  },
  {
   "cell_type": "code",
   "execution_count": 71,
   "id": "73b2e37d-79af-4153-9fa9-7e185d56042d",
   "metadata": {},
   "outputs": [
    {
     "name": "stdout",
     "output_type": "stream",
     "text": [
      "0.5592370603849111\n"
     ]
    }
   ],
   "source": [
    "#round5\n",
    "# Calculate the confusion matrix\n",
    "confusion_matrix_result = confusion_matrix(pept_label_5, y_pred_test5)\n",
    "# Calculate MCC\n",
    "mcc5 = matthews_corrcoef(pept_label_5, y_pred_test5)\n",
    "print(mcc5)"
   ]
  },
  {
   "cell_type": "code",
   "execution_count": 72,
   "id": "feaed64d-d95a-4283-adb0-82d52e6192ad",
   "metadata": {},
   "outputs": [
    {
     "name": "stdout",
     "output_type": "stream",
     "text": [
      "precision:  0.5759162303664922 recall:  0.5945945945945946 accuracy:  0.951143125587222\n"
     ]
    }
   ],
   "source": [
    "precision5 = precision_score(pept_label_5, y_pred_test5)\n",
    "recall5 = recall_score(pept_label_5, y_pred_test5)\n",
    "accuracy5 = accuracy_score(pept_label_5, y_pred_test5)\n",
    "print(\"precision: \", precision5,\"recall: \", recall5,\"accuracy: \", accuracy5)"
   ]
  },
  {
   "cell_type": "code",
   "execution_count": 73,
   "id": "668b05e7-3f12-48a4-a033-cc1cb767f7bf",
   "metadata": {},
   "outputs": [],
   "source": [
    "#computing mean and standard deviation with the data for the 5 rounds:\n",
    "data_mcc =np.array([mcc1,mcc2,mcc3,mcc4,mcc5])\n",
    "data_accuracy = np.array([accuracy1,accuracy2,accuracy3,accuracy4,accuracy5])\n",
    "precision = [precision1,precision2,precision3,precision4,precision5]\n",
    "recall = [recall1,recall2,recall3,recall4,recall5]\n",
    "f1_score =[]\n",
    "for i in range(len(recall)):\n",
    "    f1_score.append(2 * (precision[i] * recall[i]) / (precision[i] + recall[i]))\n",
    "data_f1_Score = np.array(f1_score)\n",
    "mean_f1_Score = np.mean(f1_score)\n",
    "std_f1_Score = np.std(f1_score)\n",
    "data_precision = np.array(precision)\n",
    "data_recall = np.array(recall)\n",
    "mean_value_mcc = np.mean(data_mcc)\n",
    "std_deviation_mcc = np.std(data_mcc)\n",
    "mean_value_acc = np.mean(data_accuracy)\n",
    "std_deviation_acc = np.std(data_accuracy)\n",
    "mean_value_prec = np.mean(data_precision)\n",
    "std_deviation_prec = np.std(data_precision)\n",
    "mean_value_recall = np.mean(data_recall)\n",
    "std_deviation_recall = np.std(data_recall)"
   ]
  },
  {
   "cell_type": "code",
   "execution_count": 74,
   "id": "63d8cf82-0e80-48ce-9062-2b956573643d",
   "metadata": {},
   "outputs": [
    {
     "name": "stdout",
     "output_type": "stream",
     "text": [
      "0.5955728337561824\n",
      "0.018365684943547757\n"
     ]
    }
   ],
   "source": [
    "print(mean_value_mcc)\n",
    "print(std_deviation_mcc)"
   ]
  },
  {
   "cell_type": "code",
   "execution_count": 75,
   "id": "ca2a7e01-a2ff-40e0-9e2d-938e8af02107",
   "metadata": {},
   "outputs": [
    {
     "name": "stdout",
     "output_type": "stream",
     "text": [
      "0.955342570953485\n",
      "0.0037355586259570916\n"
     ]
    }
   ],
   "source": [
    "print(mean_value_acc)\n",
    "print(std_deviation_acc)"
   ]
  },
  {
   "cell_type": "code",
   "execution_count": 76,
   "id": "9dc2aad2-68b4-4b1e-95bc-b30d0b6b28c3",
   "metadata": {},
   "outputs": [
    {
     "name": "stdout",
     "output_type": "stream",
     "text": [
      "0.6204875251686623\n",
      "0.05035262643931344\n"
     ]
    }
   ],
   "source": [
    "print(mean_value_prec)\n",
    "print(std_deviation_prec)"
   ]
  },
  {
   "cell_type": "code",
   "execution_count": 77,
   "id": "c1667c3c-57db-4805-9a1c-6b5cb63b6a1c",
   "metadata": {},
   "outputs": [
    {
     "name": "stdout",
     "output_type": "stream",
     "text": [
      "0.6210113339145598\n",
      "0.05033388972573444\n"
     ]
    }
   ],
   "source": [
    "print(mean_value_recall)\n",
    "print(std_deviation_recall)"
   ]
  },
  {
   "cell_type": "code",
   "execution_count": 78,
   "id": "43084e1a-4469-4957-b5ea-41281fe9cfa5",
   "metadata": {},
   "outputs": [
    {
     "name": "stdout",
     "output_type": "stream",
     "text": [
      "0.6172675811272945\n",
      "0.016229898598593303\n"
     ]
    }
   ],
   "source": [
    "print(mean_f1_Score)\n",
    "print(std_f1_Score)"
   ]
  },
  {
   "cell_type": "code",
   "execution_count": 79,
   "id": "ef87da0a-a800-4509-b195-263cb45406e1",
   "metadata": {},
   "outputs": [
    {
     "name": "stdout",
     "output_type": "stream",
     "text": [
      "4.835214544792146\n"
     ]
    }
   ],
   "source": [
    "average_threshold = (optimal_threshold1+optimal_threshold2+optimal_threshold3+optimal_threshold4+optimal_threshold5)/5\n",
    "print(average_threshold)"
   ]
  },
  {
   "cell_type": "code",
   "execution_count": 90,
   "id": "00d488f5-0139-4877-8462-54d93d595c95",
   "metadata": {},
   "outputs": [
    {
     "name": "stdout",
     "output_type": "stream",
     "text": [
      "[306, 366, 406, 582, 583, 759, 762, 827, 925, 936]\n"
     ]
    }
   ],
   "source": [
    "# final round with full postive training set and testing with benchmarking set\n",
    "df_trainp2 = pd.read_csv('training_positive.tsv', sep='\\t')\n",
    "signalp_length=[]\n",
    "pept_l=[]\n",
    "pept_l1=[]\n",
    "#to_remove2 =[]\n",
    "for i in df_trainp2['Signal peptide']:\n",
    "    signalp_length.append(i)\n",
    "for j in range(len(signalp_length)):\n",
    "    if signalp_length[j][10] != \".\":\n",
    "        if signalp_length[j][10] != \"?\":\n",
    "            if signalp_length[j][11] != \";\":\n",
    "                pept_l.append(signalp_length[j][10])\n",
    "                pept_l1.append(signalp_length[j][11])\n",
    "for el in range(len(pept_l)):\n",
    "   pept_l[el] = int(pept_l[el]+pept_l1[el])\n",
    "#for k in range(len(pept_l)):\n",
    " #   if pept_l[k] == '.':\n",
    "  #      to_remove2.append(k)\n",
    "  #  if pept_l[k] == \"?\":\n",
    "   #     to_remove2.append(k)\n",
    "   # if pept_l1[k] == \";\":\n",
    "   #    to_remove2.append(k)\n",
    "print(to_remove2)"
   ]
  },
  {
   "cell_type": "code",
   "execution_count": 91,
   "id": "d400cfb2-eaa2-478e-af9f-29122bc0776b",
   "metadata": {},
   "outputs": [
    {
     "name": "stdout",
     "output_type": "stream",
     "text": [
      "932\n"
     ]
    }
   ],
   "source": [
    "print(len(pept_l))\n",
    "file_pept_length = open(\"pept_l_r_b.text\", \"w\")\n",
    "for element in range(len(pept_l)):\n",
    "    file_pept_length.write(str(pept_l[element]) + \"\\n\")"
   ]
  },
  {
   "cell_type": "code",
   "execution_count": 92,
   "id": "ea04c5e9-1459-4098-b001-f183b962a982",
   "metadata": {},
   "outputs": [],
   "source": [
    "%%bash\n",
    "#final round:training\n",
    "python vH_train1.py training_positive.fasta matrixb.text pept_l_r_b.text"
   ]
  },
  {
   "cell_type": "code",
   "execution_count": 93,
   "id": "d6026065-2c9b-4f3a-9c0d-ab2e87da5351",
   "metadata": {},
   "outputs": [],
   "source": [
    "%%bash\n",
    "#final round:testing with benchmarking\n",
    "python vH_predict-Copy1.py benchmarking_posneg.fasta  matrixb.text result_test_roundb.text"
   ]
  },
  {
   "cell_type": "code",
   "execution_count": 94,
   "id": "ef45e9bf-5826-44a6-9250-3683f7fe7e4d",
   "metadata": {},
   "outputs": [],
   "source": [
    "# creating dataframe of the benchmarking dataset for the final round\n",
    "df_training_b = pd.read_csv('benchmarking_posneg.tsv', sep='\\t')"
   ]
  },
  {
   "cell_type": "code",
   "execution_count": 95,
   "id": "df16ebd2-c6dd-4d4f-8fc5-de347fe80f3e",
   "metadata": {},
   "outputs": [
    {
     "name": "stdout",
     "output_type": "stream",
     "text": [
      "1840\n"
     ]
    }
   ],
   "source": [
    "#final round\n",
    "#creating a list with the labeling of the proteins containing or not containing the signal peptide in the subset for validation\n",
    "pept_pr1 = []\n",
    "pept_label_b = []\n",
    "for i in df_training_b[\"Signal peptide\"]:\n",
    "    pept_pr1.append(str(i))\n",
    "for j in range(len(pept_pr1)):\n",
    "    if pept_pr1[j] == \"nan\" :\n",
    "        pept_label_b.append(0)\n",
    "    else:\n",
    "        pept_label_b.append(1)\n",
    "\n",
    "print(len(pept_label_b))"
   ]
  },
  {
   "cell_type": "code",
   "execution_count": 96,
   "id": "e9799598-2c2e-42d6-b8b8-04cc01ee103c",
   "metadata": {},
   "outputs": [],
   "source": [
    "# binary representation of the true (observed) class for each validation example: 0=NO_SP, 1=SP\n",
    "#pept_label_b\n",
    "#opening the necessary files\n",
    "file_testing_b = open(\"result_test_roundb.text\",\"r\")\n",
    "y_test_scores = []\n",
    "for result1 in file_testing_b:\n",
    "    y_test_scores.append(float(result1.strip()))\n",
    "\n",
    "# SP detection scores assigned to each testing example by means of weight matrix scanning\n",
    "# classify examples in the testing set\n",
    "y_pred_testb = [int(t_s >= average_threshold) for t_s in y_test_scores]"
   ]
  },
  {
   "cell_type": "code",
   "execution_count": 97,
   "id": "6b2502e4-144e-4565-b5c5-c62492bf286f",
   "metadata": {},
   "outputs": [
    {
     "name": "stdout",
     "output_type": "stream",
     "text": [
      "0.6521301541621106\n"
     ]
    }
   ],
   "source": [
    "# Calculate MCC\n",
    "mcc_b = matthews_corrcoef(pept_label_b, y_pred_testb)\n",
    "print(mcc_b)"
   ]
  },
  {
   "cell_type": "code",
   "execution_count": 98,
   "id": "cb21bd3c-d51c-4bc0-b034-a1c7308ceaf0",
   "metadata": {},
   "outputs": [
    {
     "name": "stdout",
     "output_type": "stream",
     "text": [
      "0.5955728337561824\n"
     ]
    }
   ],
   "source": [
    "average_mcc_rounds1to5 = (mcc1+ mcc2 + mcc3 + mcc4 + mcc5)/5\n",
    "print(average_mcc_rounds1to5)"
   ]
  },
  {
   "cell_type": "code",
   "execution_count": 103,
   "id": "54307153-4eba-4119-b691-3981a74d9718",
   "metadata": {},
   "outputs": [
    {
     "name": "stdout",
     "output_type": "stream",
     "text": [
      "precision:  0.8053097345132744 recall:  0.56875 accuracy:  0.9505434782608696\n"
     ]
    }
   ],
   "source": [
    "precisionb = precision_score(pept_label_b, y_pred_testb)\n",
    "recallb = recall_score(pept_label_b, y_pred_testb)\n",
    "accuracyb = accuracy_score(pept_label_b, y_pred_testb)\n",
    "print(\"precision: \", precisionb,\"recall: \", recallb,\"accuracy: \", accuracyb)"
   ]
  },
  {
   "cell_type": "code",
   "execution_count": 104,
   "id": "7108cabb-afaa-40dc-8d28-562b483db144",
   "metadata": {},
   "outputs": [],
   "source": [
    "F1_Scoreb = 2 * (Precisionb * Recallb) / (Precisionb + Recallb)"
   ]
  },
  {
   "cell_type": "code",
   "execution_count": 105,
   "id": "31275be3-bafa-42b2-84b6-632ddb6b0394",
   "metadata": {},
   "outputs": [
    {
     "data": {
      "text/plain": [
       "0.6666666666666666"
      ]
     },
     "execution_count": 105,
     "metadata": {},
     "output_type": "execute_result"
    }
   ],
   "source": [
    "F1_Scoreb"
   ]
  },
  {
   "cell_type": "code",
   "execution_count": 106,
   "id": "f62f6534-cbdd-4676-942b-1461bea5cca8",
   "metadata": {},
   "outputs": [],
   "source": [
    "confusion_matrix_result_b = confusion_matrix(pept_label_b, y_pred_testb)"
   ]
  },
  {
   "cell_type": "code",
   "execution_count": 107,
   "id": "bdb83aa7-e342-4b5a-bba7-ebaf99c1c19a",
   "metadata": {},
   "outputs": [
    {
     "data": {
      "text/plain": [
       "array([[1658,   22],\n",
       "       [  69,   91]])"
      ]
     },
     "execution_count": 107,
     "metadata": {},
     "output_type": "execute_result"
    }
   ],
   "source": [
    "confusion_matrix_result_b"
   ]
  },
  {
   "cell_type": "code",
   "execution_count": 108,
   "id": "c0609c66-27b7-4657-9101-4bbde5e26a83",
   "metadata": {},
   "outputs": [],
   "source": [
    "#72 false negatives and 19 false positives"
   ]
  },
  {
   "cell_type": "code",
   "execution_count": 109,
   "id": "a039e31a-8c44-4936-8922-73a980c58fc5",
   "metadata": {},
   "outputs": [],
   "source": [
    "false_pos = []\n",
    "false_neg = []\n",
    "true_neg = []\n",
    "true_pos = []\n",
    "for i in range (len(pept_label_b)):\n",
    "    if pept_label_b[i] == 0:\n",
    "        if y_pred_testb[i] != 0:\n",
    "            false_pos.append(i)\n",
    "        if y_pred_testb[i] == 0:\n",
    "            true_neg.append(i)\n",
    "    if pept_label_b[i] == 1:\n",
    "        if y_pred_testb[i] != 1:\n",
    "            false_neg.append(i)\n",
    "        if y_pred_testb[i] == 1:\n",
    "            true_pos.append(i)"
   ]
  },
  {
   "cell_type": "code",
   "execution_count": 110,
   "id": "83795ff0-c6d1-4b21-a046-7ff6fe7f07ce",
   "metadata": {},
   "outputs": [
    {
     "name": "stdout",
     "output_type": "stream",
     "text": [
      "fp:  [172, 287, 373, 382, 383, 421, 488, 496, 603, 644, 682, 895, 1066, 1225, 1280, 1467, 1469, 1470, 1612, 1803, 1817, 1835]\n",
      "fn:  [1, 3, 5, 9, 10, 13, 14, 17, 18, 22, 23, 24, 25, 30, 31, 32, 35, 37, 38, 39, 42, 44, 45, 47, 50, 51, 55, 56, 57, 61, 63, 65, 69, 71, 75, 76, 81, 82, 85, 86, 87, 89, 94, 98, 99, 103, 109, 111, 115, 117, 122, 125, 126, 127, 128, 130, 132, 135, 138, 139, 140, 142, 143, 146, 147, 149, 150, 155, 156]\n"
     ]
    }
   ],
   "source": [
    "print(\"fp: \", false_pos)\n",
    "print(\"fn: \", false_neg)"
   ]
  },
  {
   "cell_type": "code",
   "execution_count": 111,
   "id": "4e73c11b-210c-47c9-8b42-31e304f4c7f1",
   "metadata": {},
   "outputs": [
    {
     "data": {
      "text/html": [
       "<div>\n",
       "<style scoped>\n",
       "    .dataframe tbody tr th:only-of-type {\n",
       "        vertical-align: middle;\n",
       "    }\n",
       "\n",
       "    .dataframe tbody tr th {\n",
       "        vertical-align: top;\n",
       "    }\n",
       "\n",
       "    .dataframe thead th {\n",
       "        text-align: right;\n",
       "    }\n",
       "</style>\n",
       "<table border=\"1\" class=\"dataframe\">\n",
       "  <thead>\n",
       "    <tr style=\"text-align: right;\">\n",
       "      <th></th>\n",
       "      <th>From</th>\n",
       "      <th>Entry</th>\n",
       "      <th>Reviewed</th>\n",
       "      <th>Entry Name</th>\n",
       "      <th>Length</th>\n",
       "      <th>Signal peptide</th>\n",
       "      <th>Taxonomic lineage</th>\n",
       "    </tr>\n",
       "  </thead>\n",
       "  <tbody>\n",
       "    <tr>\n",
       "      <th>0</th>\n",
       "      <td>P54900</td>\n",
       "      <td>P54900</td>\n",
       "      <td>reviewed</td>\n",
       "      <td>SCN2B_RAT</td>\n",
       "      <td>215</td>\n",
       "      <td>SIGNAL 1..29; /evidence=\"ECO:0000269|PubMed:85...</td>\n",
       "      <td>cellular organisms (no rank), Eukaryota (super...</td>\n",
       "    </tr>\n",
       "    <tr>\n",
       "      <th>1</th>\n",
       "      <td>P28335</td>\n",
       "      <td>P28335</td>\n",
       "      <td>reviewed</td>\n",
       "      <td>5HT2C_HUMAN</td>\n",
       "      <td>458</td>\n",
       "      <td>SIGNAL 1..32; /evidence=\"ECO:0000269|PubMed:22...</td>\n",
       "      <td>cellular organisms (no rank), Eukaryota (super...</td>\n",
       "    </tr>\n",
       "    <tr>\n",
       "      <th>2</th>\n",
       "      <td>P15018</td>\n",
       "      <td>P15018</td>\n",
       "      <td>reviewed</td>\n",
       "      <td>LIF_HUMAN</td>\n",
       "      <td>202</td>\n",
       "      <td>SIGNAL 1..22; /evidence=\"ECO:0000269|PubMed:27...</td>\n",
       "      <td>cellular organisms (no rank), Eukaryota (super...</td>\n",
       "    </tr>\n",
       "    <tr>\n",
       "      <th>3</th>\n",
       "      <td>O00206</td>\n",
       "      <td>O00206</td>\n",
       "      <td>reviewed</td>\n",
       "      <td>TLR4_HUMAN</td>\n",
       "      <td>839</td>\n",
       "      <td>SIGNAL 1..23; /evidence=\"ECO:0000269|PubMed:15...</td>\n",
       "      <td>cellular organisms (no rank), Eukaryota (super...</td>\n",
       "    </tr>\n",
       "    <tr>\n",
       "      <th>4</th>\n",
       "      <td>P54803</td>\n",
       "      <td>P54803</td>\n",
       "      <td>reviewed</td>\n",
       "      <td>GALC_HUMAN</td>\n",
       "      <td>685</td>\n",
       "      <td>SIGNAL 1..42; /evidence=\"ECO:0000269|PubMed:82...</td>\n",
       "      <td>cellular organisms (no rank), Eukaryota (super...</td>\n",
       "    </tr>\n",
       "    <tr>\n",
       "      <th>...</th>\n",
       "      <td>...</td>\n",
       "      <td>...</td>\n",
       "      <td>...</td>\n",
       "      <td>...</td>\n",
       "      <td>...</td>\n",
       "      <td>...</td>\n",
       "      <td>...</td>\n",
       "    </tr>\n",
       "    <tr>\n",
       "      <th>67</th>\n",
       "      <td>P04937</td>\n",
       "      <td>P04937</td>\n",
       "      <td>reviewed</td>\n",
       "      <td>FINC_RAT</td>\n",
       "      <td>2477</td>\n",
       "      <td>SIGNAL 1..24; /evidence=\"ECO:0000269|PubMed:26...</td>\n",
       "      <td>cellular organisms (no rank), Eukaryota (super...</td>\n",
       "    </tr>\n",
       "    <tr>\n",
       "      <th>68</th>\n",
       "      <td>Q13231</td>\n",
       "      <td>Q13231</td>\n",
       "      <td>reviewed</td>\n",
       "      <td>CHIT1_HUMAN</td>\n",
       "      <td>466</td>\n",
       "      <td>SIGNAL 1..21; /evidence=\"ECO:0000269|PubMed:78...</td>\n",
       "      <td>cellular organisms (no rank), Eukaryota (super...</td>\n",
       "    </tr>\n",
       "    <tr>\n",
       "      <th>69</th>\n",
       "      <td>P29459</td>\n",
       "      <td>P29459</td>\n",
       "      <td>reviewed</td>\n",
       "      <td>IL12A_HUMAN</td>\n",
       "      <td>219</td>\n",
       "      <td>SIGNAL 1..22; /evidence=\"ECO:0000269|PubMed:22...</td>\n",
       "      <td>cellular organisms (no rank), Eukaryota (super...</td>\n",
       "    </tr>\n",
       "    <tr>\n",
       "      <th>70</th>\n",
       "      <td>P0DPU1</td>\n",
       "      <td>P0DPU1</td>\n",
       "      <td>reviewed</td>\n",
       "      <td>VA576_SCODE</td>\n",
       "      <td>210</td>\n",
       "      <td>SIGNAL 1..23; /evidence=\"ECO:0000269|PubMed:23...</td>\n",
       "      <td>cellular organisms (no rank), Eukaryota (super...</td>\n",
       "    </tr>\n",
       "    <tr>\n",
       "      <th>71</th>\n",
       "      <td>Q8NC67</td>\n",
       "      <td>Q8NC67</td>\n",
       "      <td>reviewed</td>\n",
       "      <td>NETO2_HUMAN</td>\n",
       "      <td>525</td>\n",
       "      <td>SIGNAL 1..22; /evidence=\"ECO:0000269|PubMed:15...</td>\n",
       "      <td>cellular organisms (no rank), Eukaryota (super...</td>\n",
       "    </tr>\n",
       "  </tbody>\n",
       "</table>\n",
       "<p>72 rows × 7 columns</p>\n",
       "</div>"
      ],
      "text/plain": [
       "      From   Entry  Reviewed   Entry Name  Length  \\\n",
       "0   P54900  P54900  reviewed    SCN2B_RAT     215   \n",
       "1   P28335  P28335  reviewed  5HT2C_HUMAN     458   \n",
       "2   P15018  P15018  reviewed    LIF_HUMAN     202   \n",
       "3   O00206  O00206  reviewed   TLR4_HUMAN     839   \n",
       "4   P54803  P54803  reviewed   GALC_HUMAN     685   \n",
       "..     ...     ...       ...          ...     ...   \n",
       "67  P04937  P04937  reviewed     FINC_RAT    2477   \n",
       "68  Q13231  Q13231  reviewed  CHIT1_HUMAN     466   \n",
       "69  P29459  P29459  reviewed  IL12A_HUMAN     219   \n",
       "70  P0DPU1  P0DPU1  reviewed  VA576_SCODE     210   \n",
       "71  Q8NC67  Q8NC67  reviewed  NETO2_HUMAN     525   \n",
       "\n",
       "                                       Signal peptide  \\\n",
       "0   SIGNAL 1..29; /evidence=\"ECO:0000269|PubMed:85...   \n",
       "1   SIGNAL 1..32; /evidence=\"ECO:0000269|PubMed:22...   \n",
       "2   SIGNAL 1..22; /evidence=\"ECO:0000269|PubMed:27...   \n",
       "3   SIGNAL 1..23; /evidence=\"ECO:0000269|PubMed:15...   \n",
       "4   SIGNAL 1..42; /evidence=\"ECO:0000269|PubMed:82...   \n",
       "..                                                ...   \n",
       "67  SIGNAL 1..24; /evidence=\"ECO:0000269|PubMed:26...   \n",
       "68  SIGNAL 1..21; /evidence=\"ECO:0000269|PubMed:78...   \n",
       "69  SIGNAL 1..22; /evidence=\"ECO:0000269|PubMed:22...   \n",
       "70  SIGNAL 1..23; /evidence=\"ECO:0000269|PubMed:23...   \n",
       "71  SIGNAL 1..22; /evidence=\"ECO:0000269|PubMed:15...   \n",
       "\n",
       "                                    Taxonomic lineage  \n",
       "0   cellular organisms (no rank), Eukaryota (super...  \n",
       "1   cellular organisms (no rank), Eukaryota (super...  \n",
       "2   cellular organisms (no rank), Eukaryota (super...  \n",
       "3   cellular organisms (no rank), Eukaryota (super...  \n",
       "4   cellular organisms (no rank), Eukaryota (super...  \n",
       "..                                                ...  \n",
       "67  cellular organisms (no rank), Eukaryota (super...  \n",
       "68  cellular organisms (no rank), Eukaryota (super...  \n",
       "69  cellular organisms (no rank), Eukaryota (super...  \n",
       "70  cellular organisms (no rank), Eukaryota (super...  \n",
       "71  cellular organisms (no rank), Eukaryota (super...  \n",
       "\n",
       "[72 rows x 7 columns]"
      ]
     },
     "execution_count": 111,
     "metadata": {},
     "output_type": "execute_result"
    }
   ],
   "source": [
    "### false negative analysis\n",
    "df2 = pd.read_csv('fn_for_logo.tsv', sep='\\t')\n",
    "df2"
   ]
  },
  {
   "cell_type": "code",
   "execution_count": 112,
   "id": "07e3e197-acce-462e-9b1f-b9bb573f5e50",
   "metadata": {},
   "outputs": [
    {
     "name": "stdout",
     "output_type": "stream",
     "text": [
      "67\n"
     ]
    }
   ],
   "source": [
    "# retrieving the length of peptides from false negatives in benchmarking\n",
    "df2\n",
    "signalp_length=[]\n",
    "pept_l=[]\n",
    "pept_l1=[]\n",
    "#to_remove =[]\n",
    "for i in df2['Signal peptide']:\n",
    "    signalp_length.append(i)\n",
    "for j in range(len(signalp_length)):\n",
    "    if signalp_length[j][10] != \".\":\n",
    "        if signalp_length[j][10] != \"?\":\n",
    "            pept_l.append(signalp_length[j][10])\n",
    "            pept_l1.append(signalp_length[j][11])\n",
    "for el in range(len(pept_l)):\n",
    "   pept_l[el] = int(pept_l[el]+pept_l1[el])\n",
    "#for k in range(len(pept_l)):\n",
    "   # if pept_l[k] == '.':\n",
    "   #     to_remove.append(k)\n",
    "   # if pept_l[k] == \"?\":\n",
    "       # to_remove.append(k)\n",
    "print(len(pept_l))"
   ]
  },
  {
   "cell_type": "code",
   "execution_count": 113,
   "id": "2bf244d6-a568-461e-bf00-61609f701456",
   "metadata": {},
   "outputs": [
    {
     "name": "stdout",
     "output_type": "stream",
     "text": [
      "72\n",
      "['LSLFFSLVPSGRSME', 'VWQSDISVSPVAAIV', 'PLLLVLHWKHGAGSP', 'LIPAMAFLSCVRPES', 'PLLLCALLAPGGAYV', 'LFQLMFLTNVCLSDL', 'FLMLGMIVEEGIAYV', 'ILLLSTTVPEVHSKS', 'DGYVPTSVSCPASRP', 'GLLLLLAASAQAGGL', 'VVVVASLASSGVQGR', 'MLSAKVGSGALTSTE', 'DLLLPLVLLELLVGI', 'TPALADYSISVNDDG', '', 'LSAEPVPAARSEDRY', 'YPGARTASGTRPWLL', 'LLLFYFSETSLGAPC', 'WEYWAGFLVCAFWIP', 'LPWPGPPHPAMLLIS', 'MIVMLAICFLARSDG', 'AIITALCAMQVICED', 'GGLLPFGMLCASSTT', 'RWLLRTKRLHWSRLL', 'TYLLAIIALAVSSVF', 'LTAASLIGYSTIVSA', 'IPPTLAQDDSRYTKF', 'YNLPNNLKQIYDKHK', 'IISGELYAEEKPCGF', 'ASGLVLAVSLLLPKA', 'GLILAFGISSEGSQI', 'LSLALLGIQVARSAI', 'TGRNIYNTCRLGGGS', 'APLSWDLPEPRSRAG', 'PRLLLLAVLLAAHPD', 'GVWLLLSQLPREIPA', 'CGADSCEYPDCVFTG', 'PAAQSARRPPPLLPL', 'PQQLLQLVQFQEVDT', 'ILMKSCLAFKNDATE', 'LGSCGTPALGSLLFL', 'REGEDLTLEEKAEIC', 'KGARGFGRGALIRLN', 'SCFLSLLLLLLQLSC', 'VLTVANVPTLTTSDS', 'VTLLLLLLLPPALLS', 'TGSRQDATALPSMSS', 'RSCFAPGFVFGTASS', 'SGLLMLLGFLCPRSS', 'LCMLMVTPMTGARSD', 'LASVLLTIAVNAENA', 'NDVSSQGLGSNKNWK', 'LSRVSIMAGSLTGLL', 'VFTIGLTLLLGVQAM', 'LFLSVILITSYFVTP', 'LFLHLSLLGCRSHPV', 'LFLGVGVRAEEAGAR', 'CLYILVLVWVVACEP', 'KAFKGLFEKAANKYL', 'LVLCIFIQSSALGQS', 'VAITVAILSIYQETA', 'MMAVFFMFFLLLLSS', 'TVLATVLLLSFGSVA', 'HKGQVPWVGLLLTAS', 'SFYIIVSLITTMTIG', 'LLLAVTSCLATCQSL', 'WLWATLLIPAAAVYE']\n"
     ]
    }
   ],
   "source": [
    "logo_imput = open(\"logo_file.txt\",\"w\")\n",
    "new_seq =[]\n",
    "with open(\"fn_for_logo.fasta\", \"r\") as file_for_logo:\n",
    "    seq = \"\"\n",
    "    lst_sequences = []\n",
    "\n",
    "    for line in file_for_logo:\n",
    "        line = line.strip()\n",
    "        if line.startswith(\">\"):\n",
    "            if seq:\n",
    "                lst_sequences.append(seq)\n",
    "            seq = \"\"\n",
    "        else:\n",
    "            seq += line\n",
    "\n",
    "    if seq:\n",
    "        lst_sequences.append(seq)\n",
    "to_remove.sort(reverse=True)  # Sort in reverse order\n",
    "for index in to_remove:  # Iterate through to_remove2 in reverse order\n",
    "    if index < len(lst_sequences):\n",
    "        lst_sequences.pop(index)  # Remove element at the specified index\n",
    "# Now, lst_sequences contains the elements after removing those at the indices in to_remove\n",
    "print(len(lst_sequences))\n",
    "for index in range(len(pept_l)):\n",
    "    new_seq.append(lst_sequences[index][pept_l[index]-13:pept_l[index]+2])\n",
    "for subseq in range(len(new_seq)):\n",
    "    logo_imput.write(new_seq[subseq] + \"\\n\")\n",
    "print(new_seq)"
   ]
  },
  {
   "cell_type": "code",
   "execution_count": 114,
   "id": "44afb6d4-40c4-475d-9cef-207fc9882f6f",
   "metadata": {},
   "outputs": [],
   "source": [
    "file_bench = open(\"benchmarking_posneg.txt\",\"r\")\n",
    "fn_ids = open( \"fn_ids.txt\", \"w\")\n",
    "prot_id = []\n",
    "fn_id = []\n",
    "for line in file_bench:\n",
    "    prot_id.append(line)\n",
    "for i in false_neg:\n",
    "    fn_id.append(prot_id[i])\n",
    "    fn_ids.write(prot_id[i])"
   ]
  },
  {
   "cell_type": "code",
   "execution_count": 115,
   "id": "b74493e0-70b0-4043-98e1-1863345bf335",
   "metadata": {},
   "outputs": [],
   "source": [
    "from sklearn.metrics import roc_curve, auc\n",
    "import matplotlib.pyplot as plt\n"
   ]
  },
  {
   "cell_type": "code",
   "execution_count": 116,
   "id": "6af26d7e-b838-46ef-b8d7-246c21ce92ce",
   "metadata": {},
   "outputs": [],
   "source": [
    "fpr, tpr, thresholds = roc_curve(pept_label_b, y_pred_testb)\n"
   ]
  },
  {
   "cell_type": "code",
   "execution_count": 117,
   "id": "3601526f-4438-488b-a7fd-0f4510104cd2",
   "metadata": {},
   "outputs": [
    {
     "name": "stdout",
     "output_type": "stream",
     "text": [
      "AUC: 0.7778273809523811\n"
     ]
    }
   ],
   "source": [
    "roc_auc = auc(fpr, tpr)\n",
    "print(\"AUC:\", roc_auc)\n"
   ]
  },
  {
   "cell_type": "code",
   "execution_count": 118,
   "id": "cac77b2e-9534-4b1c-8ce9-46ff7ea7148b",
   "metadata": {},
   "outputs": [
    {
     "data": {
      "image/png": "[encoded data removed]",
      "text/plain": [
       "<Figure size 800x600 with 1 Axes>"
      ]
     },
     "metadata": {},
     "output_type": "display_data"
    }
   ],
   "source": [
    "plt.figure(figsize=(8, 6))\n",
    "plt.plot(fpr, tpr, color='darkorange', lw=2, label='ROC curve (area = %0.2f)' % roc_auc)\n",
    "plt.plot([0, 1], [0, 1], color='navy', lw=2, linestyle='--')\n",
    "plt.xlim([0.0, 1.0])\n",
    "plt.ylim([0.0, 1.05])\n",
    "plt.xlabel('False Positive Rate')\n",
    "plt.ylabel('True Positive Rate')\n",
    "plt.title('Receiver Operating Characteristic (ROC) Curve')\n",
    "plt.legend(loc=\"lower right\")\n",
    "plt.show()"
   ]
  },
  {
   "cell_type": "code",
   "execution_count": null,
   "id": "ad5eeb86-4a6b-4529-bb75-798c8b945faa",
   "metadata": {},
   "outputs": [],
   "source": []
  },
  {
   "cell_type": "code",
   "execution_count": null,
   "id": "bf3ba5ed-1168-407b-ad22-a1a728d3f3c0",
   "metadata": {},
   "outputs": [],
   "source": []
  }
 ],
 "metadata": {
  "kernelspec": {
   "display_name": "Python 3 (ipykernel)",
   "language": "python",
   "name": "python3"
  },
  "language_info": {
   "codemirror_mode": {
    "name": "ipython",
    "version": 3
   },
   "file_extension": ".py",
   "mimetype": "text/x-python",
   "name": "python",
   "nbconvert_exporter": "python",
   "pygments_lexer": "ipython3",
   "version": "3.11.4"
  }
 },
 "nbformat": 4,
 "nbformat_minor": 5
}
