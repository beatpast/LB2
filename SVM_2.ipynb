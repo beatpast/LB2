{
 "cells": [
  {
   "cell_type": "code",
   "execution_count": 130,
   "id": "c877d9c4-ef04-4718-b9b6-5a0addac6a7b",
   "metadata": {},
   "outputs": [],
   "source": [
    "### creating a svm model that predicts the presence of signal peptide after encoding the target sequences in a vector of 22 values (20 frequencies of residues, 1 value for position of maximum position hydrophobicity and 1 value for mean value of hydrophocity)"
   ]
  },
  {
   "cell_type": "code",
   "execution_count": 131,
   "id": "65bf5bba-2bda-4058-b71f-3c1cfe61a763",
   "metadata": {},
   "outputs": [
    {
     "name": "stdout",
     "output_type": "stream",
     "text": [
      "Requirement already satisfied: biopython in /opt/conda/lib/python3.11/site-packages (1.81)\n",
      "Requirement already satisfied: numpy in /opt/conda/lib/python3.11/site-packages (from biopython) (1.24.4)\n",
      "Note: you may need to restart the kernel to use updated packages.\n",
      "Requirement already satisfied: pandas in /opt/conda/lib/python3.11/site-packages (2.0.3)\n",
      "Requirement already satisfied: python-dateutil>=2.8.2 in /opt/conda/lib/python3.11/site-packages (from pandas) (2.8.2)\n",
      "Requirement already satisfied: pytz>=2020.1 in /opt/conda/lib/python3.11/site-packages (from pandas) (2023.3)\n",
      "Requirement already satisfied: tzdata>=2022.1 in /opt/conda/lib/python3.11/site-packages (from pandas) (2023.3)\n",
      "Requirement already satisfied: numpy>=1.21.0 in /opt/conda/lib/python3.11/site-packages (from pandas) (1.24.4)\n",
      "Requirement already satisfied: six>=1.5 in /opt/conda/lib/python3.11/site-packages (from python-dateutil>=2.8.2->pandas) (1.16.0)\n",
      "Note: you may need to restart the kernel to use updated packages.\n",
      "Requirement already satisfied: seaborn in /opt/conda/lib/python3.11/site-packages (0.12.2)\n",
      "Requirement already satisfied: numpy!=1.24.0,>=1.17 in /opt/conda/lib/python3.11/site-packages (from seaborn) (1.24.4)\n",
      "Requirement already satisfied: pandas>=0.25 in /opt/conda/lib/python3.11/site-packages (from seaborn) (2.0.3)\n",
      "Requirement already satisfied: matplotlib!=3.6.1,>=3.1 in /opt/conda/lib/python3.11/site-packages (from seaborn) (3.7.2)\n",
      "Requirement already satisfied: contourpy>=1.0.1 in /opt/conda/lib/python3.11/site-packages (from matplotlib!=3.6.1,>=3.1->seaborn) (1.1.0)\n",
      "Requirement already satisfied: cycler>=0.10 in /opt/conda/lib/python3.11/site-packages (from matplotlib!=3.6.1,>=3.1->seaborn) (0.11.0)\n",
      "Requirement already satisfied: fonttools>=4.22.0 in /opt/conda/lib/python3.11/site-packages (from matplotlib!=3.6.1,>=3.1->seaborn) (4.42.1)\n",
      "Requirement already satisfied: kiwisolver>=1.0.1 in /opt/conda/lib/python3.11/site-packages (from matplotlib!=3.6.1,>=3.1->seaborn) (1.4.4)\n",
      "Requirement already satisfied: packaging>=20.0 in /opt/conda/lib/python3.11/site-packages (from matplotlib!=3.6.1,>=3.1->seaborn) (23.1)\n",
      "Requirement already satisfied: pillow>=6.2.0 in /opt/conda/lib/python3.11/site-packages (from matplotlib!=3.6.1,>=3.1->seaborn) (10.0.0)\n",
      "Requirement already satisfied: pyparsing<3.1,>=2.3.1 in /opt/conda/lib/python3.11/site-packages (from matplotlib!=3.6.1,>=3.1->seaborn) (3.0.9)\n",
      "Requirement already satisfied: python-dateutil>=2.7 in /opt/conda/lib/python3.11/site-packages (from matplotlib!=3.6.1,>=3.1->seaborn) (2.8.2)\n",
      "Requirement already satisfied: pytz>=2020.1 in /opt/conda/lib/python3.11/site-packages (from pandas>=0.25->seaborn) (2023.3)\n",
      "Requirement already satisfied: tzdata>=2022.1 in /opt/conda/lib/python3.11/site-packages (from pandas>=0.25->seaborn) (2023.3)\n",
      "Requirement already satisfied: six>=1.5 in /opt/conda/lib/python3.11/site-packages (from python-dateutil>=2.7->matplotlib!=3.6.1,>=3.1->seaborn) (1.16.0)\n",
      "Note: you may need to restart the kernel to use updated packages.\n"
     ]
    }
   ],
   "source": [
    "%pip install biopython\n",
    "%pip install pandas\n",
    "%pip install seaborn"
   ]
  },
  {
   "cell_type": "code",
   "execution_count": 132,
   "id": "a29ece1b-08d4-4759-9867-2c1217e08c88",
   "metadata": {},
   "outputs": [],
   "source": [
    "import pandas as pd\n",
    "from sklearn import svm \n",
    "import numpy as np\n",
    "from sklearn.metrics import precision_score, recall_score, precision_recall_curve, confusion_matrix, matthews_corrcoef, accuracy_score, f1_score"
   ]
  },
  {
   "cell_type": "markdown",
   "id": "297e1041-a731-4ff4-b940-ebe2ec35ac13",
   "metadata": {},
   "source": [
    "### we expect to have Mean length of SPs in the training set of about about 22±5\n",
    "### so we consider K ranging from 20 to 24 (moving K around the mean expected SP length) "
   ]
  },
  {
   "cell_type": "markdown",
   "id": "5a11b296-7665-442a-95eb-5e2c2f11051a",
   "metadata": {},
   "source": [
    "# SVM model:\n",
    "### Creation of 5 cross validation sets for each round of training"
   ]
  },
  {
   "cell_type": "code",
   "execution_count": 3,
   "id": "a2a01926-fd89-4871-8149-2fbe8cb9c297",
   "metadata": {},
   "outputs": [],
   "source": [
    "%%bash\n",
    "#round 1\n",
    "#cat trainings2.text trainings3.text trainings4.text >> trainings234.text\n",
    "#round 2\n",
    "#cat trainings0.text trainings3.text trainings4.text >> trainings034.text\n",
    "#round 3\n",
    "#cat trainings0.text trainings1.text trainings4.text >> trainings014.text\n",
    "#round 4\n",
    "#cat trainings0.text trainings1.text trainings2.text >> trainings012.text\n",
    "#round 5\n",
    "#cat trainings1.text trainings2.text trainings3.text >> trainings123.text"
   ]
  },
  {
   "cell_type": "code",
   "execution_count": 4,
   "id": "29524d84-bad1-4b3d-8234-56a38a3394dd",
   "metadata": {},
   "outputs": [],
   "source": [
    "%%bash\n",
    "#final training round\n",
    "#cat trainings0.text trainings1.text trainings2.text trainings3.text trainings4.text >> trainings01234.text"
   ]
  },
  {
   "cell_type": "markdown",
   "id": "187eec5d-6a49-4341-b07a-4a3528816f2a",
   "metadata": {},
   "source": [
    "# Prepraring data files for the first round \n",
    "first cross validation dataset (trainings234),\n",
    "Testing 80 combinations of parameters on validation dataset 1 (trainings1),\n",
    "testing the model with the best combination of parameters on the testing dataset 0 (trainings0)"
   ]
  },
  {
   "cell_type": "code",
   "execution_count": 12,
   "id": "f54d55ce-fe0b-498c-93e1-a39cc5c13ec5",
   "metadata": {},
   "outputs": [],
   "source": [
    "# creating dataframe of the cross validation dataset of the first round (trainings234)\n",
    "df_training_234 = pd.read_csv('trainings234.tsv', sep='\\t')"
   ]
  },
  {
   "cell_type": "code",
   "execution_count": 13,
   "id": "c08d72b4-0f2b-4f8b-ab15-43b784554c6d",
   "metadata": {},
   "outputs": [
    {
     "name": "stdout",
     "output_type": "stream",
     "text": [
      "9584\n"
     ]
    }
   ],
   "source": [
    "#creating a list with the labeling of the proteins containing or not containing the signal peptide in the subset for cross validation\n",
    "#creating a file with the labeling of the proteins containing or not containing the signal peptide in the subset for validation\n",
    "pept_label = open(\"pept_label_234.txt\",\"w\")\n",
    "pept_pr1 = []\n",
    "pept_label_234 = []\n",
    "for i in df_training_234[\"Signal peptide\"]:\n",
    "    pept_pr1.append(str(i))\n",
    "for j in range(len(pept_pr1)):\n",
    "    if pept_pr1[j] == \"nan\" :\n",
    "        pept_label_234.append(0)\n",
    "    else:\n",
    "        pept_label_234.append(1)\n",
    "\n",
    "for element in range(len(pept_label_234)):\n",
    "    pept_label.write(str(pept_label_234[element]) + \"\\n\")\n",
    "print(len(pept_label_234))"
   ]
  },
  {
   "cell_type": "markdown",
   "id": "d1fee354-25a3-4d40-996e-10e7c3288810",
   "metadata": {},
   "source": [
    "### Running the hp and frequency_hp programme on CROSS VALIDATION dataset (trainings234) with different k (20,21,22,23,24) to get a matrix of vectors with 22 values (20 values of frequencies for each residue and 1 value of maximum position hydrophobicity and 1 value of mean of hydrophobicity)"
   ]
  },
  {
   "cell_type": "code",
   "execution_count": 15,
   "id": "c2353db6-3ca3-4c56-8622-0844b7815396",
   "metadata": {},
   "outputs": [],
   "source": [
    "%%bash\n",
    "#running hp.py programme to have a list with all the position of maximum hydrophobicity values \n",
    "#this programme takes in input the dataset of proteins, k hyperparameter \n",
    "python3 hp.py trainings234.fasta 20 hp_20_1.text\n",
    "python3 hp.py trainings234.fasta 21 hp_21_1.text\n",
    "python3 hp.py trainings234.fasta 22 hp_22_1.text\n",
    "python3 hp.py trainings234.fasta 23 hp_23_1.text\n",
    "python3 hp.py trainings234.fasta 24 hp_24_1.text "
   ]
  },
  {
   "cell_type": "code",
   "execution_count": 16,
   "id": "5d52235f-bf6f-4a8a-b3e6-93692a909d86",
   "metadata": {},
   "outputs": [],
   "source": [
    "%%bash\n",
    "#running hp2.py programme to have a list with all the average hydrophobicity values \n",
    "#this programme takes in input the dataset of proteins, k hyperparameter \n",
    "python3 hp2.py trainings234.fasta 20 hp2_20_1.text\n",
    "python3 hp2.py trainings234.fasta 21 hp2_21_1.text\n",
    "python3 hp2.py trainings234.fasta 22 hp2_22_1.text\n",
    "python3 hp2.py trainings234.fasta 23 hp2_23_1.text\n",
    "python3 hp2.py trainings234.fasta 24 hp2_24_1.text "
   ]
  },
  {
   "cell_type": "code",
   "execution_count": 17,
   "id": "074598db-12c3-47ca-a423-9d393bccbfa4",
   "metadata": {},
   "outputs": [],
   "source": [
    "%%bash\n",
    "#running frequency_hp2.py programme to have a matrix of vectors: each sequence(in the range of k) for each protein is encoded in a vector of 21 values (frequencies of aminoacids + maximum hydrophobicity value)\n",
    "#this programme takes in input the dataset of proteins, k hyperparameter and a file with the maximum and average hydrophobicity value for each protein\n",
    "python3 frequency_hp2.py trainings234.fasta 20 X__hp_train20_1.text hp_20_1.text hp2_20_1.text\n",
    "python3 frequency_hp2.py trainings234.fasta 21 X__hp_train21_1.text hp_21_1.text hp2_21_1.text\n",
    "python3 frequency_hp2.py trainings234.fasta 22 X__hp_train22_1.text hp_22_1.text hp2_22_1.text\n",
    "python3 frequency_hp2.py trainings234.fasta 23 X__hp_train23_1.text hp_23_1.text hp2_23_1.text\n",
    "python3 frequency_hp2.py trainings234.fasta 24 X__hp_train24_1.text hp_24_1.text hp2_24_1.text"
   ]
  },
  {
   "cell_type": "markdown",
   "id": "e0612139-15db-45af-bf76-6e62df046b56",
   "metadata": {},
   "source": [
    "### Running the hp and frequency_hp programme on VALIDATION dataset (trainings1) with different k (20,21,22,23,24) to get a matrix of vectors with 22 values (20 values of frequencies for each residue and 1 value of maximum position hydrophobicity and 1 value for mean of Hydrophobicity)"
   ]
  },
  {
   "cell_type": "code",
   "execution_count": 133,
   "id": "ee1921ed-32cb-405d-809e-5038f5b8c729",
   "metadata": {},
   "outputs": [],
   "source": [
    "%%bash\n",
    "#running hp.py programme to have a list with all the position of maximum position hydrophobicity values \n",
    "#this programme takes in input the dataset of proteins, k hyperparameter \n",
    "python3 hp.py trainings1.fasta 20 hp_20_1_test.text\n",
    "python3 hp.py trainings1.fasta 21 hp_21_1_test.text\n",
    "python3 hp.py trainings1.fasta 22 hp_22_1_test.text\n",
    "python3 hp.py trainings1.fasta 23 hp_23_1_test.text\n",
    "python3 hp.py trainings1.fasta 24 hp_24_1_test.text "
   ]
  },
  {
   "cell_type": "code",
   "execution_count": 19,
   "id": "1302b6a8-6750-4db2-84b6-166fc028b6c7",
   "metadata": {},
   "outputs": [],
   "source": [
    "%%bash\n",
    "#running hp2.py programme to have a list with all the average hydrophobicity values \n",
    "#this programme takes in input the dataset of proteins, k hyperparameter \n",
    "python3 hp2.py trainings1.fasta 20 hp2_20_1_test.text\n",
    "python3 hp2.py trainings1.fasta 21 hp2_21_1_test.text\n",
    "python3 hp2.py trainings1.fasta 22 hp2_22_1_test.text\n",
    "python3 hp2.py trainings1.fasta 23 hp2_23_1_test.text\n",
    "python3 hp2.py trainings1.fasta 24 hp2_24_1_test.text "
   ]
  },
  {
   "cell_type": "code",
   "execution_count": 134,
   "id": "cb932f80-9c1e-4a13-8b2b-56ebf5fce87f",
   "metadata": {},
   "outputs": [],
   "source": [
    "%%bash\n",
    "#running frequency_hp2.py programme to have a matrix of vectors: each sequence(in the range of k) for each protein is encoded in a vector of 22 values (frequencies of aminoacids + maximum hydrophobicity value)\n",
    "#this programme takes in input the dataset of proteins, k hyperparameter and a file with the maximum position and average hydrophobicity value for each protein\n",
    "python3 frequency_hp2.py trainings1.fasta 20 X__hp_test20_1.text hp_20_1_test.text hp2_20_1_test.text \n",
    "python3 frequency_hp2.py trainings1.fasta 21 X__hp_test21_1.text hp_21_1_test.text hp2_21_1_test.text \n",
    "python3 frequency_hp2.py trainings1.fasta 22 X__hp_test22_1.text hp_22_1_test.text hp2_22_1_test.text \n",
    "python3 frequency_hp2.py trainings1.fasta 23 X__hp_test23_1.text hp_23_1_test.text hp2_23_1_test.text \n",
    "python3 frequency_hp2.py trainings1.fasta 24 X__hp_test24_1.text hp_24_1_test.text hp2_24_1_test.text "
   ]
  },
  {
   "cell_type": "code",
   "execution_count": 78,
   "id": "3dd57d48-d07a-4e93-a12c-240d650d0e68",
   "metadata": {},
   "outputs": [],
   "source": [
    "# creating dataframe of the training1\n",
    "df_training_1 = pd.read_csv('trainings1.tsv', sep='\\t')"
   ]
  },
  {
   "cell_type": "code",
   "execution_count": 79,
   "id": "1f807851-5139-43a4-8672-fe42043c5548",
   "metadata": {},
   "outputs": [],
   "source": [
    "import pandas as pd\n",
    "\n",
    "# Remove rows where \"Entry\" column equals \"Q3LFD5\" because obsolete protein not present in fasta file\n",
    "df_training_1 = df_training_1[df_training_1[\"Entry\"] != 'Q3LFD5']"
   ]
  },
  {
   "cell_type": "code",
   "execution_count": 80,
   "id": "07ce06fa-ba55-4648-b09d-f0d728f6da16",
   "metadata": {},
   "outputs": [
    {
     "name": "stdout",
     "output_type": "stream",
     "text": [
      "3193\n"
     ]
    }
   ],
   "source": [
    "#creating a file with the labeling of the proteins containing or not containing the signal peptide in the subset for validation\n",
    "pept_label = open(\"pept_label_1.txt\",\"w\")\n",
    "pept_pr1 = []\n",
    "pept_label_1 = []\n",
    "for i in df_training_1[\"Signal peptide\"]:\n",
    "    pept_pr1.append(str(i))\n",
    "for j in range(len(pept_pr1)):\n",
    "    if pept_pr1[j] == \"nan\" :\n",
    "        pept_label_1.append(0)\n",
    "    else:\n",
    "        pept_label_1.append(1)\n",
    "for element in range(len(pept_label_1)):\n",
    "    pept_label.write(str(pept_label_1[element])+\"\\n\")\n",
    "print(len(pept_label_1))"
   ]
  },
  {
   "cell_type": "markdown",
   "id": "b216def9-8a57-4ad5-b8ff-c81f8a0a6bc6",
   "metadata": {},
   "source": [
    "# Preparing data files for the second round \n",
    "second cross validation dataset (trainings034), Testing 80 combinations of parameters on validation dataset 2 (trainings2), testing the model with the best combination of parameters on the testing dataset 1 (trainings1)"
   ]
  },
  {
   "cell_type": "code",
   "execution_count": 24,
   "id": "612a36e9-a3f4-4950-90f6-1248400fa1c0",
   "metadata": {},
   "outputs": [],
   "source": [
    "# creating dataframe of the cross validation dataset of the second round (trainings034)\n",
    "df_training_034 = pd.read_csv('trainings034.tsv', sep='\\t')\n"
   ]
  },
  {
   "cell_type": "code",
   "execution_count": 25,
   "id": "b24f88cd-0c33-4b80-88d7-3998c6d2fd69",
   "metadata": {},
   "outputs": [
    {
     "name": "stdout",
     "output_type": "stream",
     "text": [
      "9585\n"
     ]
    }
   ],
   "source": [
    "#creating a list with the labeling of the proteins containing or not containing the signal peptide in the subset for cross validation\n",
    "pept_label = open(\"pept_label_034.txt\",\"w\")\n",
    "pept_pr1 = []\n",
    "pept_label_034 = []\n",
    "for i in df_training_034[\"Signal peptide\"]:\n",
    "    pept_pr1.append(str(i))\n",
    "for j in range(len(pept_pr1)):\n",
    "    if pept_pr1[j] == \"nan\" :\n",
    "        pept_label_034.append(0)\n",
    "    else:\n",
    "        pept_label_034.append(1)\n",
    "for element in range(len(pept_label_034)):\n",
    "    pept_label.write(str(pept_label_034[element]) + \"\\n\")\n",
    "\n",
    "print(len(pept_label_034))"
   ]
  },
  {
   "cell_type": "code",
   "execution_count": 135,
   "id": "04e26a4b-1473-478d-9dd4-84e32fac8c93",
   "metadata": {},
   "outputs": [],
   "source": [
    "%%bash\n",
    "#running hp.py programme to have a list with all the maximum position hydrophobicity values \n",
    "#this programme takes in input the dataset of proteins, k hyperparameter \n",
    "python3 hp.py trainings034.fasta 20 hp_20_2.text\n",
    "python3 hp.py trainings034.fasta 21 hp_21_2.text\n",
    "python3 hp.py trainings034.fasta 22 hp_22_2.text\n",
    "python3 hp.py trainings034.fasta 23 hp_23_2.text\n",
    "python3 hp.py trainings034.fasta 24 hp_24_2.text "
   ]
  },
  {
   "cell_type": "code",
   "execution_count": 27,
   "id": "9635c8e8-1c73-4504-a081-f3873bef2692",
   "metadata": {},
   "outputs": [],
   "source": [
    "%%bash\n",
    "#running hp2.py programme to have a list with all the average hydrophobicity values \n",
    "#this programme takes in input the dataset of proteins, k hyperparameter \n",
    "python3 hp2.py trainings034.fasta 20 hp2_20_2.text\n",
    "python3 hp2.py trainings034.fasta 21 hp2_21_2.text\n",
    "python3 hp2.py trainings034.fasta 22 hp2_22_2.text\n",
    "python3 hp2.py trainings034.fasta 23 hp2_23_2.text\n",
    "python3 hp2.py trainings034.fasta 24 hp2_24_2.text "
   ]
  },
  {
   "cell_type": "code",
   "execution_count": 136,
   "id": "5e6d7208-17ce-4ddf-8dfb-2cf2b0373856",
   "metadata": {},
   "outputs": [],
   "source": [
    "%%bash\n",
    "#running frequency_hp.py programme to have a matrix of vectors: each sequence(in the range of k) for each protein is encoded in a vector of 22 values (frequencies of aminoacids + maximum hydrophobicity value)\n",
    "#this programme takes in input the dataset of proteins, k hyperparameter and a file with the maximum position and average hydrophobicity value for each protein\n",
    "python3 frequency_hp2.py trainings034.fasta 20 X__hp_train20_2.text hp_20_2.text hp2_20_2.text \n",
    "python3 frequency_hp2.py trainings034.fasta 21 X__hp_train21_2.text hp_21_2.text hp2_21_2.text\n",
    "python3 frequency_hp2.py trainings034.fasta 22 X__hp_train22_2.text hp_22_2.text hp2_22_2.text\n",
    "python3 frequency_hp2.py trainings034.fasta 23 X__hp_train23_2.text hp_23_2.text hp2_23_2.text\n",
    "python3 frequency_hp2.py trainings034.fasta 24 X__hp_train24_2.text hp_24_2.text hp2_24_2.text"
   ]
  },
  {
   "cell_type": "code",
   "execution_count": 137,
   "id": "87c3dce9-f45c-44a4-a7f1-5359225668ec",
   "metadata": {},
   "outputs": [],
   "source": [
    "%%bash\n",
    "#running hp.py programme to have a list with all the maximum hydrophobicity values \n",
    "#this programme takes in input the dataset of proteins, k hyperparameter \n",
    "python3 hp.py trainings2.fasta 20 hp_20_2_test.text\n",
    "python3 hp.py trainings2.fasta 21 hp_21_2_test.text\n",
    "python3 hp.py trainings2.fasta 22 hp_22_2_test.text\n",
    "python3 hp.py trainings2.fasta 23 hp_23_2_test.text\n",
    "python3 hp.py trainings2.fasta 24 hp_24_2_test.text  "
   ]
  },
  {
   "cell_type": "code",
   "execution_count": 30,
   "id": "6c68424b-783c-4519-aa9d-b31a457a8e76",
   "metadata": {},
   "outputs": [],
   "source": [
    "%%bash\n",
    "#running hp2.py programme to have a list with all the average hydrophobicity values \n",
    "#this programme takes in input the dataset of proteins, k hyperparameter \n",
    "python3 hp2.py trainings2.fasta 20 hp2_20_2_test.text\n",
    "python3 hp2.py trainings2.fasta 21 hp2_21_2_test.text\n",
    "python3 hp2.py trainings2.fasta 22 hp2_22_2_test.text\n",
    "python3 hp2.py trainings2.fasta 23 hp2_23_2_test.text\n",
    "python3 hp2.py trainings2.fasta 24 hp2_24_2_test.text  "
   ]
  },
  {
   "cell_type": "code",
   "execution_count": 138,
   "id": "684325ab-c8e3-4946-8ec5-1b559ca48849",
   "metadata": {},
   "outputs": [],
   "source": [
    "%%bash\n",
    "#running frequency_hp2.py programme to have a matrix of vectors: each sequence(in the range of k) for each protein is encoded in a vector of 22 values (frequencies of aminoacids + maximum hydrophobicity value)\n",
    "#this programme takes in input the dataset of proteins, k hyperparameter and a file with the position of maximum and then average hydrophobicity value for each protein\n",
    "python3 frequency_hp2.py trainings2.fasta 20 X__hp_test20_2.text hp_20_2_test.text hp2_20_2_test.text\n",
    "python3 frequency_hp2.py trainings2.fasta 21 X__hp_test21_2.text hp_21_2_test.text hp2_21_2_test.text\n",
    "python3 frequency_hp2.py trainings2.fasta 22 X__hp_test22_2.text hp_22_2_test.text hp2_22_2_test.text\n",
    "python3 frequency_hp2.py trainings2.fasta 23 X__hp_test23_2.text hp_23_2_test.text hp2_23_2_test.text\n",
    "python3 frequency_hp2.py trainings2.fasta 24 X__hp_test24_2.text hp_24_2_test.text hp2_24_2_test.text"
   ]
  },
  {
   "cell_type": "code",
   "execution_count": 84,
   "id": "c129fa7c-d6b4-46dc-8e73-f8c053c05053",
   "metadata": {},
   "outputs": [],
   "source": [
    "# creating dataframe of the training2\n",
    "df_training_2 = pd.read_csv('trainings2.tsv', sep='\\t')"
   ]
  },
  {
   "cell_type": "code",
   "execution_count": 85,
   "id": "e66a2148-3fa3-4909-847a-eda79a973475",
   "metadata": {},
   "outputs": [
    {
     "data": {
      "text/plain": [
       "3193"
      ]
     },
     "execution_count": 85,
     "metadata": {},
     "output_type": "execute_result"
    }
   ],
   "source": [
    "#creating a file with the labeling of the proteins containing or not containing the signal peptide in the subset for validation\n",
    "pept_label = open(\"pept_label_2.txt\",\"w\")\n",
    "pept_pr2 = []\n",
    "pept_label_2 = []\n",
    "for i in df_training_2[\"Signal peptide\"]:\n",
    "    pept_pr2.append(str(i))\n",
    "for j in range(len(pept_pr2)):\n",
    "    if pept_pr2[j] == \"nan\" :\n",
    "        pept_label_2.append(0)\n",
    "    else:\n",
    "        pept_label_2.append(1)\n",
    "#pept_label_2.pop(-1)\n",
    "for element in range(len(pept_label_2)):\n",
    "    pept_label.write(str(pept_label_2[element])+\"\\n\")\n",
    "len(pept_label_2)"
   ]
  },
  {
   "cell_type": "markdown",
   "id": "181fce19-41da-4baa-880d-d6d0daf6564e",
   "metadata": {},
   "source": [
    "#  Preparing data files for the third round \n",
    "Third cross validation dataset (trainings014), Testing 80 combinations of parameters on validation dataset 3 (trainings3), testing the model with the best combination of parameters on the testing dataset 2 (trainings2)"
   ]
  },
  {
   "cell_type": "code",
   "execution_count": 34,
   "id": "065b9490-77ea-4d14-b43b-7a3542d0b065",
   "metadata": {},
   "outputs": [],
   "source": [
    "# creating dataframe of the cross validation dataset of the second round (trainings034)\n",
    "df_training_014 = pd.read_csv('trainings014.tsv', sep='\\t')"
   ]
  },
  {
   "cell_type": "code",
   "execution_count": 35,
   "id": "2324049d-f3b2-4bc4-a8e0-66520215929c",
   "metadata": {},
   "outputs": [],
   "source": [
    "import pandas as pd\n",
    "\n",
    "# Remove rows where \"Entry\" column equals \"Q3LFD5\" because obsolete protein not present in fasta file\n",
    "df_training_014 = df_training_014[df_training_014[\"Entry\"] != 'Q3LFD5']"
   ]
  },
  {
   "cell_type": "code",
   "execution_count": 36,
   "id": "5378a227-c678-425a-931d-822509ad3eca",
   "metadata": {},
   "outputs": [
    {
     "data": {
      "text/plain": [
       "9584"
      ]
     },
     "execution_count": 36,
     "metadata": {},
     "output_type": "execute_result"
    }
   ],
   "source": [
    "#creating a list with the labeling of the proteins containing or not containing the signal peptide in the subset for cross validation\n",
    "pept_label = open(\"pept_label_014.txt\",\"w\")\n",
    "pept_pr1 = []\n",
    "pept_label_014 = []\n",
    "for i in df_training_014[\"Signal peptide\"]:\n",
    "    pept_pr1.append(str(i))\n",
    "for j in range(len(pept_pr1)):\n",
    "    if pept_pr1[j] == \"nan\" :\n",
    "        pept_label_014.append(0)\n",
    "    else:\n",
    "        pept_label_014.append(1)\n",
    "for element in range(len(pept_label_014)):\n",
    "    pept_label.write(str(pept_label_014[element]) + \"\\n\")\n",
    "len(pept_label_014)"
   ]
  },
  {
   "cell_type": "code",
   "execution_count": 37,
   "id": "3c36a5f0-8bac-4fe3-b30b-07d37b4e66e0",
   "metadata": {},
   "outputs": [],
   "source": [
    "%%bash\n",
    "#running hp.py programme to have a list with all the maximum hydrophobicity values \n",
    "#this programme takes in input the dataset of proteins, k hyperparameter \n",
    "python3 hp.py trainings014.fasta 20 hp_20_3.text\n",
    "python3 hp.py trainings014.fasta 21 hp_21_3.text\n",
    "python3 hp.py trainings014.fasta 22 hp_22_3.text\n",
    "python3 hp.py trainings014.fasta 23 hp_23_3.text\n",
    "python3 hp.py trainings014.fasta 24 hp_24_3.text "
   ]
  },
  {
   "cell_type": "code",
   "execution_count": 38,
   "id": "fb40a10f-c469-43dd-a29c-0dc20f2fed8c",
   "metadata": {},
   "outputs": [],
   "source": [
    "%%bash\n",
    "#running hp2.py programme to have a list with all the average hydrophobicity values \n",
    "#this programme takes in input the dataset of proteins, k hyperparameter \n",
    "python3 hp2.py trainings014.fasta 20 hp2_20_3.text\n",
    "python3 hp2.py trainings014.fasta 21 hp2_21_3.text\n",
    "python3 hp2.py trainings014.fasta 22 hp2_22_3.text\n",
    "python3 hp2.py trainings014.fasta 23 hp2_23_3.text\n",
    "python3 hp2.py trainings014.fasta 24 hp2_24_3.text "
   ]
  },
  {
   "cell_type": "code",
   "execution_count": 139,
   "id": "166c2b2b-101b-43d3-bbdf-76a0b982ce4c",
   "metadata": {},
   "outputs": [],
   "source": [
    "%%bash\n",
    "#running frequency_hp2.py programme to have a matrix of vectors: each sequence(in the range of k) for each protein is encoded in a vector of 22 values (frequencies of aminoacids + maximum hydrophobicity value)\n",
    "#this programme takes in input the dataset of proteins, k hyperparameter and a file with the maximum position and average hydrophobicity value for each protein\n",
    "python3 frequency_hp2.py trainings014.fasta 20 X__hp_train20_3.text hp_20_3.text hp2_20_3.text\n",
    "python3 frequency_hp2.py trainings014.fasta 21 X__hp_train21_3.text hp_21_3.text hp2_20_3.text\n",
    "python3 frequency_hp2.py trainings014.fasta 22 X__hp_train22_3.text hp_22_3.text hp2_20_3.text\n",
    "python3 frequency_hp2.py trainings014.fasta 23 X__hp_train23_3.text hp_23_3.text hp2_20_3.text\n",
    "python3 frequency_hp2.py trainings014.fasta 24 X__hp_train24_3.text hp_24_3.text hp2_20_3.text"
   ]
  },
  {
   "cell_type": "code",
   "execution_count": 140,
   "id": "ade4ed64-f93c-405d-846a-8eb07a671353",
   "metadata": {},
   "outputs": [],
   "source": [
    "%%bash\n",
    "#running hp.py programme to have a list with all the maximum hydrophobicity position values \n",
    "#this programme takes in input the dataset of proteins, k hyperparameter \n",
    "python3 hp.py trainings3.fasta 20 hp_20_3_test.text\n",
    "python3 hp.py trainings3.fasta 21 hp_21_3_test.text\n",
    "python3 hp.py trainings3.fasta 22 hp_22_3_test.text\n",
    "python3 hp.py trainings3.fasta 23 hp_23_3_test.text\n",
    "python3 hp.py trainings3.fasta 24 hp_24_3_test.text"
   ]
  },
  {
   "cell_type": "code",
   "execution_count": 41,
   "id": "212fa9db-9a79-4e77-adb4-869ecce2cb96",
   "metadata": {},
   "outputs": [],
   "source": [
    "%%bash\n",
    "#running hp2.py programme to have a list with all the average hydrophobicity values \n",
    "#this programme takes in input the dataset of proteins, k hyperparameter \n",
    "python3 hp2.py trainings3.fasta 20 hp2_20_3_test.text\n",
    "python3 hp2.py trainings3.fasta 21 hp2_21_3_test.text\n",
    "python3 hp2.py trainings3.fasta 22 hp2_22_3_test.text\n",
    "python3 hp2.py trainings3.fasta 23 hp2_23_3_test.text\n",
    "python3 hp2.py trainings3.fasta 24 hp2_24_3_test.text"
   ]
  },
  {
   "cell_type": "code",
   "execution_count": 141,
   "id": "7fa8ce5b-c0f5-4210-8a60-54313218d0d2",
   "metadata": {},
   "outputs": [],
   "source": [
    "%%bash\n",
    "#running frequency_hp2.py programme to have a matrix of vectors: each sequence(in the range of k) for each protein is encoded in a vector of 22 values (frequencies of aminoacids + maximum hydrophobicity value)\n",
    "#this programme takes in input the dataset of proteins, k hyperparameter and a file with the maximum position and average hydrophobicity value for each protein\n",
    "python3 frequency_hp2.py trainings3.fasta 20 X__hp_test20_3.text hp_20_3_test.text hp2_20_3_test.text\n",
    "python3 frequency_hp2.py trainings3.fasta 21 X__hp_test21_3.text hp_21_3_test.text hp2_21_3_test.text\n",
    "python3 frequency_hp2.py trainings3.fasta 22 X__hp_test22_3.text hp_22_3_test.text hp2_22_3_test.text\n",
    "python3 frequency_hp2.py trainings3.fasta 23 X__hp_test23_3.text hp_23_3_test.text hp2_23_3_test.text\n",
    "python3 frequency_hp2.py trainings3.fasta 24 X__hp_test24_3.text hp_24_3_test.text hp2_24_3_test.text"
   ]
  },
  {
   "cell_type": "code",
   "execution_count": 43,
   "id": "a2094412-362e-468b-b22d-4d2c3bf321ee",
   "metadata": {},
   "outputs": [],
   "source": [
    "# creating dataframe of the training3\n",
    "df_training_3 = pd.read_csv('trainings3.tsv', sep='\\t')"
   ]
  },
  {
   "cell_type": "code",
   "execution_count": 44,
   "id": "ea269a9b-be23-491a-87e8-d1077c126eef",
   "metadata": {},
   "outputs": [
    {
     "data": {
      "text/plain": [
       "3194"
      ]
     },
     "execution_count": 44,
     "metadata": {},
     "output_type": "execute_result"
    }
   ],
   "source": [
    "#creating a file with the labeling of the proteins containing or not containing the signal peptide in the subset for validation\n",
    "pept_label = open(\"pept_label_3.txt\",\"w\")\n",
    "pept_pr3 = []\n",
    "pept_label_3 = []\n",
    "for i in df_training_3[\"Signal peptide\"]:\n",
    "    pept_pr3.append(str(i))\n",
    "for j in range(len(pept_pr3)):\n",
    "    if pept_pr3[j] == \"nan\" :\n",
    "        pept_label_3.append(0)\n",
    "    else:\n",
    "        pept_label_3.append(1)\n",
    "#pept_label_3.pop(-1)\n",
    "for element in range(len(pept_label_3)):\n",
    "    pept_label.write(str(pept_label_3[element])+\"\\n\")\n",
    "len(pept_label_3)"
   ]
  },
  {
   "cell_type": "markdown",
   "id": "b23eede4-6922-48c8-a380-81b63238465f",
   "metadata": {},
   "source": [
    "#  Preparing data files for the fourth round \n",
    "fourth cross validation dataset (trainings012), Testing 80 combinations of parameters on validation dataset 4 (trainings4), testing the model with the best combination of parameters on the testing dataset 3 (trainings3)"
   ]
  },
  {
   "cell_type": "code",
   "execution_count": 45,
   "id": "5818a963-6c85-4b16-9130-dcf0c8d486bc",
   "metadata": {},
   "outputs": [],
   "source": [
    "# creating dataframe of the cross validation dataset of the second round (trainings014)\n",
    "df_training_012 = pd.read_csv('trainings012.tsv', sep='\\t')"
   ]
  },
  {
   "cell_type": "code",
   "execution_count": 46,
   "id": "4660cf2e-9dc0-4123-a7db-a18d923f05b5",
   "metadata": {},
   "outputs": [],
   "source": [
    "import pandas as pd\n",
    "\n",
    "# Remove rows where \"Entry\" column equals \"Q3LFD5\" because obsolete protein not present in fasta file\n",
    "df_training_012 = df_training_012[df_training_012[\"Entry\"] != 'Q3LFD5']\n"
   ]
  },
  {
   "cell_type": "code",
   "execution_count": 47,
   "id": "c3c62c07-382b-4961-8f49-2e66d76c4122",
   "metadata": {},
   "outputs": [
    {
     "data": {
      "text/plain": [
       "9580"
      ]
     },
     "execution_count": 47,
     "metadata": {},
     "output_type": "execute_result"
    }
   ],
   "source": [
    "#creating a list with the labeling of the proteins containing or not containing the signal peptide in the subset for cross validation\n",
    "pept_label = open(\"pept_label_012.txt\",\"w\")\n",
    "pept_pr1 = []\n",
    "pept_label_012 = []\n",
    "for i in df_training_012[\"Signal peptide\"]:\n",
    "    pept_pr1.append(str(i))\n",
    "for j in range(len(pept_pr1)):\n",
    "    if pept_pr1[j] == \"nan\" :\n",
    "        pept_label_012.append(0)\n",
    "    else:\n",
    "        pept_label_012.append(1)\n",
    "for element in range(len(pept_label_012)):\n",
    "    pept_label.write(str(pept_label_012[element]) + \"\\n\")\n",
    "len(pept_label_012)"
   ]
  },
  {
   "cell_type": "code",
   "execution_count": 48,
   "id": "69578c19-3a3b-4c9c-a6de-18f8577335ef",
   "metadata": {},
   "outputs": [],
   "source": [
    "%%bash\n",
    "#running hp.py programme to have a list with all the maximum hydrophobicity values \n",
    "#this programme takes in input the dataset of proteins, k hyperparameter \n",
    "python3 hp.py trainings012.fasta 20 hp_20_4.text\n",
    "python3 hp.py trainings012.fasta 21 hp_21_4.text\n",
    "python3 hp.py trainings012.fasta 22 hp_22_4.text\n",
    "python3 hp.py trainings012.fasta 23 hp_23_4.text\n",
    "python3 hp.py trainings012.fasta 24 hp_24_4.text "
   ]
  },
  {
   "cell_type": "code",
   "execution_count": 49,
   "id": "bf9a5ddb-e676-46cd-9e88-1bc2ccb393db",
   "metadata": {},
   "outputs": [],
   "source": [
    "%%bash\n",
    "#running hp2.py programme to have a list with all the average hydrophobicity values \n",
    "#this programme takes in input the dataset of proteins, k hyperparameter \n",
    "python3 hp2.py trainings012.fasta 20 hp2_20_4.text\n",
    "python3 hp2.py trainings012.fasta 21 hp2_21_4.text\n",
    "python3 hp2.py trainings012.fasta 22 hp2_22_4.text\n",
    "python3 hp2.py trainings012.fasta 23 hp2_23_4.text\n",
    "python3 hp2.py trainings012.fasta 24 hp2_24_4.text"
   ]
  },
  {
   "cell_type": "code",
   "execution_count": 142,
   "id": "fdf86b20-d9b2-43c8-b032-7dc283b491b9",
   "metadata": {},
   "outputs": [],
   "source": [
    "%%bash\n",
    "#running frequency_hp2.py programme to have a matrix of vectors: each sequence(in the range of k) for each protein is encoded in a vector of 22 values (frequencies of aminoacids + maximum hydrophobicity value)\n",
    "#this programme takes in input the dataset of proteins, k hyperparameter and a file with the maximum position and average hydrophobicity value for each protein\n",
    "python3 frequency_hp2.py trainings012.fasta 20 X__hp_train20_4.text hp_20_4.text hp2_20_4.text\n",
    "python3 frequency_hp2.py trainings012.fasta 21 X__hp_train21_4.text hp_21_4.text hp2_21_4.text\n",
    "python3 frequency_hp2.py trainings012.fasta 22 X__hp_train22_4.text hp_22_4.text hp2_22_4.text\n",
    "python3 frequency_hp2.py trainings012.fasta 23 X__hp_train23_4.text hp_23_4.text hp2_23_4.text\n",
    "python3 frequency_hp2.py trainings012.fasta 24 X__hp_train24_4.text hp_24_4.text hp2_24_4.text"
   ]
  },
  {
   "cell_type": "code",
   "execution_count": 51,
   "id": "d997e118-9403-4b23-b61f-c5e8279ffa21",
   "metadata": {},
   "outputs": [],
   "source": [
    "%%bash\n",
    "#running hp.py programme to have a list with all the maximum hydrophobicity values \n",
    "#this programme takes in input the dataset of proteins, k hyperparameter \n",
    "python3 hp.py trainings4.fasta 20 hp_20_4_test.text\n",
    "python3 hp.py trainings4.fasta 21 hp_21_4_test.text\n",
    "python3 hp.py trainings4.fasta 22 hp_22_4_test.text\n",
    "python3 hp.py trainings4.fasta 23 hp_23_4_test.text\n",
    "python3 hp.py trainings4.fasta 24 hp_24_4_test.text"
   ]
  },
  {
   "cell_type": "code",
   "execution_count": 52,
   "id": "3eadfb43-9602-4d33-8dde-4397930c3bf5",
   "metadata": {},
   "outputs": [],
   "source": [
    "%%bash\n",
    "#running hp2.py programme to have a list with all the average hydrophobicity values \n",
    "#this programme takes in input the dataset of proteins, k hyperparameter \n",
    "python3 hp2.py trainings4.fasta 20 hp2_20_4_test.text\n",
    "python3 hp2.py trainings4.fasta 21 hp2_21_4_test.text\n",
    "python3 hp2.py trainings4.fasta 22 hp2_22_4_test.text\n",
    "python3 hp2.py trainings4.fasta 23 hp2_23_4_test.text\n",
    "python3 hp2.py trainings4.fasta 24 hp2_24_4_test.text"
   ]
  },
  {
   "cell_type": "code",
   "execution_count": 53,
   "id": "305d4d59-699f-40eb-861d-c1445f9df648",
   "metadata": {},
   "outputs": [],
   "source": [
    "%%bash\n",
    "#running frequency_hp2.py programme to have a matrix of vectors: each sequence(in the range of k) for each protein is encoded in a vector of 21 values (frequencies of aminoacids + maximum hydrophobicity value)\n",
    "#this programme takes in input the dataset of proteins, k hyperparameter and a file with the maximum and average hydrophobicity value for each protein\n",
    "python3 frequency_hp2.py trainings4.fasta 20 X__hp_test20_4.text hp_20_4_test.text hp2_20_4_test.text\n",
    "python3 frequency_hp2.py trainings4.fasta 21 X__hp_test21_4.text hp_21_4_test.text hp2_21_4_test.text\n",
    "python3 frequency_hp2.py trainings4.fasta 22 X__hp_test22_4.text hp_22_4_test.text hp2_22_4_test.text\n",
    "python3 frequency_hp2.py trainings4.fasta 23 X__hp_test23_4.text hp_23_4_test.text hp2_23_4_test.text\n",
    "python3 frequency_hp2.py trainings4.fasta 24 X__hp_test24_4.text hp_24_4_test.text hp2_24_4_test.text"
   ]
  },
  {
   "cell_type": "code",
   "execution_count": 54,
   "id": "740aa52e-fe25-444e-ae23-386436254988",
   "metadata": {},
   "outputs": [],
   "source": [
    "# creating dataframe of the training4\n",
    "df_training_4 = pd.read_csv('trainings4.tsv', sep='\\t')"
   ]
  },
  {
   "cell_type": "code",
   "execution_count": 55,
   "id": "d896d1cf-9e9f-47be-a8be-831c071b9137",
   "metadata": {},
   "outputs": [
    {
     "data": {
      "text/plain": [
       "3197"
      ]
     },
     "execution_count": 55,
     "metadata": {},
     "output_type": "execute_result"
    }
   ],
   "source": [
    "#creating a file with the labeling of the proteins containing or not containing the signal peptide in the subset for validation\n",
    "pept_label = open(\"pept_label_4.txt\",\"w\")\n",
    "pept_pr4 = []\n",
    "pept_label_4 = []\n",
    "for i in df_training_4[\"Signal peptide\"]:\n",
    "    pept_pr4.append(str(i))\n",
    "for j in range(len(pept_pr4)):\n",
    "    if pept_pr4[j] == \"nan\" :\n",
    "        pept_label_4.append(0)\n",
    "    else:\n",
    "        pept_label_4.append(1)\n",
    "#pept_label_3.pop(-1)\n",
    "for element in range(len(pept_label_4)):\n",
    "    pept_label.write(str(pept_label_4[element])+\"\\n\")\n",
    "len(pept_label_4)"
   ]
  },
  {
   "cell_type": "markdown",
   "id": "ddca302f-f244-4b93-85f6-f6bc0db1142e",
   "metadata": {},
   "source": [
    "# Preparing data files for the fifth round \n",
    "fifth cross validation dataset (trainings123), Testing 80 combinations of parameters on validation dataset 0 (trainings0), testing the model with the best combination of parameters on the testing dataset 4 (trainings4)"
   ]
  },
  {
   "cell_type": "code",
   "execution_count": 67,
   "id": "e4325a86-cc99-449e-883c-aa2d700657c6",
   "metadata": {},
   "outputs": [],
   "source": [
    "# creating dataframe of the cross validation dataset of the second round (trainings014)\n",
    "df_training_123 = pd.read_csv('trainings123.tsv', sep='\\t')"
   ]
  },
  {
   "cell_type": "code",
   "execution_count": 68,
   "id": "31d704e9-3efd-4d13-986c-4ad3f39a9b41",
   "metadata": {},
   "outputs": [],
   "source": [
    "# Remove rows where \"Entry\" column equals \"Q3LFD5\" because obsolete protein not present in fasta file\n",
    "df_training_123 = df_training_123[df_training_123[\"Entry\"] != 'Q3LFD5']\n"
   ]
  },
  {
   "cell_type": "code",
   "execution_count": 69,
   "id": "a0f33e7e-b717-4b9d-8424-4e6ae75d4c4a",
   "metadata": {},
   "outputs": [
    {
     "data": {
      "text/plain": [
       "9580"
      ]
     },
     "execution_count": 69,
     "metadata": {},
     "output_type": "execute_result"
    }
   ],
   "source": [
    "#creating a list with the labeling of the proteins containing or not containing the signal peptide in the subset for cross validation\n",
    "pept_label = open(\"pept_label_123.txt\",\"w\")\n",
    "pept_pr1 = []\n",
    "pept_label_123 = []\n",
    "for i in df_training_123[\"Signal peptide\"]:\n",
    "    pept_pr1.append(str(i))\n",
    "for j in range(len(pept_pr1)):\n",
    "    if pept_pr1[j] == \"nan\" :\n",
    "        pept_label_123.append(0)\n",
    "    else:\n",
    "        pept_label_123.append(1)\n",
    "for element in range(len(pept_label_123)):\n",
    "    pept_label.write(str(pept_label_123[element]) + \"\\n\")\n",
    "len(pept_label_123)"
   ]
  },
  {
   "cell_type": "code",
   "execution_count": 59,
   "id": "de3c2c94-f511-40fb-8526-0a5a96c82a7c",
   "metadata": {},
   "outputs": [
    {
     "name": "stdout",
     "output_type": "stream",
     "text": [
      "   9580  118393 1098842\n"
     ]
    }
   ],
   "source": [
    "%%bash\n",
    "grep \">\" trainings123.fasta| wc"
   ]
  },
  {
   "cell_type": "code",
   "execution_count": 70,
   "id": "d201fa23-190c-4122-a3a0-bd41380c274e",
   "metadata": {},
   "outputs": [],
   "source": [
    "%%bash\n",
    "#running hp.py programme to have a list with all the maximum hydrophobicity position values \n",
    "#this programme takes in input the dataset of proteins, k hyperparameter \n",
    "python3 hp.py trainings123.fasta 20 hp_20_5.text\n",
    "python3 hp.py trainings123.fasta 21 hp_21_5.text\n",
    "python3 hp.py trainings123.fasta 22 hp_22_5.text\n",
    "python3 hp.py trainings123.fasta 23 hp_23_5.text\n",
    "python3 hp.py trainings123.fasta 24 hp_24_5.text "
   ]
  },
  {
   "cell_type": "code",
   "execution_count": 71,
   "id": "f950d04f-ad6e-4abd-b448-1a0ab6ca6c8b",
   "metadata": {},
   "outputs": [],
   "source": [
    "%%bash\n",
    "#running hp2.py programme to have a list with all the average hydrophobicity position values \n",
    "#this programme takes in input the dataset of proteins, k hyperparameter \n",
    "python3 hp2.py trainings123.fasta 20 hp2_20_5.text\n",
    "python3 hp2.py trainings123.fasta 21 hp2_21_5.text\n",
    "python3 hp2.py trainings123.fasta 22 hp2_22_5.text\n",
    "python3 hp2.py trainings123.fasta 23 hp2_23_5.text\n",
    "python3 hp2.py trainings123.fasta 24 hp2_24_5.text "
   ]
  },
  {
   "cell_type": "code",
   "execution_count": 72,
   "id": "f920d290-7b2c-42f3-bc2b-1efad4639884",
   "metadata": {},
   "outputs": [],
   "source": [
    "%%bash\n",
    "#running frequency_hp2.py programme to have a matrix of vectors: each sequence(in the range of k) for each protein is encoded in a vector of 22 values (frequencies of aminoacids + maximum hydrophobicity value)\n",
    "#this programme takes in input the dataset of proteins, k hyperparameter and a file with the maximum position and average hydrophobicity value for each protein\n",
    "python3 frequency_hp2.py trainings123.fasta 20 X__hp_train20_5.text hp_20_5.text hp2_20_5.text\n",
    "python3 frequency_hp2.py trainings123.fasta 21 X__hp_train21_5.text hp_21_5.text hp2_21_5.text\n",
    "python3 frequency_hp2.py trainings123.fasta 22 X__hp_train22_5.text hp_22_5.text hp2_22_5.text\n",
    "python3 frequency_hp2.py trainings123.fasta 23 X__hp_train23_5.text hp_23_5.text hp2_23_5.text\n",
    "python3 frequency_hp2.py trainings123.fasta 24 X__hp_train24_5.text hp_24_5.text hp2_24_5.text"
   ]
  },
  {
   "cell_type": "code",
   "execution_count": 73,
   "id": "7103e3b4-0cd0-4278-b0a6-ae068f7eb2e5",
   "metadata": {},
   "outputs": [],
   "source": [
    "%%bash\n",
    "#running hp.py programme to have a list with all the maximum hydrophobicity position values \n",
    "#this programme takes in input the dataset of proteins, k hyperparameter \n",
    "python3 hp.py trainings0.fasta 20 hp_20_5_test.text\n",
    "python3 hp.py trainings0.fasta 21 hp_21_5_test.text\n",
    "python3 hp.py trainings0.fasta 22 hp_22_5_test.text\n",
    "python3 hp.py trainings0.fasta 23 hp_23_5_test.text\n",
    "python3 hp.py trainings0.fasta 24 hp_24_5_test.text"
   ]
  },
  {
   "cell_type": "code",
   "execution_count": 74,
   "id": "e83225b3-0a7e-4f6f-a6d9-de54b3dca895",
   "metadata": {},
   "outputs": [],
   "source": [
    "%%bash\n",
    "#running hp2.py programme to have a list with all the average hydrophobicity values \n",
    "#this programme takes in input the dataset of proteins, k hyperparameter \n",
    "python3 hp2.py trainings0.fasta 20 hp2_20_5_test.text\n",
    "python3 hp2.py trainings0.fasta 21 hp2_21_5_test.text\n",
    "python3 hp2.py trainings0.fasta 22 hp2_22_5_test.text\n",
    "python3 hp2.py trainings0.fasta 23 hp2_23_5_test.text\n",
    "python3 hp2.py trainings0.fasta 24 hp2_24_5_test.text"
   ]
  },
  {
   "cell_type": "code",
   "execution_count": 75,
   "id": "64398ddd-f611-464e-8c60-879576d61ed6",
   "metadata": {},
   "outputs": [],
   "source": [
    "%%bash\n",
    "#running frequency_hp2.py programme to have a matrix of vectors: each sequence(in the range of k) for each protein is encoded in a vector of 22 values (frequencies of aminoacids + maximum hydrophobicity value)\n",
    "#this programme takes in input the dataset of proteins, k hyperparameter and a file with the maximum position and average hydrophobicity value for each protein\n",
    "python3 frequency_hp2.py trainings0.fasta 20 X__hp_test20_5.text hp_20_5_test.text hp2_20_5_test.text \n",
    "python3 frequency_hp2.py trainings0.fasta 21 X__hp_test21_5.text hp_21_5_test.text hp2_21_5_test.text \n",
    "python3 frequency_hp2.py trainings0.fasta 22 X__hp_test22_5.text hp_22_5_test.text hp2_22_5_test.text\n",
    "python3 frequency_hp2.py trainings0.fasta 23 X__hp_test23_5.text hp_23_5_test.text hp2_23_5_test.text \n",
    "python3 frequency_hp2.py trainings0.fasta 24 X__hp_test24_5.text hp_24_5_test.text hp2_24_5_test.text"
   ]
  },
  {
   "cell_type": "markdown",
   "id": "d772a54c-e04b-4115-be01-6305f64f4875",
   "metadata": {},
   "source": [
    "### running SVM_training_testing.py programme to train my model with each X_train file for each k with every combination of gamma and C values using kernel rbf and predict on each X_test file for each k the presence of the peptide in every sequence\n",
    "### the output is a file with each prediction for every combination of parameters on X_train file and X_test file with a certain k value\n",
    "### this python programme trains the model with cross validation dataset, test it on validation test and the results is the prediction,input1 contains the matrix from cross validation dataset,input2 contains the matrix from validation dataset,input3 contains the output of the prediction on validation test¶"
   ]
  },
  {
   "cell_type": "code",
   "execution_count": 76,
   "id": "ee3b0b58-6eec-4f68-9205-46813762bc5e",
   "metadata": {},
   "outputs": [],
   "source": [
    "%%bash\n",
    "python3 SVM_training_testing-hp.py"
   ]
  },
  {
   "cell_type": "code",
   "execution_count": 128,
   "id": "b33b98f1-51b5-4dbc-8f81-052498979d8c",
   "metadata": {},
   "outputs": [],
   "source": [
    "%%bash\n",
    "#computing the mcc for each prediction for each parameters value for each round\n",
    "python3 SVM_mcc-Copy1.py"
   ]
  },
  {
   "cell_type": "code",
   "execution_count": 129,
   "id": "885752aa-3df9-471f-be22-b8b8077fcace",
   "metadata": {},
   "outputs": [],
   "source": [
    "%%bash\n",
    "#all best combinations for each k for each round\n",
    "python3 all_combinations.py"
   ]
  },
  {
   "cell_type": "markdown",
   "id": "ff858e9d-78ce-403f-aaec-a7d6a3955442",
   "metadata": {},
   "source": [
    "## the best combination of each round is:\n",
    "\n",
    "#### round1['k:20 C:4 gamma:0.5 max mcc:0.6128561578936451']\n",
    "#### round2['k:20 C:8 gamma:scale max mcc:0.7094313414364609']\n",
    "#### round3['k:22 C:4 gamma:2 max mcc:0.8012975249829527']\n",
    "#### round4['k:20 C:1 gamma:1 max mcc:0.6918858398955121']\n",
    "#### round5['k:20 C:1 gamma:2 max mcc:0.7108258453981381']"
   ]
  },
  {
   "cell_type": "markdown",
   "id": "91bab1a8-d632-4225-a603-53687502cfd4",
   "metadata": {},
   "source": [
    "## round1: Testing the best combination on testing dataset (trainings0) "
   ]
  },
  {
   "cell_type": "code",
   "execution_count": 91,
   "id": "c002cd90-734c-4b31-a62c-c791f9a805d6",
   "metadata": {},
   "outputs": [],
   "source": [
    "%%bash\n",
    "python3 hp.py trainings0.fasta 20 hp_20_final.text"
   ]
  },
  {
   "cell_type": "code",
   "execution_count": 92,
   "id": "10ff7485-8325-482c-b7e6-06da20dd4342",
   "metadata": {},
   "outputs": [],
   "source": [
    "%%bash\n",
    "python3 hp2.py trainings0.fasta 20 hp2_20_final.text"
   ]
  },
  {
   "cell_type": "code",
   "execution_count": 93,
   "id": "78e53964-4aaa-488c-9c7a-32a9892b4f95",
   "metadata": {},
   "outputs": [],
   "source": [
    "%%bash\n",
    "python3 frequency_hp2.py trainings0.fasta 20 X_test20_final_round1.text hp_20_final.text hp2_20_final.text"
   ]
  },
  {
   "cell_type": "code",
   "execution_count": 125,
   "id": "1c992c5e-9c4f-411e-80df-7ed4c44903d0",
   "metadata": {},
   "outputs": [],
   "source": [
    "# creating dataframe of the training0\n",
    "df_training_0 = pd.read_csv('trainings0.tsv', sep='\\t')"
   ]
  },
  {
   "cell_type": "code",
   "execution_count": 126,
   "id": "088d86de-872e-4b34-9c8d-d75395902cf0",
   "metadata": {},
   "outputs": [],
   "source": [
    "#creating a file with the labeling of the proteins containing or not containing the signal peptide in the subset for validation\n",
    "pept_label = open(\"pept_label_5.txt\",\"w\")\n",
    "pept_pr0 = []\n",
    "pept_label_5 = []\n",
    "for i in df_training_0[\"Signal peptide\"]:\n",
    "    pept_pr0.append(str(i))\n",
    "for j in range(len(pept_pr0)):\n",
    "    if pept_pr0[j] == \"nan\" :\n",
    "        pept_label_5.append(0)\n",
    "    else:\n",
    "        pept_label_5.append(1)\n",
    "pept_label_5.pop(-1)\n",
    "for element in range(len(pept_label_5)):\n",
    "    pept_label.write(str(pept_label_5[element])+\"\\n\")"
   ]
  },
  {
   "cell_type": "code",
   "execution_count": 127,
   "id": "50a9ff8e-35f4-4362-9120-c1f19cb32305",
   "metadata": {},
   "outputs": [
    {
     "name": "stdout",
     "output_type": "stream",
     "text": [
      "3193\n"
     ]
    }
   ],
   "source": [
    "print(len(pept_label_5))"
   ]
  },
  {
   "cell_type": "code",
   "execution_count": 97,
   "id": "ec535bc1-621a-4f18-9b15-370f92c3f665",
   "metadata": {},
   "outputs": [],
   "source": [
    "#the best combination with k=20 is C = 4 and gamma = 0.5\n",
    "#let's test on testing dataset round1\n",
    "X_train_file = open(\"X__hp_train20_1.text\",\"r\")\n",
    "X_test_file = open(\"X_test20_final_round1.text\",\"r\")\n",
    "X_train = []\n",
    "X_test = []\n",
    "for element in X_train_file:\n",
    "    X_train.append(element.split())\n",
    "for element1 in X_test_file:\n",
    "    X_test.append(element1.split())\n",
    "mySVC = svm.SVC(C=4, kernel='rbf', gamma= 0.5 )\n",
    "# Train (fit) the model on training data\n",
    "mySVC.fit(X_train, pept_label_234)\n",
    "# Predict classes on testing data\n",
    "y_pred_round1 = mySVC.predict(X_test)"
   ]
  },
  {
   "cell_type": "code",
   "execution_count": 98,
   "id": "dc12f04c-991b-4d1b-8bbf-be11789a37eb",
   "metadata": {},
   "outputs": [
    {
     "data": {
      "text/plain": [
       "0.7208768391531789"
      ]
     },
     "execution_count": 98,
     "metadata": {},
     "output_type": "execute_result"
    }
   ],
   "source": [
    "mcc_round1 = matthews_corrcoef(pept_label_5, y_pred_round1)\n",
    "mcc_round1"
   ]
  },
  {
   "cell_type": "code",
   "execution_count": 99,
   "id": "9c4776f5-6b44-426a-818c-906009f853ec",
   "metadata": {},
   "outputs": [
    {
     "name": "stdout",
     "output_type": "stream",
     "text": [
      "precision:  0.6434426229508197 recall:  0.8486486486486486 accuracy:  0.9639837143751957\n"
     ]
    }
   ],
   "source": [
    "precision1 = precision_score(pept_label_5, y_pred_round1)\n",
    "recall1 = recall_score(pept_label_5, y_pred_round1)\n",
    "accuracy1 = accuracy_score(pept_label_5, y_pred_round1)\n",
    "print(\"precision: \", precision1,\"recall: \", recall1,\"accuracy: \", accuracy1)"
   ]
  },
  {
   "cell_type": "markdown",
   "id": "c61ed640-7a54-451e-ad84-5564b4ebf93a",
   "metadata": {},
   "source": [
    "## round2: Testing the best combination on testing dataset (trainings1) "
   ]
  },
  {
   "cell_type": "code",
   "execution_count": 100,
   "id": "7e5342ad-6e10-4d2b-937e-7006c4d3fb6f",
   "metadata": {},
   "outputs": [],
   "source": [
    "%%bash\n",
    "python3 hp.py trainings1.fasta 20 hp_20_final_2.text"
   ]
  },
  {
   "cell_type": "code",
   "execution_count": 101,
   "id": "1dfc908f-9fdd-4bc3-b8e5-aa4b186250c4",
   "metadata": {},
   "outputs": [],
   "source": [
    "%%bash\n",
    "python3 hp2.py trainings1.fasta 20 hp2_20_final_2.text"
   ]
  },
  {
   "cell_type": "code",
   "execution_count": 102,
   "id": "3247b4f2-7002-478f-8964-68c3dec426a3",
   "metadata": {},
   "outputs": [],
   "source": [
    "%%bash\n",
    "python3 frequency_hp2.py trainings1.fasta 20 X_test20_final_round2.text hp_20_final_2.text hp2_20_final_2.text"
   ]
  },
  {
   "cell_type": "code",
   "execution_count": 103,
   "id": "a8a34a30-23a5-4632-84c8-abcf2712e33c",
   "metadata": {},
   "outputs": [],
   "source": [
    "#the best combination with k=20 is C = 8 and gamma = scale\n",
    "#let's test on testing dataset round2\n",
    "X_train_file = open(\"X__hp_train20_2.text\",\"r\")\n",
    "X_test_file = open(\"X_test20_final_round2.text\",\"r\")\n",
    "X_train = []\n",
    "X_test = []\n",
    "for element in X_train_file:\n",
    "    X_train.append(element.split())\n",
    "for element1 in X_test_file:\n",
    "    X_test.append(element1.split())\n",
    "mySVC = svm.SVC(C=8, kernel='rbf', gamma=\"scale\")\n",
    "# Train (fit) the model on training data\n",
    "mySVC.fit(X_train, pept_label_034)\n",
    "# Predict classes on testing data\n",
    "y_pred_round2 = mySVC.predict(X_test)"
   ]
  },
  {
   "cell_type": "code",
   "execution_count": 104,
   "id": "17be9a69-e088-4023-98ec-888fc5656c93",
   "metadata": {},
   "outputs": [
    {
     "data": {
      "text/plain": [
       "0.6043726079818575"
      ]
     },
     "execution_count": 104,
     "metadata": {},
     "output_type": "execute_result"
    }
   ],
   "source": [
    "mcc_round2 = matthews_corrcoef(pept_label_1, y_pred_round2)\n",
    "mcc_round2"
   ]
  },
  {
   "cell_type": "code",
   "execution_count": 105,
   "id": "ca4bc639-385f-4af1-9278-67bbdb924a72",
   "metadata": {},
   "outputs": [
    {
     "name": "stdout",
     "output_type": "stream",
     "text": [
      "precision:  0.8148148148148148 recall:  0.4731182795698925 accuracy:  0.963044159098027\n"
     ]
    }
   ],
   "source": [
    "precision2 = precision_score(pept_label_1, y_pred_round2)\n",
    "recall2 = recall_score(pept_label_1, y_pred_round2)\n",
    "accuracy2 = accuracy_score(pept_label_1, y_pred_round2)\n",
    "print(\"precision: \", precision2,\"recall: \", recall2,\"accuracy: \", accuracy2)"
   ]
  },
  {
   "cell_type": "markdown",
   "id": "543a2930-7e0f-4fc5-a436-9b20635faa2b",
   "metadata": {},
   "source": [
    "## round3: Testing the best combination on testing dataset (trainings2) "
   ]
  },
  {
   "cell_type": "code",
   "execution_count": 106,
   "id": "8b8d162f-b7f7-4cc9-b90c-c291c1ff3900",
   "metadata": {},
   "outputs": [],
   "source": [
    "%%bash\n",
    "python3 hp.py trainings2.fasta 22 hp_22_final_3.text"
   ]
  },
  {
   "cell_type": "code",
   "execution_count": 107,
   "id": "1f75daef-667d-43b4-8b1b-d77f21d6da10",
   "metadata": {},
   "outputs": [],
   "source": [
    "%%bash\n",
    "python3 hp2.py trainings2.fasta 22 hp2_22_final_3.text"
   ]
  },
  {
   "cell_type": "code",
   "execution_count": 108,
   "id": "8030b90c-062e-4a24-b53d-6b63ee0cedf3",
   "metadata": {},
   "outputs": [],
   "source": [
    "%%bash\n",
    "python3 frequency_hp2.py trainings2.fasta 22 X_test22_final_round3.text hp_22_final_3.text hp2_22_final_3.text"
   ]
  },
  {
   "cell_type": "code",
   "execution_count": 109,
   "id": "0af4796a-59ff-4d18-962a-ec49704b3a5d",
   "metadata": {},
   "outputs": [],
   "source": [
    "#the best combination with k=22 is C = 4 and gamma = 2\n",
    "#let's test on testing dataset round3\n",
    "X_train_file = open(\"X__hp_train22_3.text\",\"r\")\n",
    "X_test_file = open(\"X_test22_final_round3.text\",\"r\")\n",
    "X_train = []\n",
    "X_test = []\n",
    "for element in X_train_file:\n",
    "    X_train.append(element.split())\n",
    "for element1 in X_test_file:\n",
    "    X_test.append(element1.split())\n",
    "mySVC = svm.SVC(C=4, kernel='rbf', gamma= 2)\n",
    "# Train (fit) the model on training data\n",
    "mySVC.fit(X_train, pept_label_014)\n",
    "# Predict classes on testing data\n",
    "y_pred_round3 = mySVC.predict(X_test)"
   ]
  },
  {
   "cell_type": "code",
   "execution_count": 110,
   "id": "d86b59dc-e44d-4732-8c90-0b64246f62e0",
   "metadata": {},
   "outputs": [
    {
     "data": {
      "text/plain": [
       "0.6589072699478473"
      ]
     },
     "execution_count": 110,
     "metadata": {},
     "output_type": "execute_result"
    }
   ],
   "source": [
    "mcc_round3 = matthews_corrcoef(pept_label_2, y_pred_round3)\n",
    "mcc_round3"
   ]
  },
  {
   "cell_type": "code",
   "execution_count": 111,
   "id": "5e7c3837-9945-4b1e-a3b9-599dd856d90f",
   "metadata": {},
   "outputs": [
    {
     "name": "stdout",
     "output_type": "stream",
     "text": [
      "precision:  0.6615384615384615 recall:  0.6972972972972973 accuracy:  0.9617914187284685\n"
     ]
    }
   ],
   "source": [
    "precision3 = precision_score(pept_label_2, y_pred_round3)\n",
    "recall3 = recall_score(pept_label_2, y_pred_round3)\n",
    "accuracy3 = accuracy_score(pept_label_2, y_pred_round3)\n",
    "print(\"precision: \", precision3,\"recall: \", recall3,\"accuracy: \", accuracy3)"
   ]
  },
  {
   "cell_type": "markdown",
   "id": "eb3f6043-c9c3-4dc2-b4b1-4b8187fae5a5",
   "metadata": {},
   "source": [
    "## round4: Testing the best combination on testing dataset (trainings3) "
   ]
  },
  {
   "cell_type": "code",
   "execution_count": 112,
   "id": "fc6f1d5f-ad24-48ea-a75b-c0fb9c4909ae",
   "metadata": {},
   "outputs": [],
   "source": [
    "%%bash\n",
    "python3 hp.py trainings3.fasta 20 hp_20_final_4.text"
   ]
  },
  {
   "cell_type": "code",
   "execution_count": 113,
   "id": "bbd3241e-399c-4a0e-881d-e0739c324144",
   "metadata": {},
   "outputs": [],
   "source": [
    "%%bash\n",
    "python3 hp2.py trainings3.fasta 20 hp2_20_final_4.text"
   ]
  },
  {
   "cell_type": "code",
   "execution_count": 114,
   "id": "de81f239-3e1c-4284-be7e-504edb2816cf",
   "metadata": {},
   "outputs": [],
   "source": [
    "%%bash\n",
    "python3 frequency_hp2.py trainings3.fasta 20 X_test20_final_round4.text hp_20_final_4.text hp2_20_final_4.text"
   ]
  },
  {
   "cell_type": "code",
   "execution_count": 115,
   "id": "9e37df35-12ba-440b-959e-a15db7d1b8b3",
   "metadata": {},
   "outputs": [],
   "source": [
    "#the best combination with k=20 is C = 8 and gamma = 0.5\n",
    "#let's test on testing dataset round4\n",
    "X_train_file = open(\"X__hp_train20_4.text\",\"r\")\n",
    "X_test_file = open(\"X_test20_final_round4.text\",\"r\")\n",
    "X_train = []\n",
    "X_test = []\n",
    "for element in X_train_file:\n",
    "    X_train.append(element.split())\n",
    "for element1 in X_test_file:\n",
    "    X_test.append(element1.split())\n",
    "mySVC = svm.SVC(C = 1, kernel='rbf', gamma = 1)\n",
    "# Train (fit) the model on training data\n",
    "mySVC.fit(X_train, pept_label_012)\n",
    "# Predict classes on testing data\n",
    "y_pred_round4 = mySVC.predict(X_test)"
   ]
  },
  {
   "cell_type": "code",
   "execution_count": 116,
   "id": "ec6fdcf3-43db-4a1c-a561-658f842e04eb",
   "metadata": {},
   "outputs": [
    {
     "data": {
      "text/plain": [
       "0.7031203074705277"
      ]
     },
     "execution_count": 116,
     "metadata": {},
     "output_type": "execute_result"
    }
   ],
   "source": [
    "mcc_round4 = matthews_corrcoef(pept_label_3, y_pred_round4)\n",
    "mcc_round4"
   ]
  },
  {
   "cell_type": "code",
   "execution_count": 117,
   "id": "421931f1-8121-4110-907e-1b027a4928cc",
   "metadata": {},
   "outputs": [
    {
     "name": "stdout",
     "output_type": "stream",
     "text": [
      "precision:  0.8 recall:  0.6451612903225806 accuracy:  0.9699436443331246\n"
     ]
    }
   ],
   "source": [
    "precision4 = precision_score(pept_label_3, y_pred_round4)\n",
    "recall4 = recall_score(pept_label_3, y_pred_round4)\n",
    "accuracy4 = accuracy_score(pept_label_3, y_pred_round4)\n",
    "print(\"precision: \", precision4,\"recall: \", recall4,\"accuracy: \", accuracy4)"
   ]
  },
  {
   "cell_type": "markdown",
   "id": "0c83df34-4b59-490e-b4b3-4cf8f2ce256d",
   "metadata": {},
   "source": [
    "## round5: Testing the best combination on testing dataset (trainings4) "
   ]
  },
  {
   "cell_type": "code",
   "execution_count": 118,
   "id": "dc2c9881-0584-4f58-ba26-ca32d3049ffa",
   "metadata": {},
   "outputs": [],
   "source": [
    "%%bash\n",
    "python3 hp.py trainings4.fasta 20 hp_20_final_5.text"
   ]
  },
  {
   "cell_type": "code",
   "execution_count": 119,
   "id": "240e633a-ee8a-40df-8768-5c9137207d8f",
   "metadata": {},
   "outputs": [],
   "source": [
    "%%bash\n",
    "python3 hp2.py trainings4.fasta 20 hp2_20_final_5.text"
   ]
  },
  {
   "cell_type": "code",
   "execution_count": 120,
   "id": "c02f974a-8719-48ba-a3b6-2dc2c3c23350",
   "metadata": {},
   "outputs": [],
   "source": [
    "%%bash\n",
    "python3 frequency_hp2.py trainings4.fasta 20 X_test20_final_round5.text hp_20_final_5.text hp2_20_final_5.text"
   ]
  },
  {
   "cell_type": "code",
   "execution_count": 121,
   "id": "1feaa6bf-d9ea-4209-9155-c5c1836b6754",
   "metadata": {},
   "outputs": [],
   "source": [
    "#the best combination with k=20 is C = 1 and gamma = 2\n",
    "#let's test on testing dataset round5\n",
    "X_train_file = open(\"X__hp_train20_5.text\",\"r\")\n",
    "X_test_file = open(\"X_test20_final_round5.text\",\"r\")\n",
    "X_train = []\n",
    "X_test = []\n",
    "for element in X_train_file:\n",
    "    X_train.append(element.split())\n",
    "for element1 in X_test_file:\n",
    "    X_test.append(element1.split())\n",
    "mySVC = svm.SVC(C=1, kernel='rbf', gamma=2)\n",
    "# Train (fit) the model on training data\n",
    "mySVC.fit(X_train, pept_label_123)\n",
    "# Predict classes on testing data\n",
    "y_pred_round5 = mySVC.predict(X_test)"
   ]
  },
  {
   "cell_type": "code",
   "execution_count": 122,
   "id": "aa27e943-a69f-415e-8210-a22dbaf86eb8",
   "metadata": {},
   "outputs": [
    {
     "data": {
      "text/plain": [
       "0.6806609220342275"
      ]
     },
     "execution_count": 122,
     "metadata": {},
     "output_type": "execute_result"
    }
   ],
   "source": [
    "mcc_round5 = matthews_corrcoef(pept_label_4, y_pred_round5)\n",
    "mcc_round5"
   ]
  },
  {
   "cell_type": "code",
   "execution_count": 138,
   "id": "53a1e214-c741-4bad-a833-d3fdb734b5f7",
   "metadata": {},
   "outputs": [
    {
     "name": "stdout",
     "output_type": "stream",
     "text": [
      "precision:  0.6015625 recall:  0.8191489361702128 accuracy:  0.9574601188614326\n"
     ]
    }
   ],
   "source": [
    "precision5 = precision_score(pept_label_4, y_pred_round5)\n",
    "recall5 = recall_score(pept_label_4, y_pred_round5)\n",
    "accuracy5 = accuracy_score(pept_label_4, y_pred_round5)\n",
    "print(\"precision: \", precision5,\"recall: \", recall5,\"accuracy: \", accuracy5)"
   ]
  },
  {
   "cell_type": "code",
   "execution_count": 196,
   "id": "72d091d3-a611-4a8d-af93-5d16102c91aa",
   "metadata": {},
   "outputs": [],
   "source": [
    "#computing mean and standard deviation with the data for the 5 rounds:\n",
    "data_mcc =np.array([0.7208768391531789,0.6043726079818575,0.6589072699478473,0.7031203074705277,0.6806609220342275])\n",
    "data_accuracy = np.array([accuracy1,accuracy2,accuracy3,accuracy4,accuracy5])\n",
    "precision = [precision1,precision2,precision3,precision4,precision5]\n",
    "recall = [recall1,recall2,recall3,recall4,recall5]\n",
    "f1_score =[]\n",
    "for i in range(len(recall)):\n",
    "    f1_score.append(2 * (precision[i] * recall[i]) / (precision[i] + recall[i]))\n",
    "data_precision = np.array(precision)\n",
    "data_recall = np.array(recall)\n",
    "data_f1_Score = np.array(f1_score)\n",
    "mean_f1_Score = np.mean(f1_score)\n",
    "std_f1_Score = np.std(f1_score)\n",
    "mean_value_mcc = np.mean(data_mcc)\n",
    "std_deviation_mcc = np.std(data_mcc)\n",
    "mean_value_acc = np.mean(data_accuracy)\n",
    "std_deviation_acc = np.std(data_accuracy)\n",
    "mean_value_prec = np.mean(data_precision)\n",
    "std_deviation_prec = np.std(data_precision)\n",
    "mean_value_recall = np.mean(data_recall)\n",
    "std_deviation_recall = np.std(data_recall)"
   ]
  },
  {
   "cell_type": "code",
   "execution_count": 197,
   "id": "db86dafa-e2f9-4188-bbaa-275683b7525f",
   "metadata": {},
   "outputs": [
    {
     "name": "stdout",
     "output_type": "stream",
     "text": [
      "0.6735875893175278\n",
      "0.040409682120346575\n"
     ]
    }
   ],
   "source": [
    "print(mean_value_mcc)\n",
    "print(std_deviation_mcc)"
   ]
  },
  {
   "cell_type": "code",
   "execution_count": 198,
   "id": "93c1b39a-ecb2-45ae-a952-f7ab972e252a",
   "metadata": {},
   "outputs": [
    {
     "name": "stdout",
     "output_type": "stream",
     "text": [
      "0.9632446110792496\n",
      "0.004025807234375051\n"
     ]
    }
   ],
   "source": [
    "print(mean_value_acc)\n",
    "print(std_deviation_acc)"
   ]
  },
  {
   "cell_type": "code",
   "execution_count": 145,
   "id": "f2f604df-b780-4977-8757-cb7121b49a94",
   "metadata": {},
   "outputs": [
    {
     "name": "stdout",
     "output_type": "stream",
     "text": [
      "0.7042716798608192\n",
      "0.08655538539288601\n"
     ]
    }
   ],
   "source": [
    "print(mean_value_prec)\n",
    "print(std_deviation_prec)"
   ]
  },
  {
   "cell_type": "code",
   "execution_count": 146,
   "id": "4d9c55a4-e62f-41fe-a3c2-2011571d0333",
   "metadata": {},
   "outputs": [
    {
     "name": "stdout",
     "output_type": "stream",
     "text": [
      "0.6966748904017263\n",
      "0.13470524244636442\n"
     ]
    }
   ],
   "source": [
    "print(mean_value_recall)\n",
    "print(std_deviation_recall)"
   ]
  },
  {
   "cell_type": "code",
   "execution_count": 170,
   "id": "003dc6d2-c564-45ae-ab54-eeb11030b26e",
   "metadata": {},
   "outputs": [
    {
     "name": "stdout",
     "output_type": "stream",
     "text": [
      "0.6835001928235009\n",
      "0.04608607874797244\n"
     ]
    }
   ],
   "source": [
    "print(mean_f1_Score)\n",
    "print(std_f1_Score)"
   ]
  },
  {
   "cell_type": "markdown",
   "id": "e298b2a1-4a0d-46f8-83af-beda99b64576",
   "metadata": {},
   "source": [
    "### the best combination for this model is k=20, C=1, gamma = 2"
   ]
  },
  {
   "cell_type": "markdown",
   "id": "1b21df17-4ccc-4df4-9bf7-824b88fa219e",
   "metadata": {},
   "source": [
    "### training on whole training set + testing on bechmarking (blind set)"
   ]
  },
  {
   "cell_type": "code",
   "execution_count": 71,
   "id": "b9219f6a-c438-426b-a25f-97d636f6c62e",
   "metadata": {},
   "outputs": [],
   "source": [
    "%%bash\n",
    "python3 hp.py full_training.fasta 20 hp_20_final_train.text"
   ]
  },
  {
   "cell_type": "code",
   "execution_count": 72,
   "id": "ffe2e858-2033-4211-aff6-0a0791c69919",
   "metadata": {},
   "outputs": [],
   "source": [
    "%%bash\n",
    "python3 hp2.py full_training.fasta 20 hp2_20_final_train.text"
   ]
  },
  {
   "cell_type": "code",
   "execution_count": 73,
   "id": "2b735da4-8eff-43c7-bb1f-af2e1c797330",
   "metadata": {},
   "outputs": [],
   "source": [
    "%%bash\n",
    "python3 frequency_hp2.py full_training.fasta 20 X_train20_final_round_t.text hp_20_final_train.text hp2_20_final_train.text "
   ]
  },
  {
   "cell_type": "code",
   "execution_count": 74,
   "id": "111d4d24-d5f7-4a98-8464-b55dab68d5a7",
   "metadata": {},
   "outputs": [],
   "source": [
    "%%bash\n",
    "python3 hp.py benchmarking_posneg.fasta 20 hp_20_final_b.text"
   ]
  },
  {
   "cell_type": "code",
   "execution_count": 75,
   "id": "eadec9d8-6599-4b14-828c-eba5dc70996b",
   "metadata": {},
   "outputs": [],
   "source": [
    "%%bash\n",
    "python3 hp2.py benchmarking_posneg.fasta 20 hp2_20_final_b.text"
   ]
  },
  {
   "cell_type": "code",
   "execution_count": 76,
   "id": "fc35f251-dc95-44f3-90b9-5d1c5f89fb52",
   "metadata": {},
   "outputs": [],
   "source": [
    "%%bash\n",
    "python3 frequency_hp2.py benchmarking_posneg.fasta 20 X_test20_final_round_b.text hp_20_final_b.text hp2_20_final_b.text "
   ]
  },
  {
   "cell_type": "code",
   "execution_count": 77,
   "id": "fa057cec-0eb5-4418-9298-b0cbb357ac5d",
   "metadata": {},
   "outputs": [],
   "source": [
    "# final round with full postive training set and testing with benchmarking set\n",
    "df_trainp2 = pd.read_csv('full_training.tsv', sep='\\t')"
   ]
  },
  {
   "cell_type": "code",
   "execution_count": 78,
   "id": "c373d426-2975-41f0-8128-722bd1655f94",
   "metadata": {},
   "outputs": [],
   "source": [
    "# Remove rows where \"Entry\" column equals \"Q3LFD5\" because obsolete protein not present in fasta file\n",
    "df_trainp2 = df_trainp2[df_trainp2[\"Entry\"] != 'Q3LFD5']"
   ]
  },
  {
   "cell_type": "code",
   "execution_count": 79,
   "id": "b9673655-cb4c-4607-8e02-3735c0c2d944",
   "metadata": {},
   "outputs": [
    {
     "data": {
      "text/plain": [
       "15971"
      ]
     },
     "execution_count": 79,
     "metadata": {},
     "output_type": "execute_result"
    }
   ],
   "source": [
    "#creating a list with the labeling of the proteins containing or not containing the signal peptide in the subset for cross validation\n",
    "pept_pr_train = []\n",
    "pept_label_train= []\n",
    "for i in df_trainp2[\"Signal peptide\"]:\n",
    "    pept_pr_train.append(str(i))\n",
    "for j in range(len(pept_pr_train)):\n",
    "    if pept_pr_train[j] == \"nan\" :\n",
    "        pept_label_train.append(0)\n",
    "    else:\n",
    "        pept_label_train.append(1)\n",
    "len(pept_label_train)"
   ]
  },
  {
   "cell_type": "code",
   "execution_count": 80,
   "id": "ce557957-d806-4082-a852-085bb17f5f76",
   "metadata": {},
   "outputs": [],
   "source": [
    "# creating dataframe of the benchmarking dataset for the final round\n",
    "df_training_b = pd.read_csv('benchmarking_posneg.tsv', sep='\\t')"
   ]
  },
  {
   "cell_type": "code",
   "execution_count": 81,
   "id": "e6bca858-4ce2-4a05-811b-e30505a6dda0",
   "metadata": {},
   "outputs": [],
   "source": [
    "#final round\n",
    "#creating a list with the labeling of the proteins containing or not containing the signal peptide in the subset for validation\n",
    "pept_pr1 = []\n",
    "pept_label_b = []\n",
    "for i in df_training_b[\"Signal peptide\"]:\n",
    "    pept_pr1.append(str(i))\n",
    "for j in range(len(pept_pr1)):\n",
    "    if pept_pr1[j] == \"nan\" :\n",
    "        pept_label_b.append(0)\n",
    "    else:\n",
    "        pept_label_b.append(1)"
   ]
  },
  {
   "cell_type": "code",
   "execution_count": 82,
   "id": "53296cd8-5964-4c34-8f6d-2f23c8e4a229",
   "metadata": {},
   "outputs": [],
   "source": [
    "#the best combination with k=20 is C = 1 and gamma = 2\n",
    "#let's test on benchmarking set\n",
    "X_train_file = open(\"X_train20_final_round_t.text\",\"r\")\n",
    "X_test_file = open(\"X_test20_final_round_b.text\",\"r\")\n",
    "X_train = []\n",
    "X_test = []\n",
    "for element in X_train_file:\n",
    "    X_train.append(element.split())\n",
    "for element1 in X_test_file:\n",
    "    X_test.append(element1.split())\n",
    "mySVC = svm.SVC(C=1, kernel='rbf', gamma= 2)\n",
    "# Train (fit) the model on training data\n",
    "mySVC.fit(X_train, pept_label_train)\n",
    "# Predict classes on testing data\n",
    "y_pred_round_b = mySVC.predict(X_test)"
   ]
  },
  {
   "cell_type": "code",
   "execution_count": 83,
   "id": "4c710530-af5b-44c9-a2f2-a9e7268244a6",
   "metadata": {},
   "outputs": [
    {
     "data": {
      "text/plain": [
       "0.7239659434390346"
      ]
     },
     "execution_count": 83,
     "metadata": {},
     "output_type": "execute_result"
    }
   ],
   "source": [
    "mcc_roundb = matthews_corrcoef(pept_label_b, y_pred_round_b)\n",
    "mcc_roundb"
   ]
  },
  {
   "cell_type": "code",
   "execution_count": 84,
   "id": "5092daae-7adb-48d2-8eac-88c12821bc05",
   "metadata": {},
   "outputs": [],
   "source": [
    "confusion_matrix_result_b = confusion_matrix(pept_label_b, y_pred_round_b)"
   ]
  },
  {
   "cell_type": "code",
   "execution_count": null,
   "id": "4a00f73c-d0f6-4b54-8330-51355d860328",
   "metadata": {},
   "outputs": [],
   "source": [
    "#false negative: 56, false positive: 18"
   ]
  },
  {
   "cell_type": "code",
   "execution_count": 173,
   "id": "8c6e6764-f5da-4803-b574-061d3cd7e2c3",
   "metadata": {},
   "outputs": [
    {
     "name": "stdout",
     "output_type": "stream",
     "text": [
      "precision:  0.8524590163934426 recall:  0.65 accuracy:  0.9597826086956521\n"
     ]
    }
   ],
   "source": [
    "precision = precision_score(pept_label_b, y_pred_round_b)\n",
    "recall = recall_score(pept_label_b, y_pred_round_b)\n",
    "accuracy = accuracy_score(pept_label_b, y_pred_round_b)\n",
    "print(\"precision: \", precision,\"recall: \", recall,\"accuracy: \", accuracy)"
   ]
  },
  {
   "cell_type": "code",
   "execution_count": 175,
   "id": "aeadb973-1184-41c6-b356-7de296178576",
   "metadata": {},
   "outputs": [],
   "source": [
    "F1_Scoreb = 2 * (precision * recall) / (precision + recall)"
   ]
  },
  {
   "cell_type": "code",
   "execution_count": 176,
   "id": "ac103b05-9d55-4b67-8e36-0e307e9c4060",
   "metadata": {},
   "outputs": [
    {
     "data": {
      "text/plain": [
       "0.7375886524822695"
      ]
     },
     "execution_count": 176,
     "metadata": {},
     "output_type": "execute_result"
    }
   ],
   "source": [
    "F1_Scoreb"
   ]
  },
  {
   "cell_type": "code",
   "execution_count": 159,
   "id": "79704ea7-06d4-4c65-8050-0ca5368e1c98",
   "metadata": {},
   "outputs": [
    {
     "data": {
      "text/plain": [
       "array([[1662,   18],\n",
       "       [  56,  104]])"
      ]
     },
     "execution_count": 159,
     "metadata": {},
     "output_type": "execute_result"
    }
   ],
   "source": [
    "confusion_matrix_result_b\n",
    "#56 false negative, #18 false positive"
   ]
  },
  {
   "cell_type": "code",
   "execution_count": 178,
   "id": "8e3ab5a1-3103-4ff3-9811-07dd3cda9859",
   "metadata": {},
   "outputs": [],
   "source": [
    "false_pos = []\n",
    "false_neg = []\n",
    "true_neg = []\n",
    "true_pos = []\n",
    "for i in range (len(pept_label_b)):\n",
    "    if pept_label_b[i] == 0:\n",
    "        if y_pred_round_b[i] != 0:\n",
    "            false_pos.append(i)\n",
    "        if y_pred_round_b[i] == 0:\n",
    "            true_neg.append(i)\n",
    "    if pept_label_b[i] == 1:\n",
    "        if y_pred_round_b[i] != 1:\n",
    "            false_neg.append(i)\n",
    "        if y_pred_round_b[i] == 1:\n",
    "            true_pos.append(i)"
   ]
  },
  {
   "cell_type": "code",
   "execution_count": 179,
   "id": "78ebf7e0-706a-409f-a3cf-46b595b63a38",
   "metadata": {},
   "outputs": [
    {
     "name": "stdout",
     "output_type": "stream",
     "text": [
      "fp:  [219, 287, 294, 373, 488, 496, 542, 644, 672, 682, 983, 1066, 1225, 1280, 1357, 1612, 1828, 1836]\n",
      "fn:  [1, 3, 9, 10, 14, 18, 19, 31, 33, 35, 37, 38, 39, 40, 45, 47, 49, 51, 56, 57, 60, 61, 63, 65, 69, 75, 81, 82, 85, 86, 87, 89, 90, 95, 99, 103, 104, 106, 113, 115, 117, 121, 122, 126, 129, 130, 132, 139, 140, 142, 143, 147, 148, 150, 154, 156]\n"
     ]
    }
   ],
   "source": [
    "print(\"fp: \", false_pos)\n",
    "print(\"fn: \", false_neg)"
   ]
  },
  {
   "cell_type": "code",
   "execution_count": 218,
   "id": "862ac849-79d3-4c7f-832f-7afce9da5897",
   "metadata": {},
   "outputs": [],
   "source": [
    "file_bench = open(\"benchmarking_posneg.txt\",\"r\")\n",
    "fp_ids = open( \"fp_ids_svm.txt\", \"w\")\n",
    "prot_id = []\n",
    "fp_id = []\n",
    "for line in file_bench:\n",
    "    prot_id.append(line)\n",
    "for i in false_pos:\n",
    "    fp_id.append(prot_id[i])\n",
    "    fp_ids.write(prot_id[i])"
   ]
  },
  {
   "cell_type": "code",
   "execution_count": 229,
   "id": "5a153e89-d561-4296-9b9e-ab6ab9e23780",
   "metadata": {},
   "outputs": [],
   "source": [
    "file_bench = open(\"benchmarking_posneg.txt\",\"r\")\n",
    "tp_ids = open( \"tp_ids_svm.txt\", \"w\")\n",
    "prot_id = []\n",
    "tp_id = []\n",
    "for line in file_bench:\n",
    "    prot_id.append(line)\n",
    "for i in true_pos:\n",
    "    tp_id.append(prot_id[i])\n",
    "    tp_ids.write(prot_id[i])"
   ]
  },
  {
   "cell_type": "code",
   "execution_count": 224,
   "id": "2c12e84d-185e-4a6b-8fde-0fe0010adf32",
   "metadata": {},
   "outputs": [],
   "source": [
    "file_bench = open(\"benchmarking_posneg.txt\",\"r\")\n",
    "fn_ids = open( \"fn_ids_svm.txt\", \"w\")\n",
    "prot_id = []\n",
    "fn_id = []\n",
    "for line in file_bench:\n",
    "    prot_id.append(line)\n",
    "for i in false_neg:\n",
    "    fn_id.append(prot_id[i])\n",
    "    fn_ids.write(prot_id[i])"
   ]
  },
  {
   "cell_type": "code",
   "execution_count": 240,
   "id": "6a258b17-f226-40ec-8eed-c0139314278b",
   "metadata": {},
   "outputs": [],
   "source": [
    "# Initialize a dictionary to store amino acid frequencies\n",
    "aa_frequency = {}\n",
    "lst_compo_fn = []\n",
    "lst_freq = []\n",
    "lst_aa = []\n",
    "def frequency(sequence):\n",
    "    aa_frequency = {}\n",
    "    lst_freq = []\n",
    "    lst_aa = []\n",
    "    residues = \"AVLQPHSGKERTIDMNWFYC\"\n",
    "    for aa in residues:\n",
    "        aa_frequency[aa] = 0\n",
    "        if aa in sequence:\n",
    "            aa_frequency[aa] = sequence.count(aa)\n",
    "    for i in aa_frequency:\n",
    "        lst_freq.append((aa_frequency[i]/sum(aa_frequency.values())))\n",
    "        lst_aa.append(i)\n",
    "    return lst_freq, lst_aa\n",
    "with open(\"fn_svm.fasta\", \"r\") as file_bench:\n",
    "    seq = \"\"\n",
    "    lst_sequences = []\n",
    "    for line in file_bench:\n",
    "        line = line.strip()\n",
    "        if line.startswith(\">\"):\n",
    "            if seq:\n",
    "                lst_sequences.append(seq)\n",
    "            seq = \"\"\n",
    "        else:\n",
    "            seq += line\n",
    "    if seq:\n",
    "        lst_sequences.append(seq)\n",
    "for index in range(len(lst_sequences)):\n",
    "    aa_frequency_fn, lst_aa= frequency(lst_sequences[index][:20])\n",
    "    "
   ]
  },
  {
   "cell_type": "code",
   "execution_count": 241,
   "id": "adec233e-35ce-4838-a207-183837a4f945",
   "metadata": {},
   "outputs": [],
   "source": [
    "# Initialize a dictionary to store amino acid frequencies\n",
    "aa_frequency = {}\n",
    "lst_compo_tp = []\n",
    "lst_freq = []\n",
    "lst_aa = []\n",
    "def frequency(sequence):\n",
    "    aa_frequency = {}\n",
    "    lst_freq = []\n",
    "    lst_aa = []\n",
    "    residues = \"AVLQPHSGKERTIDMNWFYC\"\n",
    "    for aa in residues:\n",
    "        aa_frequency[aa] = 0\n",
    "        if aa in sequence:\n",
    "            aa_frequency[aa] = sequence.count(aa)\n",
    "    for i in aa_frequency:\n",
    "        lst_freq.append((aa_frequency[i]/sum(aa_frequency.values())))\n",
    "        lst_aa.append(i)\n",
    "    return lst_freq, lst_aa\n",
    "with open(\"tp_svm.fasta\", \"r\") as file_bench:\n",
    "    seq = \"\"\n",
    "    lst_sequences = []\n",
    "    for line in file_bench:\n",
    "        line = line.strip()\n",
    "        if line.startswith(\">\"):\n",
    "            if seq:\n",
    "                lst_sequences.append(seq)\n",
    "            seq = \"\"\n",
    "        else:\n",
    "            seq += line\n",
    "    if seq:\n",
    "        lst_sequences.append(seq)\n",
    "for index in range(len(lst_sequences)):\n",
    "    aa_frequency_tp, lst_aa= frequency(lst_sequences[index][:20])"
   ]
  },
  {
   "cell_type": "code",
   "execution_count": 242,
   "id": "d58f3189-bb2b-4b2f-99f0-04fb8a89ed71",
   "metadata": {},
   "outputs": [],
   "source": [
    "# Initialize a dictionary to store amino acid frequencies\n",
    "aa_frequency = {}\n",
    "lst_compo_trp = []\n",
    "lst_freq = []\n",
    "lst_aa = []\n",
    "def frequency(sequence):\n",
    "    aa_frequency = {}\n",
    "    lst_freq = []\n",
    "    lst_aa = []\n",
    "    residues = \"AVLQPHSGKERTIDMNWFYC\"\n",
    "    for aa in residues:\n",
    "        aa_frequency[aa] = 0\n",
    "        if aa in sequence:\n",
    "            aa_frequency[aa] = sequence.count(aa)\n",
    "    for i in aa_frequency:\n",
    "        lst_freq.append((aa_frequency[i]/sum(aa_frequency.values())))\n",
    "        lst_aa.append(i)\n",
    "    return lst_freq, lst_aa\n",
    "with open(\"training_positive.fasta\", \"r\") as file_bench:\n",
    "    seq = \"\"\n",
    "    lst_sequences = []\n",
    "    for line in file_bench:\n",
    "        line = line.strip()\n",
    "        if line.startswith(\">\"):\n",
    "            if seq:\n",
    "                lst_sequences.append(seq)\n",
    "            seq = \"\"\n",
    "        else:\n",
    "            seq += line\n",
    "    if seq:\n",
    "        lst_sequences.append(seq)\n",
    "for index in range(len(lst_sequences)):\n",
    "    aa_frequency_trp, lst_aa = frequency(lst_sequences[index][:20])"
   ]
  },
  {
   "cell_type": "code",
   "execution_count": 243,
   "id": "6a6fa30d-6f00-4aa9-9d8c-6b14597c1c98",
   "metadata": {},
   "outputs": [
    {
     "data": {
      "image/png": "[encoded data removed]",
      "text/plain": [
       "<Figure size 640x480 with 1 Axes>"
      ]
     },
     "metadata": {},
     "output_type": "display_data"
    }
   ],
   "source": [
    "import matplotlib.pyplot as plt\n",
    "import numpy as np\n",
    "\n",
    "# Create a bar width\n",
    "bar_width = 0.25  # Adjust the bar width as needed\n",
    "\n",
    "# Calculate the x-axis positions for the bars\n",
    "x_pos = np.arange(len(lst_aa))\n",
    "\n",
    "# Create the figure and axis objects\n",
    "fig, ax = plt.subplots()\n",
    "\n",
    "# Create bars for the first set of frequencies\n",
    "bars1 = ax.bar(x_pos + bar_width, aa_frequency_fn, bar_width, label='benchmarking_false_negative')\n",
    "# Create bars for the third set of frequencies\n",
    "bars2 = ax.bar(x_pos - bar_width, aa_frequency_tp, bar_width, label='benchmarking_true_positive')\n",
    "# Create bars for the second set of frequencies\n",
    "bars3 = ax.bar(x_pos, aa_frequency_trp, bar_width, label='training_pos')\n",
    "\n",
    "\n",
    "# Set labels and title\n",
    "ax.set_xlabel('Residue')\n",
    "ax.set_ylabel('Frequency')\n",
    "ax.set_title('Residue Frequencies Comparison')\n",
    "ax.set_xticks(x_pos)\n",
    "ax.set_xticklabels(lst_aa)\n",
    "ax.legend()\n",
    "\n",
    "# Display the histogram\n",
    "plt.tight_layout()\n",
    "plt.show()\n",
    "\n"
   ]
  },
  {
   "cell_type": "code",
   "execution_count": 252,
   "id": "9b3a54fa-a885-44a1-93f5-77d86b5d9236",
   "metadata": {},
   "outputs": [],
   "source": [
    "### false negative analysis\n",
    "df2 = pd.read_csv('fn_ids_svm.tsv', sep='\\t')\n",
    "df3 = pd.read_csv('tp_svm.tsv', sep='\\t')\n",
    "df4 = pd.read_csv('training_positive.tsv', sep='\\t')"
   ]
  },
  {
   "cell_type": "code",
   "execution_count": 257,
   "id": "38c32c05-dca1-4b4f-98e9-fff70d6bbc91",
   "metadata": {},
   "outputs": [
    {
     "name": "stdout",
     "output_type": "stream",
     "text": [
      "50\n"
     ]
    }
   ],
   "source": [
    "# retrieving the length of peptides from false negative benchmarking dataset\n",
    "df2\n",
    "signalp_length=[]\n",
    "pept_l_fn=[]\n",
    "pept_l1=[]\n",
    "#to_remove =[]\n",
    "for i in df2['Signal peptide']:\n",
    "    signalp_length.append(i)\n",
    "for j in range(len(signalp_length)):\n",
    "    if signalp_length[j][10] != \".\":\n",
    "       if signalp_length[j][10] != \"?\":\n",
    "            pept_l_fn.append(signalp_length[j][10])\n",
    "            pept_l1.append(signalp_length[j][11])\n",
    "for el in range(len(pept_l_fn)):\n",
    "   pept_l_fn[el] = int(pept_l_fn[el]+pept_l1[el])\n",
    "#for k in range(len(pept_l)):\n",
    " #   if pept_l[k] == '.':\n",
    " #       to_remove.append(k)\n",
    " #   if pept_l[k] == \"?\":\n",
    " #       to_remove.append(k)\n",
    "print(len(pept_l_fn))"
   ]
  },
  {
   "cell_type": "code",
   "execution_count": 258,
   "id": "bc639fe7-2f21-46d6-99b7-f80245d80a8d",
   "metadata": {},
   "outputs": [
    {
     "name": "stdout",
     "output_type": "stream",
     "text": [
      "102\n"
     ]
    }
   ],
   "source": [
    "# retrieving the length of peptides from true positive benchmarking dataset\n",
    "df3\n",
    "signalp_length=[]\n",
    "pept_l_tp=[]\n",
    "pept_l1=[]\n",
    "#to_remove =[]\n",
    "for i in df3['Signal peptide']:\n",
    "    signalp_length.append(i)\n",
    "for j in range(len(signalp_length)):\n",
    "    if signalp_length[j][10] != \".\":\n",
    "       if signalp_length[j][10] != \"?\":\n",
    "            pept_l_tp.append(signalp_length[j][10])\n",
    "            pept_l1.append(signalp_length[j][11])\n",
    "for el in range(len(pept_l_tp)):\n",
    "   pept_l_tp[el] = int(pept_l_tp[el]+pept_l1[el])\n",
    "#for k in range(len(pept_l)):\n",
    " #   if pept_l[k] == '.':\n",
    " #       to_remove.append(k)\n",
    " #   if pept_l[k] == \"?\":\n",
    " #       to_remove.append(k)\n",
    "print(len(pept_l_tp))"
   ]
  },
  {
   "cell_type": "code",
   "execution_count": 260,
   "id": "88c4c889-94b3-45ca-a1d2-b4cddcdd0568",
   "metadata": {},
   "outputs": [
    {
     "name": "stdout",
     "output_type": "stream",
     "text": [
      "932\n"
     ]
    }
   ],
   "source": [
    "# retrieving the length of peptides from positive training dataset\n",
    "df4\n",
    "signalp_length=[]\n",
    "pept_l_trp=[]\n",
    "pept_l1=[]\n",
    "#to_remove =[]\n",
    "for i in df4['Signal peptide']:\n",
    "    signalp_length.append(i)\n",
    "for j in range(len(signalp_length)):\n",
    "    if signalp_length[j][10] != \".\":\n",
    "       if signalp_length[j][10] != \"?\":\n",
    "           if signalp_length[j][11] != \";\":\n",
    "            pept_l_trp.append(signalp_length[j][10])\n",
    "            pept_l1.append(signalp_length[j][11])\n",
    "for el in range(len(pept_l_trp)):\n",
    "   pept_l_trp[el] = int(pept_l_trp[el]+pept_l1[el])\n",
    "#for k in range(len(pept_l)):\n",
    " #   if pept_l[k] == '.':\n",
    " #       to_remove.append(k)\n",
    " #   if pept_l[k] == \"?\":\n",
    " #       to_remove.append(k)\n",
    "print(len(pept_l_trp))"
   ]
  },
  {
   "cell_type": "code",
   "execution_count": 264,
   "id": "5bfed7a1-252e-4ea6-adfd-82e2d45b261a",
   "metadata": {},
   "outputs": [
    {
     "data": {
      "image/png": "[encoded data removed]",
      "text/plain": [
       "<Figure size 640x480 with 1 Axes>"
      ]
     },
     "metadata": {},
     "output_type": "display_data"
    }
   ],
   "source": [
    "import seaborn as sns\n",
    "import matplotlib.pyplot as plt\n",
    "\n",
    "# Creating a density plot with Seaborn\n",
    "sns.kdeplot(pept_l_tp, color='skyblue', fill=True, label='true positive benchmarking')\n",
    "sns.kdeplot(pept_l_fn, color='blue', fill=True, label='false negative benchmarking')\n",
    "sns.kdeplot(pept_l_trp, color='salmon', fill=True, label='positive training')\n",
    "\n",
    "# Adding labels and a legend\n",
    "plt.xlabel('signal peptide length')\n",
    "plt.ylabel('Density')\n",
    "plt.title('Density Plot of signal peptide lengths in TP VS FN benchmarking VS positive training sets')\n",
    "plt.legend()\n",
    "\n",
    "# Showing the plot\n",
    "plt.show()"
   ]
  },
  {
   "cell_type": "code",
   "execution_count": 220,
   "id": "e725eb65-3539-4188-8c5a-3e077d25f0a3",
   "metadata": {},
   "outputs": [],
   "source": [
    "df_tax_fp = pd.read_csv('fp_ids_svm.tsv', sep='\\t')\n",
    "df_tax_fp['Taxonomic lineage']= df_tax_fp['Taxonomic lineage'].str.extract(r'( [^,]*) \\(kingdom\\)')"
   ]
  },
  {
   "cell_type": "code",
   "execution_count": 223,
   "id": "a2f5ee9a-167b-4073-81d3-622bab36817c",
   "metadata": {},
   "outputs": [],
   "source": [
    "df_tax_fn = pd.read_csv('fn_ids_svm.tsv', sep='\\t')\n",
    "df_tax_fn['Taxonomic lineage']= df_tax_fn['Taxonomic lineage'].str.extract(r'( [^,]*) \\(kingdom\\)')"
   ]
  },
  {
   "cell_type": "code",
   "execution_count": null,
   "id": "0c7f2a3a-b409-4a0e-9df5-4d8968b02771",
   "metadata": {},
   "outputs": [],
   "source": [
    "df_tax_fn['Taxonomic lineage'].fillna(\"other\", inplace = True)"
   ]
  },
  {
   "cell_type": "code",
   "execution_count": null,
   "id": "f8d75711-9b7d-46e0-a165-01d1084c47fb",
   "metadata": {},
   "outputs": [],
   "source": [
    "df_tax_fn.groupby(['Taxonomic lineage']).count()"
   ]
  },
  {
   "cell_type": "code",
   "execution_count": null,
   "id": "5f4c1090-ef64-43d8-9682-c32ba0c68a8b",
   "metadata": {},
   "outputs": [],
   "source": [
    "df_tax_fp['Taxonomic lineage'].fillna(\"other\", inplace = True)"
   ]
  },
  {
   "cell_type": "code",
   "execution_count": 222,
   "id": "caa3feaf-4023-4e6e-995f-554133bcbab1",
   "metadata": {},
   "outputs": [
    {
     "data": {
      "text/html": [
       "<div>\n",
       "<style scoped>\n",
       "    .dataframe tbody tr th:only-of-type {\n",
       "        vertical-align: middle;\n",
       "    }\n",
       "\n",
       "    .dataframe tbody tr th {\n",
       "        vertical-align: top;\n",
       "    }\n",
       "\n",
       "    .dataframe thead th {\n",
       "        text-align: right;\n",
       "    }\n",
       "</style>\n",
       "<table border=\"1\" class=\"dataframe\">\n",
       "  <thead>\n",
       "    <tr style=\"text-align: right;\">\n",
       "      <th></th>\n",
       "      <th>From</th>\n",
       "      <th>Entry</th>\n",
       "      <th>Reviewed</th>\n",
       "      <th>Entry Name</th>\n",
       "      <th>Length</th>\n",
       "      <th>Signal peptide</th>\n",
       "    </tr>\n",
       "    <tr>\n",
       "      <th>Taxonomic lineage</th>\n",
       "      <th></th>\n",
       "      <th></th>\n",
       "      <th></th>\n",
       "      <th></th>\n",
       "      <th></th>\n",
       "      <th></th>\n",
       "    </tr>\n",
       "  </thead>\n",
       "  <tbody>\n",
       "    <tr>\n",
       "      <th>Fungi</th>\n",
       "      <td>7</td>\n",
       "      <td>7</td>\n",
       "      <td>7</td>\n",
       "      <td>7</td>\n",
       "      <td>7</td>\n",
       "      <td>0</td>\n",
       "    </tr>\n",
       "    <tr>\n",
       "      <th>Metazoa</th>\n",
       "      <td>9</td>\n",
       "      <td>9</td>\n",
       "      <td>9</td>\n",
       "      <td>9</td>\n",
       "      <td>9</td>\n",
       "      <td>0</td>\n",
       "    </tr>\n",
       "    <tr>\n",
       "      <th>Viridiplantae</th>\n",
       "      <td>1</td>\n",
       "      <td>1</td>\n",
       "      <td>1</td>\n",
       "      <td>1</td>\n",
       "      <td>1</td>\n",
       "      <td>0</td>\n",
       "    </tr>\n",
       "  </tbody>\n",
       "</table>\n",
       "</div>"
      ],
      "text/plain": [
       "                   From  Entry  Reviewed  Entry Name  Length  Signal peptide\n",
       "Taxonomic lineage                                                           \n",
       " Fungi                7      7         7           7       7               0\n",
       " Metazoa              9      9         9           9       9               0\n",
       " Viridiplantae        1      1         1           1       1               0"
      ]
     },
     "execution_count": 222,
     "metadata": {},
     "output_type": "execute_result"
    }
   ],
   "source": [
    "df_tax_fp.groupby(['Taxonomic lineage']).count()"
   ]
  },
  {
   "cell_type": "code",
   "execution_count": 210,
   "id": "71c684e1-e784-445a-96ba-109c12b4924c",
   "metadata": {},
   "outputs": [
    {
     "data": {
      "image/png": "[encoded data removed]",
      "text/plain": [
       "<Figure size 900x900 with 1 Axes>"
      ]
     },
     "metadata": {},
     "output_type": "display_data"
    }
   ],
   "source": [
    "plt.figure(figsize = (9,9))\n",
    "dbseries=df_tax_fp['Taxonomic lineage'].value_counts()\n",
    "dbvalues=list(dbseries.values)\n",
    "dbindex=list(dbseries.index)\n",
    "plt.pie(dbvalues, labels=dbindex,autopct='%.2f%%', wedgeprops={\"edgecolor\":\"white\",'linewidth': 2, 'linestyle': 'solid', 'antialiased': True},\n",
    "        textprops={'fontsize': 14})\n",
    "plt.show()"
   ]
  },
  {
   "cell_type": "code",
   "execution_count": 217,
   "id": "a3280e71-dfac-4d9e-aa7a-3a7cb93bdbf6",
   "metadata": {},
   "outputs": [
    {
     "data": {
      "image/png": "[encoded data removed]",
      "text/plain": [
       "<Figure size 900x900 with 1 Axes>"
      ]
     },
     "metadata": {},
     "output_type": "display_data"
    }
   ],
   "source": [
    "#Are the errors FN equally distributed among taxa/species?\n",
    "plt.figure(figsize = (9,9))\n",
    "dbseries=df_tax_fn['Taxonomic lineage'].value_counts()\n",
    "dbvalues=list(dbseries.values)\n",
    "dbindex=list(dbseries.index)\n",
    "plt.pie(dbvalues, labels=dbindex,autopct='%.2f%%', wedgeprops={\"edgecolor\":\"white\",'linewidth': 2, 'linestyle': 'solid', 'antialiased': True},\n",
    "        textprops={'fontsize': 14})\n",
    "plt.show()"
   ]
  },
  {
   "cell_type": "code",
   "execution_count": 184,
   "id": "1b9113c4-93a0-433d-a165-8044682e064b",
   "metadata": {},
   "outputs": [],
   "source": [
    "FPR = len(false_pos)/ (len(false_pos) + len(true_neg))\n",
    "FNR = len(false_neg) / (len(false_neg) + len(true_pos))"
   ]
  },
  {
   "cell_type": "code",
   "execution_count": 186,
   "id": "345d73fe-4704-4790-b969-d32b8ad7270c",
   "metadata": {},
   "outputs": [
    {
     "name": "stdout",
     "output_type": "stream",
     "text": [
      "0.010714285714285714 0.35\n"
     ]
    }
   ],
   "source": [
    "print(FPR, FNR)"
   ]
  },
  {
   "cell_type": "code",
   "execution_count": 187,
   "id": "407850aa-a370-4ac6-ab9d-b296ce240456",
   "metadata": {},
   "outputs": [],
   "source": [
    "from sklearn.metrics import roc_curve, auc\n",
    "import matplotlib.pyplot as plt\n"
   ]
  },
  {
   "cell_type": "code",
   "execution_count": 191,
   "id": "70d676af-c501-4e31-87c9-dbe15e6c3c08",
   "metadata": {},
   "outputs": [],
   "source": [
    "fpr, tpr, thresholds = roc_curve(pept_label_b, y_pred_round_b)\n"
   ]
  },
  {
   "cell_type": "code",
   "execution_count": 189,
   "id": "4abb5d8b-6382-4fc3-aece-1462a9e4c255",
   "metadata": {},
   "outputs": [
    {
     "name": "stdout",
     "output_type": "stream",
     "text": [
      "AUC: 0.8196428571428571\n"
     ]
    }
   ],
   "source": [
    "roc_auc = auc(fpr, tpr)\n",
    "print(\"AUC:\", roc_auc)\n"
   ]
  },
  {
   "cell_type": "code",
   "execution_count": 190,
   "id": "c5b7f037-6556-43bc-9412-944c8f66f843",
   "metadata": {},
   "outputs": [
    {
     "data": {
      "image/png": "[encoded data removed]",
      "text/plain": [
       "<Figure size 800x600 with 1 Axes>"
      ]
     },
     "metadata": {},
     "output_type": "display_data"
    }
   ],
   "source": [
    "plt.figure(figsize=(8, 6))\n",
    "plt.plot(fpr, tpr, color='darkorange', lw=2, label='ROC curve (area = %0.2f)' % roc_auc)\n",
    "plt.plot([0, 1], [0, 1], color='navy', lw=2, linestyle='--')\n",
    "plt.xlim([0.0, 1.0])\n",
    "plt.ylim([0.0, 1.05])\n",
    "plt.xlabel('False Positive Rate')\n",
    "plt.ylabel('True Positive Rate')\n",
    "plt.title('Receiver Operating Characteristic (ROC) Curve')\n",
    "plt.legend(loc=\"lower right\")\n",
    "plt.show()\n"
   ]
  },
  {
   "cell_type": "code",
   "execution_count": null,
   "id": "dbff36b4-b0e9-4ef6-a61a-6e21778b02ec",
   "metadata": {},
   "outputs": [],
   "source": []
  }
 ],
 "metadata": {
  "kernelspec": {
   "display_name": "Python 3 (ipykernel)",
   "language": "python",
   "name": "python3"
  },
  "language_info": {
   "codemirror_mode": {
    "name": "ipython",
    "version": 3
   },
   "file_extension": ".py",
   "mimetype": "text/x-python",
   "name": "python",
   "nbconvert_exporter": "python",
   "pygments_lexer": "ipython3",
   "version": "3.11.4"
  }
 },
 "nbformat": 4,
 "nbformat_minor": 5
}
