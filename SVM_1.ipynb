{
 "cells": [
  {
   "cell_type": "code",
   "execution_count": 1,
   "id": "a29ece1b-08d4-4759-9867-2c1217e08c88",
   "metadata": {},
   "outputs": [],
   "source": [
    "import pandas as pd\n",
    "import numpy as np\n",
    "from sklearn import svm \n",
    "from sklearn.metrics import precision_score, recall_score, precision_recall_curve, confusion_matrix, matthews_corrcoef, accuracy_score"
   ]
  },
  {
   "cell_type": "markdown",
   "id": "297e1041-a731-4ff4-b940-ebe2ec35ac13",
   "metadata": {},
   "source": [
    "### we expect to have Mean length of SPs in the training set of about about 22±5\n",
    "### so we consider K ranging from 20 to 24 (moving K around the mean expected SP length) "
   ]
  },
  {
   "cell_type": "markdown",
   "id": "5a11b296-7665-442a-95eb-5e2c2f11051a",
   "metadata": {},
   "source": [
    "# SVM model:\n",
    "### Creation of 5 cross validation sets for each round of training"
   ]
  },
  {
   "cell_type": "code",
   "execution_count": 2,
   "id": "a2a01926-fd89-4871-8149-2fbe8cb9c297",
   "metadata": {},
   "outputs": [],
   "source": [
    "%%bash\n",
    "#round 1\n",
    "#cat trainings2.text trainings3.text trainings4.text >> trainings234.text\n",
    "#round 2\n",
    "#cat trainings0.text trainings3.text trainings4.text >> trainings034.text\n",
    "#round 3\n",
    "#cat trainings0.text trainings1.text trainings4.text >> trainings014.text\n",
    "#round 4\n",
    "#cat trainings0.text trainings1.text trainings2.text >> trainings012.text\n",
    "#round 5\n",
    "#cat trainings1.text trainings2.text trainings3.text >> trainings123.text"
   ]
  },
  {
   "cell_type": "markdown",
   "id": "187eec5d-6a49-4341-b07a-4a3528816f2a",
   "metadata": {},
   "source": [
    "# Prepraring data files for the first round \n",
    "first cross validation dataset (trainings234),\n",
    "Testing 80 combinations of parameters on validation dataset 1 (trainings1),\n",
    "testing the model with the best combination of parameters on the testing dataset 0 (trainings0)"
   ]
  },
  {
   "cell_type": "code",
   "execution_count": 3,
   "id": "f54d55ce-fe0b-498c-93e1-a39cc5c13ec5",
   "metadata": {},
   "outputs": [],
   "source": [
    "# creating dataframe of the cross validation dataset of the first round (trainings234)\n",
    "df_training_234 = pd.read_csv('trainings234.tsv', sep='\\t')"
   ]
  },
  {
   "cell_type": "code",
   "execution_count": 4,
   "id": "c08d72b4-0f2b-4f8b-ab15-43b784554c6d",
   "metadata": {},
   "outputs": [
    {
     "name": "stdout",
     "output_type": "stream",
     "text": [
      "9584\n"
     ]
    }
   ],
   "source": [
    "#creating a list with the labeling of the proteins containing or not containing the signal peptide in the subset for cross validation\n",
    "#creating a file with the labeling of the proteins containing or not containing the signal peptide in the subset for validation\n",
    "pept_label = open(\"pept_label_234.txt\",\"w\")\n",
    "pept_pr1 = []\n",
    "pept_label_234 = []\n",
    "for i in df_training_234[\"Signal peptide\"]:\n",
    "    pept_pr1.append(str(i))\n",
    "for j in range(len(pept_pr1)):\n",
    "    if pept_pr1[j] == \"nan\" :\n",
    "        pept_label_234.append(0)\n",
    "    else:\n",
    "        pept_label_234.append(1)\n",
    "\n",
    "for element in range(len(pept_label_234)):\n",
    "    pept_label.write(str(pept_label_234[element]) + \"\\n\")\n",
    "print(len(pept_label_234))"
   ]
  },
  {
   "cell_type": "markdown",
   "id": "d1fee354-25a3-4d40-996e-10e7c3288810",
   "metadata": {},
   "source": [
    "### Running the frequency programme on CROSS VALIDATION dataset (trainings234) with different k (20,21,22,23,24) to get a matrix of vectors with 20 values of frequencies for each residue"
   ]
  },
  {
   "cell_type": "code",
   "execution_count": 5,
   "id": "074598db-12c3-47ca-a423-9d393bccbfa4",
   "metadata": {},
   "outputs": [],
   "source": [
    "%%bash\n",
    "#running frequency.py programme to have a matrix of vectors: each sequence(in the range of k) for each protein is encoded in a vector of 20 values(frequencies of aminoacids)\n",
    "#this programme takes in input the dataset of proteins, k hyperparameter and outputfile with the matrix\n",
    "python3 frequency.py trainings234.fasta 20 X_train20_1.text \n",
    "python3 frequency.py trainings234.fasta 21 X_train21_1.text\n",
    "python3 frequency.py trainings234.fasta 22 X_train22_1.text\n",
    "python3 frequency.py trainings234.fasta 23 X_train23_1.text\n",
    "python3 frequency.py trainings234.fasta 24 X_train24_1.text "
   ]
  },
  {
   "cell_type": "markdown",
   "id": "e0612139-15db-45af-bf76-6e62df046b56",
   "metadata": {},
   "source": [
    "### Running the frequency programme on VALIDATION dataset 1 (trainings1) with different k (20,21,22,23,24) to get a matrix of vectors with 20 values of frequencies for each residue "
   ]
  },
  {
   "cell_type": "code",
   "execution_count": 6,
   "id": "cb932f80-9c1e-4a13-8b2b-56ebf5fce87f",
   "metadata": {},
   "outputs": [],
   "source": [
    "%%bash\n",
    "#running frequency.py programme to have a matrix of vectors: each sequence(in the range of k) for each protein is encoded in a vector of 20 values(frequencies of aminoacids)\n",
    "#this programme takes in input the dataset of proteins, k hyperparameter and outputfile with the matrix\n",
    "#for testing\n",
    "python3 frequency.py trainings1.fasta 20 X_test20_1.text \n",
    "python3 frequency.py trainings1.fasta 21 X_test21_1.text\n",
    "python3 frequency.py trainings1.fasta 22 X_test22_1.text\n",
    "python3 frequency.py trainings1.fasta 23 X_test23_1.text\n",
    "python3 frequency.py trainings1.fasta 24 X_test24_1.text "
   ]
  },
  {
   "cell_type": "code",
   "execution_count": 85,
   "id": "3dd57d48-d07a-4e93-a12c-240d650d0e68",
   "metadata": {},
   "outputs": [],
   "source": [
    "# creating dataframe of the training1\n",
    "df_training_1 = pd.read_csv('trainings1.tsv', sep='\\t')"
   ]
  },
  {
   "cell_type": "code",
   "execution_count": 86,
   "id": "1f807851-5139-43a4-8672-fe42043c5548",
   "metadata": {},
   "outputs": [],
   "source": [
    "import pandas as pd\n",
    "\n",
    "# Remove rows where \"Entry\" column equals \"Q3LFD5\" because obsolete protein not present in fasta file\n",
    "df_training_1 = df_training_1[df_training_1[\"Entry\"] != 'Q3LFD5']"
   ]
  },
  {
   "cell_type": "code",
   "execution_count": 87,
   "id": "07ce06fa-ba55-4648-b09d-f0d728f6da16",
   "metadata": {},
   "outputs": [
    {
     "name": "stdout",
     "output_type": "stream",
     "text": [
      "3193\n"
     ]
    }
   ],
   "source": [
    "#creating a file with the labeling of the proteins containing or not containing the signal peptide in the subset for validation\n",
    "pept_label = open(\"pept_label_1.txt\",\"w\")\n",
    "pept_pr1 = []\n",
    "pept_label_1 = []\n",
    "for i in df_training_1[\"Signal peptide\"]:\n",
    "    pept_pr1.append(str(i))\n",
    "for j in range(len(pept_pr1)):\n",
    "    if pept_pr1[j] == \"nan\" :\n",
    "        pept_label_1.append(0)\n",
    "    else:\n",
    "        pept_label_1.append(1)\n",
    "for element in range(len(pept_label_1)):\n",
    "    pept_label.write(str(pept_label_1[element])+\"\\n\")\n",
    "print(len(pept_label_1))"
   ]
  },
  {
   "cell_type": "markdown",
   "id": "b216def9-8a57-4ad5-b8ff-c81f8a0a6bc6",
   "metadata": {},
   "source": [
    "# Preparing data files for the second round \n",
    "second cross validation dataset (trainings034), Testing 80 combinations of parameters on validation dataset 2 (trainings2), testing the model with the best combination of parameters on the testing dataset 1 (trainings1)"
   ]
  },
  {
   "cell_type": "code",
   "execution_count": 10,
   "id": "612a36e9-a3f4-4950-90f6-1248400fa1c0",
   "metadata": {},
   "outputs": [],
   "source": [
    "# creating dataframe of the cross validation dataset of the second round (trainings034)\n",
    "df_training_034 = pd.read_csv('trainings034.tsv', sep='\\t')\n"
   ]
  },
  {
   "cell_type": "code",
   "execution_count": 11,
   "id": "b24f88cd-0c33-4b80-88d7-3998c6d2fd69",
   "metadata": {},
   "outputs": [
    {
     "name": "stdout",
     "output_type": "stream",
     "text": [
      "9585\n"
     ]
    }
   ],
   "source": [
    "#creating a list with the labeling of the proteins containing or not containing the signal peptide in the subset for cross validation\n",
    "pept_label = open(\"pept_label_034.txt\",\"w\")\n",
    "pept_pr1 = []\n",
    "pept_label_034 = []\n",
    "for i in df_training_034[\"Signal peptide\"]:\n",
    "    pept_pr1.append(str(i))\n",
    "for j in range(len(pept_pr1)):\n",
    "    if pept_pr1[j] == \"nan\" :\n",
    "        pept_label_034.append(0)\n",
    "    else:\n",
    "        pept_label_034.append(1)\n",
    "for element in range(len(pept_label_034)):\n",
    "    pept_label.write(str(pept_label_034[element]) + \"\\n\")\n",
    "\n",
    "print(len(pept_label_034))"
   ]
  },
  {
   "cell_type": "code",
   "execution_count": 12,
   "id": "5e6d7208-17ce-4ddf-8dfb-2cf2b0373856",
   "metadata": {},
   "outputs": [],
   "source": [
    "%%bash\n",
    "#running frequency.py programme to have a matrix of vectors: each sequence(in the range of k) for each protein is encoded in a vector of 20 values(frequencies of aminoacids)\n",
    "#this programme takes in input the dataset of proteins, k hyperparameter and outputfile with the matrix\n",
    "python3 frequency.py trainings034.fasta 20 X_train20_2.text \n",
    "python3 frequency.py trainings034.fasta 21 X_train21_2.text\n",
    "python3 frequency.py trainings034.fasta 22 X_train22_2.text\n",
    "python3 frequency.py trainings034.fasta 23 X_train23_2.text\n",
    "python3 frequency.py trainings034.fasta 24 X_train24_2.text "
   ]
  },
  {
   "cell_type": "code",
   "execution_count": 13,
   "id": "87c3dce9-f45c-44a4-a7f1-5359225668ec",
   "metadata": {},
   "outputs": [],
   "source": [
    "%%bash\n",
    "#running frequency.py programme to have a matrix of vectors: each sequence(in the range of k) for each protein is encoded in a vector of 20 values(frequencies of aminoacids)\n",
    "#this programme takes in input the dataset of proteins, k hyperparameter and outputfile with the matrix\n",
    "#for testing\n",
    "python3 frequency.py trainings2.fasta 20 X_test20_2.text \n",
    "python3 frequency.py trainings2.fasta 21 X_test21_2.text\n",
    "python3 frequency.py trainings2.fasta 22 X_test22_2.text\n",
    "python3 frequency.py trainings2.fasta 23 X_test23_2.text\n",
    "python3 frequency.py trainings2.fasta 24 X_test24_2.text "
   ]
  },
  {
   "cell_type": "code",
   "execution_count": 91,
   "id": "c129fa7c-d6b4-46dc-8e73-f8c053c05053",
   "metadata": {},
   "outputs": [],
   "source": [
    "# creating dataframe of the training2\n",
    "df_training_2 = pd.read_csv('trainings2.tsv', sep='\\t')"
   ]
  },
  {
   "cell_type": "code",
   "execution_count": 92,
   "id": "e66a2148-3fa3-4909-847a-eda79a973475",
   "metadata": {},
   "outputs": [
    {
     "data": {
      "text/plain": [
       "3193"
      ]
     },
     "execution_count": 92,
     "metadata": {},
     "output_type": "execute_result"
    }
   ],
   "source": [
    "#creating a file with the labeling of the proteins containing or not containing the signal peptide in the subset for validation\n",
    "pept_label = open(\"pept_label_2.txt\",\"w\")\n",
    "pept_pr2 = []\n",
    "pept_label_2 = []\n",
    "for i in df_training_2[\"Signal peptide\"]:\n",
    "    pept_pr2.append(str(i))\n",
    "for j in range(len(pept_pr2)):\n",
    "    if pept_pr2[j] == \"nan\" :\n",
    "        pept_label_2.append(0)\n",
    "    else:\n",
    "        pept_label_2.append(1)\n",
    "#pept_label_2.pop(-1)\n",
    "for element in range(len(pept_label_2)):\n",
    "    pept_label.write(str(pept_label_2[element])+\"\\n\")\n",
    "len(pept_label_2)"
   ]
  },
  {
   "cell_type": "markdown",
   "id": "181fce19-41da-4baa-880d-d6d0daf6564e",
   "metadata": {},
   "source": [
    "#  Preparing data files for the third round \n",
    "Third cross validation dataset (trainings014), Testing 80 combinations of parameters on validation dataset 3 (trainings3), testing the model with the best combination of parameters on the testing dataset 2 (trainings2)"
   ]
  },
  {
   "cell_type": "code",
   "execution_count": 16,
   "id": "065b9490-77ea-4d14-b43b-7a3542d0b065",
   "metadata": {},
   "outputs": [],
   "source": [
    "# creating dataframe of the cross validation dataset of the second round (trainings034)\n",
    "df_training_014 = pd.read_csv('trainings014.tsv', sep='\\t')"
   ]
  },
  {
   "cell_type": "code",
   "execution_count": 17,
   "id": "2324049d-f3b2-4bc4-a8e0-66520215929c",
   "metadata": {},
   "outputs": [],
   "source": [
    "import pandas as pd\n",
    "\n",
    "# Remove rows where \"Entry\" column equals \"Q3LFD5\" because obsolete protein not present in fasta file\n",
    "df_training_014 = df_training_014[df_training_014[\"Entry\"] != 'Q3LFD5']"
   ]
  },
  {
   "cell_type": "code",
   "execution_count": 18,
   "id": "5378a227-c678-425a-931d-822509ad3eca",
   "metadata": {},
   "outputs": [
    {
     "data": {
      "text/plain": [
       "9584"
      ]
     },
     "execution_count": 18,
     "metadata": {},
     "output_type": "execute_result"
    }
   ],
   "source": [
    "#creating a list with the labeling of the proteins containing or not containing the signal peptide in the subset for cross validation\n",
    "pept_label = open(\"pept_label_014.txt\",\"w\")\n",
    "pept_pr1 = []\n",
    "pept_label_014 = []\n",
    "for i in df_training_014[\"Signal peptide\"]:\n",
    "    pept_pr1.append(str(i))\n",
    "for j in range(len(pept_pr1)):\n",
    "    if pept_pr1[j] == \"nan\" :\n",
    "        pept_label_014.append(0)\n",
    "    else:\n",
    "        pept_label_014.append(1)\n",
    "for element in range(len(pept_label_014)):\n",
    "    pept_label.write(str(pept_label_014[element]) + \"\\n\")\n",
    "len(pept_label_014)"
   ]
  },
  {
   "cell_type": "code",
   "execution_count": 19,
   "id": "2e8f78a0-248d-44f0-95d9-cad1c998d117",
   "metadata": {},
   "outputs": [],
   "source": [
    "%%bash\n",
    "#running frequency.py programme to have a matrix of vectors: each sequence(in the range of k) for each protein is encoded in a vector of 20 values(frequencies of aminoacids)\n",
    "#this programme takes in input the dataset of proteins, k hyperparameter and outputfile with the matrix\n",
    "python3 frequency.py trainings014.fasta 20 X_train20_3.text \n",
    "python3 frequency.py trainings014.fasta 21 X_train21_3.text\n",
    "python3 frequency.py trainings014.fasta 22 X_train22_3.text\n",
    "python3 frequency.py trainings014.fasta 23 X_train23_3.text\n",
    "python3 frequency.py trainings014.fasta 24 X_train24_3.text"
   ]
  },
  {
   "cell_type": "code",
   "execution_count": 20,
   "id": "432bc7ee-284c-43c9-8e8b-af67de07ac86",
   "metadata": {},
   "outputs": [],
   "source": [
    "%%bash\n",
    "#running frequency.py programme to have a matrix of vectors: each sequence(in the range of k) for each protein is encoded in a vector of 20 values(frequencies of aminoacids)\n",
    "#this programme takes in input the dataset of proteins, k hyperparameter and outputfile with the matrix\n",
    "#for testing\n",
    "python3 frequency.py trainings3.fasta 20 X_test20_3.text \n",
    "python3 frequency.py trainings3.fasta 21 X_test21_3.text\n",
    "python3 frequency.py trainings3.fasta 22 X_test22_3.text\n",
    "python3 frequency.py trainings3.fasta 23 X_test23_3.text\n",
    "python3 frequency.py trainings3.fasta 24 X_test24_3.text "
   ]
  },
  {
   "cell_type": "code",
   "execution_count": 21,
   "id": "a2094412-362e-468b-b22d-4d2c3bf321ee",
   "metadata": {},
   "outputs": [],
   "source": [
    "# creating dataframe of the training3\n",
    "df_training_3 = pd.read_csv('trainings3.tsv', sep='\\t')"
   ]
  },
  {
   "cell_type": "code",
   "execution_count": 22,
   "id": "ea269a9b-be23-491a-87e8-d1077c126eef",
   "metadata": {},
   "outputs": [
    {
     "data": {
      "text/plain": [
       "3194"
      ]
     },
     "execution_count": 22,
     "metadata": {},
     "output_type": "execute_result"
    }
   ],
   "source": [
    "#creating a file with the labeling of the proteins containing or not containing the signal peptide in the subset for validation\n",
    "pept_label = open(\"pept_label_3.txt\",\"w\")\n",
    "pept_pr3 = []\n",
    "pept_label_3 = []\n",
    "for i in df_training_3[\"Signal peptide\"]:\n",
    "    pept_pr3.append(str(i))\n",
    "for j in range(len(pept_pr3)):\n",
    "    if pept_pr3[j] == \"nan\" :\n",
    "        pept_label_3.append(0)\n",
    "    else:\n",
    "        pept_label_3.append(1)\n",
    "#pept_label_3.pop(-1)\n",
    "for element in range(len(pept_label_3)):\n",
    "    pept_label.write(str(pept_label_3[element])+\"\\n\")\n",
    "len(pept_label_3)"
   ]
  },
  {
   "cell_type": "markdown",
   "id": "b23eede4-6922-48c8-a380-81b63238465f",
   "metadata": {},
   "source": [
    "#  Preparing data files for the fourth round \n",
    "fourth cross validation dataset (trainings012), Testing 80 combinations of parameters on validation dataset 4 (trainings4), testing the model with the best combination of parameters on the testing dataset 3 (trainings3)"
   ]
  },
  {
   "cell_type": "code",
   "execution_count": 23,
   "id": "5818a963-6c85-4b16-9130-dcf0c8d486bc",
   "metadata": {},
   "outputs": [],
   "source": [
    "# creating dataframe of the cross validation dataset of the second round (trainings014)\n",
    "df_training_012 = pd.read_csv('trainings012.tsv', sep='\\t')"
   ]
  },
  {
   "cell_type": "code",
   "execution_count": 24,
   "id": "4660cf2e-9dc0-4123-a7db-a18d923f05b5",
   "metadata": {},
   "outputs": [],
   "source": [
    "import pandas as pd\n",
    "\n",
    "# Remove rows where \"Entry\" column equals \"Q3LFD5\" because obsolete protein not present in fasta file\n",
    "df_training_012 = df_training_012[df_training_012[\"Entry\"] != 'Q3LFD5']\n"
   ]
  },
  {
   "cell_type": "code",
   "execution_count": 25,
   "id": "c3c62c07-382b-4961-8f49-2e66d76c4122",
   "metadata": {},
   "outputs": [
    {
     "data": {
      "text/plain": [
       "9580"
      ]
     },
     "execution_count": 25,
     "metadata": {},
     "output_type": "execute_result"
    }
   ],
   "source": [
    "#creating a list with the labeling of the proteins containing or not containing the signal peptide in the subset for cross validation\n",
    "pept_label = open(\"pept_label_012.txt\",\"w\")\n",
    "pept_pr1 = []\n",
    "pept_label_012 = []\n",
    "for i in df_training_012[\"Signal peptide\"]:\n",
    "    pept_pr1.append(str(i))\n",
    "for j in range(len(pept_pr1)):\n",
    "    if pept_pr1[j] == \"nan\" :\n",
    "        pept_label_012.append(0)\n",
    "    else:\n",
    "        pept_label_012.append(1)\n",
    "for element in range(len(pept_label_012)):\n",
    "    pept_label.write(str(pept_label_012[element]) + \"\\n\")\n",
    "len(pept_label_012)"
   ]
  },
  {
   "cell_type": "code",
   "execution_count": 26,
   "id": "9e72da96-a658-4c8f-8aed-dda13b9c56df",
   "metadata": {},
   "outputs": [],
   "source": [
    "%%bash\n",
    "#running frequency.py programme to have a matrix of vectors: each sequence(in the range of k) for each protein is encoded in a vector of 20 values(frequencies of aminoacids)\n",
    "#this programme takes in input the dataset of proteins, k hyperparameter and outputfile with the matrix\n",
    "python3 frequency.py trainings012.fasta 20 X_train20_4.text \n",
    "python3 frequency.py trainings012.fasta 21 X_train21_4.text\n",
    "python3 frequency.py trainings012.fasta 22 X_train22_4.text\n",
    "python3 frequency.py trainings012.fasta 23 X_train23_4.text\n",
    "python3 frequency.py trainings012.fasta 24 X_train24_4.text"
   ]
  },
  {
   "cell_type": "code",
   "execution_count": 27,
   "id": "24ac321e-caca-4005-bbe7-f94c6656b2a4",
   "metadata": {},
   "outputs": [],
   "source": [
    "%%bash\n",
    "#running frequency.py programme to have a matrix of vectors: each sequence(in the range of k) for each protein is encoded in a vector of 20 values(frequencies of aminoacids)\n",
    "#this programme takes in input the dataset of proteins, k hyperparameter and outputfile with the matrix\n",
    "#for testing\n",
    "python3 frequency.py trainings4.fasta 20 X_test20_4.text \n",
    "python3 frequency.py trainings4.fasta 21 X_test21_4.text\n",
    "python3 frequency.py trainings4.fasta 22 X_test22_4.text\n",
    "python3 frequency.py trainings4.fasta 23 X_test23_4.text\n",
    "python3 frequency.py trainings4.fasta 24 X_test24_4.text "
   ]
  },
  {
   "cell_type": "code",
   "execution_count": 28,
   "id": "740aa52e-fe25-444e-ae23-386436254988",
   "metadata": {},
   "outputs": [],
   "source": [
    "# creating dataframe of the training4\n",
    "df_training_4 = pd.read_csv('trainings4.tsv', sep='\\t')"
   ]
  },
  {
   "cell_type": "code",
   "execution_count": 29,
   "id": "d896d1cf-9e9f-47be-a8be-831c071b9137",
   "metadata": {},
   "outputs": [
    {
     "data": {
      "text/plain": [
       "3197"
      ]
     },
     "execution_count": 29,
     "metadata": {},
     "output_type": "execute_result"
    }
   ],
   "source": [
    "#creating a file with the labeling of the proteins containing or not containing the signal peptide in the subset for validation\n",
    "pept_label = open(\"pept_label_4.txt\",\"w\")\n",
    "pept_pr4 = []\n",
    "pept_label_4 = []\n",
    "for i in df_training_4[\"Signal peptide\"]:\n",
    "    pept_pr4.append(str(i))\n",
    "for j in range(len(pept_pr4)):\n",
    "    if pept_pr4[j] == \"nan\" :\n",
    "        pept_label_4.append(0)\n",
    "    else:\n",
    "        pept_label_4.append(1)\n",
    "#pept_label_3.pop(-1)\n",
    "for element in range(len(pept_label_4)):\n",
    "    pept_label.write(str(pept_label_4[element])+\"\\n\")\n",
    "len(pept_label_4)"
   ]
  },
  {
   "cell_type": "markdown",
   "id": "ddca302f-f244-4b93-85f6-f6bc0db1142e",
   "metadata": {},
   "source": [
    "# Preparing data files for the fifth round \n",
    "fifth cross validation dataset (trainings123), Testing 80 combinations of parameters on validation dataset 0 (trainings0), testing the model with the best combination of parameters on the testing dataset 4 (trainings4)"
   ]
  },
  {
   "cell_type": "code",
   "execution_count": 30,
   "id": "e4325a86-cc99-449e-883c-aa2d700657c6",
   "metadata": {},
   "outputs": [],
   "source": [
    "# creating dataframe of the cross validation dataset of the second round (trainings014)\n",
    "df_training_123 = pd.read_csv('trainings123.tsv', sep='\\t')"
   ]
  },
  {
   "cell_type": "code",
   "execution_count": 36,
   "id": "31d704e9-3efd-4d13-986c-4ad3f39a9b41",
   "metadata": {},
   "outputs": [],
   "source": [
    "import pandas as pd\n",
    "\n",
    "# Remove rows where \"Entry\" column equals \"Q3LFD5\" because obsolete protein not present in fasta file\n",
    "df_training_123 = df_training_123[df_training_123[\"Entry\"] != 'Q3LFD5']"
   ]
  },
  {
   "cell_type": "code",
   "execution_count": 37,
   "id": "a0f33e7e-b717-4b9d-8424-4e6ae75d4c4a",
   "metadata": {},
   "outputs": [
    {
     "data": {
      "text/plain": [
       "9580"
      ]
     },
     "execution_count": 37,
     "metadata": {},
     "output_type": "execute_result"
    }
   ],
   "source": [
    "#creating a list with the labeling of the proteins containing or not containing the signal peptide in the subset for cross validation\n",
    "pept_label = open(\"pept_label_123.txt\",\"w\")\n",
    "pept_pr1 = []\n",
    "pept_label_123 = []\n",
    "for i in df_training_123[\"Signal peptide\"]:\n",
    "    pept_pr1.append(str(i))\n",
    "for j in range(len(pept_pr1)):\n",
    "    if pept_pr1[j] == \"nan\" :\n",
    "        pept_label_123.append(0)\n",
    "    else:\n",
    "        pept_label_123.append(1)\n",
    "for element in range(len(pept_label_123)):\n",
    "    pept_label.write(str(pept_label_123[element]) + \"\\n\")\n",
    "len(pept_label_123)"
   ]
  },
  {
   "cell_type": "code",
   "execution_count": 33,
   "id": "ddfb4215-6ec7-45ff-a874-a4d8c0659da4",
   "metadata": {},
   "outputs": [],
   "source": [
    "%%bash\n",
    "#running frequency.py programme to have a matrix of vectors: each sequence(in the range of k) for each protein is encoded in a vector of 20 values(frequencies of aminoacids)\n",
    "#this programme takes in input the dataset of proteins, k hyperparameter and outputfile with the matrix\n",
    "python3 frequency.py trainings123.fasta 20 X_train20_5.text \n",
    "python3 frequency.py trainings123.fasta 21 X_train21_5.text\n",
    "python3 frequency.py trainings123.fasta 22 X_train22_5.text\n",
    "python3 frequency.py trainings123.fasta 23 X_train23_5.text\n",
    "python3 frequency.py trainings123.fasta 24 X_train24_5.text"
   ]
  },
  {
   "cell_type": "code",
   "execution_count": 34,
   "id": "f7fbb37e-8a7f-467c-a967-988de95be72e",
   "metadata": {},
   "outputs": [],
   "source": [
    "%%bash\n",
    "#running frequency.py programme to have a matrix of vectors: each sequence(in the range of k) for each protein is encoded in a vector of 20 values(frequencies of aminoacids)\n",
    "#this programme takes in input the dataset of proteins, k hyperparameter and outputfile with the matrix\n",
    "#for testing\n",
    "python3 frequency.py trainings0.fasta 20 X_test20_5.text \n",
    "python3 frequency.py trainings0.fasta 21 X_test21_5.text\n",
    "python3 frequency.py trainings0.fasta 22 X_test22_5.text\n",
    "python3 frequency.py trainings0.fasta 23 X_test23_5.text\n",
    "python3 frequency.py trainings0.fasta 24 X_test24_5.text "
   ]
  },
  {
   "cell_type": "markdown",
   "id": "d772a54c-e04b-4115-be01-6305f64f4875",
   "metadata": {},
   "source": [
    "### running SVM_training_testing.py programme to train my model with each X_train file for each k with every combination of gamma and C values using kernel rbf and predict on each X_test file for each k the presence of the peptide in every sequence\n",
    "### the output is a file with each prediction for every combination of parameters on X_train file and X_test file with a certain k value\n",
    "### this python programme trains the model with cross validation dataset, test it on validation test and the results is the prediction,input1 contains the matrix from cross validation dataset,input2 contains the matrix from validation dataset,input3 contains the output of the prediction on validation test¶"
   ]
  },
  {
   "cell_type": "code",
   "execution_count": 38,
   "id": "ee3b0b58-6eec-4f68-9205-46813762bc5e",
   "metadata": {},
   "outputs": [],
   "source": [
    "%%bash\n",
    "python3 SVM_training_testing.py"
   ]
  },
  {
   "cell_type": "code",
   "execution_count": 93,
   "id": "b33b98f1-51b5-4dbc-8f81-052498979d8c",
   "metadata": {},
   "outputs": [],
   "source": [
    "%%bash\n",
    "#computing the mcc for each prediction for each parameters value for each round\n",
    "python3 SVM_mcc-Copy1.py"
   ]
  },
  {
   "cell_type": "code",
   "execution_count": 94,
   "id": "885752aa-3df9-471f-be22-b8b8077fcace",
   "metadata": {},
   "outputs": [],
   "source": [
    "%%bash\n",
    "#all best combinations for each k for each round\n",
    "python3 all_combinations.py"
   ]
  },
  {
   "cell_type": "markdown",
   "id": "ff858e9d-78ce-403f-aaec-a7d6a3955442",
   "metadata": {},
   "source": [
    "## the best combination of each round is:\n",
    "\n",
    "#### round1: k:20, C:2, gamma: \"scale\" --> MCC: 0.66\n",
    "#### round2: k:20, C:4, gamma:2 --> MCC: 0.61\n",
    "#### round3: k:20, C:4, gamma: \"scale\" --> MCC: 0.72\n",
    "#### round4: k:20, C:4, gamma:2 --> MCC: 0.66\n",
    "#### round5: k:20, C:2, gamma: \"scale\" --> MCC: 0.68"
   ]
  },
  {
   "cell_type": "markdown",
   "id": "91bab1a8-d632-4225-a603-53687502cfd4",
   "metadata": {},
   "source": [
    "## round1: Testing the best combination on testing dataset (trainings0) "
   ]
  },
  {
   "cell_type": "code",
   "execution_count": 95,
   "id": "78e53964-4aaa-488c-9c7a-32a9892b4f95",
   "metadata": {},
   "outputs": [],
   "source": [
    "%%bash\n",
    "python3 frequency.py trainings0.fasta 20 X_test20_final_round1.text "
   ]
  },
  {
   "cell_type": "code",
   "execution_count": 96,
   "id": "1c992c5e-9c4f-411e-80df-7ed4c44903d0",
   "metadata": {},
   "outputs": [],
   "source": [
    "# creating dataframe of the training0\n",
    "df_training_0 = pd.read_csv('trainings0.tsv', sep='\\t')"
   ]
  },
  {
   "cell_type": "code",
   "execution_count": 97,
   "id": "088d86de-872e-4b34-9c8d-d75395902cf0",
   "metadata": {},
   "outputs": [],
   "source": [
    "#creating a file with the labeling of the proteins containing or not containing the signal peptide in the subset for validation\n",
    "pept_label = open(\"pept_label_5.txt\",\"w\")\n",
    "pept_pr0 = []\n",
    "pept_label_5 = []\n",
    "for i in df_training_0[\"Signal peptide\"]:\n",
    "    pept_pr0.append(str(i))\n",
    "for j in range(len(pept_pr0)):\n",
    "    if pept_pr0[j] == \"nan\" :\n",
    "        pept_label_5.append(0)\n",
    "    else:\n",
    "        pept_label_5.append(1)\n",
    "pept_label_5.pop(-1)\n",
    "for element in range(len(pept_label_5)):\n",
    "    pept_label.write(str(pept_label_5[element])+\"\\n\")"
   ]
  },
  {
   "cell_type": "code",
   "execution_count": 98,
   "id": "ec535bc1-621a-4f18-9b15-370f92c3f665",
   "metadata": {},
   "outputs": [],
   "source": [
    "#the best combination with k=20 is C = 2 and gamma = scale\n",
    "#let's test on testing dataset round1\n",
    "X_train_file = open(\"X_train20.text\",\"r\")\n",
    "X_test_file = open(\"X_test20_final_round1.text\",\"r\")\n",
    "X_train = []\n",
    "X_test = []\n",
    "for element in X_train_file:\n",
    "    X_train.append(element.split())\n",
    "for element1 in X_test_file:\n",
    "    X_test.append(element1.split())\n",
    "mySVC = svm.SVC(C=2, kernel='rbf', gamma=\"scale\")\n",
    "# Train (fit) the model on training data\n",
    "mySVC.fit(X_train, pept_label_234)\n",
    "# Predict classes on testing data\n",
    "y_pred_round1 = mySVC.predict(X_test)"
   ]
  },
  {
   "cell_type": "code",
   "execution_count": 99,
   "id": "dc12f04c-991b-4d1b-8bbf-be11789a37eb",
   "metadata": {},
   "outputs": [
    {
     "data": {
      "text/plain": [
       "0.668471183030517"
      ]
     },
     "execution_count": 99,
     "metadata": {},
     "output_type": "execute_result"
    }
   ],
   "source": [
    "mcc_round1 = matthews_corrcoef(pept_label_5, y_pred_round1)\n",
    "mcc_round1"
   ]
  },
  {
   "cell_type": "code",
   "execution_count": 100,
   "id": "cd7ab26c-7463-4982-be9d-d635ec419e40",
   "metadata": {},
   "outputs": [
    {
     "name": "stdout",
     "output_type": "stream",
     "text": [
      "precision:  0.7045454545454546 recall:  0.6702702702702703 accuracy:  0.964610084559975\n"
     ]
    }
   ],
   "source": [
    "precision1 = precision_score(pept_label_5, y_pred_round1)\n",
    "recall1 = recall_score(pept_label_5, y_pred_round1)\n",
    "accuracy1 = accuracy_score(pept_label_5, y_pred_round1)\n",
    "print(\"precision: \", precision1,\"recall: \", recall1,\"accuracy: \", accuracy1)"
   ]
  },
  {
   "cell_type": "markdown",
   "id": "c61ed640-7a54-451e-ad84-5564b4ebf93a",
   "metadata": {},
   "source": [
    "## round2: Testing the best combination on testing dataset (trainings1) "
   ]
  },
  {
   "cell_type": "code",
   "execution_count": 101,
   "id": "1c99aaeb-7372-4e92-806a-0192fad970cc",
   "metadata": {},
   "outputs": [],
   "source": [
    "%%bash\n",
    "python3 frequency.py trainings1.fasta 20 X_test20_final_round2.text "
   ]
  },
  {
   "cell_type": "code",
   "execution_count": 102,
   "id": "a8a34a30-23a5-4632-84c8-abcf2712e33c",
   "metadata": {},
   "outputs": [],
   "source": [
    "#the best combination with k=20 is C = 4 and gamma = 2\n",
    "#let's test on testing dataset round2\n",
    "X_train_file = open(\"X_train20_2.text\",\"r\")\n",
    "X_test_file = open(\"X_test20_final_round2.text\",\"r\")\n",
    "X_train = []\n",
    "X_test = []\n",
    "for element in X_train_file:\n",
    "    X_train.append(element.split())\n",
    "for element1 in X_test_file:\n",
    "    X_test.append(element1.split())\n",
    "mySVC = svm.SVC(C=4, kernel='rbf', gamma= 2)\n",
    "# Train (fit) the model on training data\n",
    "mySVC.fit(X_train, pept_label_034)\n",
    "# Predict classes on testing data\n",
    "y_pred_round2 = mySVC.predict(X_test)"
   ]
  },
  {
   "cell_type": "code",
   "execution_count": 103,
   "id": "17be9a69-e088-4023-98ec-888fc5656c93",
   "metadata": {},
   "outputs": [
    {
     "data": {
      "text/plain": [
       "0.6335747206092307"
      ]
     },
     "execution_count": 103,
     "metadata": {},
     "output_type": "execute_result"
    }
   ],
   "source": [
    "mcc_round2 = matthews_corrcoef(pept_label_1, y_pred_round2)\n",
    "mcc_round2"
   ]
  },
  {
   "cell_type": "code",
   "execution_count": 104,
   "id": "257251ad-657e-48c0-b137-606b40bd9edc",
   "metadata": {},
   "outputs": [
    {
     "name": "stdout",
     "output_type": "stream",
     "text": [
      "precision:  0.7591240875912408 recall:  0.5591397849462365 accuracy:  0.9639837143751957\n"
     ]
    }
   ],
   "source": [
    "precision2 = precision_score(pept_label_1, y_pred_round2)\n",
    "recall2 = recall_score(pept_label_1, y_pred_round2)\n",
    "accuracy2 = accuracy_score(pept_label_1, y_pred_round2)\n",
    "print(\"precision: \", precision2,\"recall: \", recall2,\"accuracy: \", accuracy2)"
   ]
  },
  {
   "cell_type": "markdown",
   "id": "543a2930-7e0f-4fc5-a436-9b20635faa2b",
   "metadata": {},
   "source": [
    "## round3: Testing the best combination on testing dataset (trainings2) "
   ]
  },
  {
   "cell_type": "code",
   "execution_count": 105,
   "id": "7c2cb499-b2f4-4d03-9de7-66e59dd8a769",
   "metadata": {},
   "outputs": [],
   "source": [
    "%%bash\n",
    "python3 frequency.py trainings2.fasta 20 X_test20_final_round3.text "
   ]
  },
  {
   "cell_type": "code",
   "execution_count": 106,
   "id": "0af4796a-59ff-4d18-962a-ec49704b3a5d",
   "metadata": {},
   "outputs": [],
   "source": [
    "#the best combination with k=20 is C = 4 and gamma = scale\n",
    "#let's test on testing dataset round3\n",
    "X_train_file = open(\"X_train20_3.text\",\"r\")\n",
    "X_test_file = open(\"X_test20_final_round3.text\",\"r\")\n",
    "X_train = []\n",
    "X_test = []\n",
    "for element in X_train_file:\n",
    "    X_train.append(element.split())\n",
    "for element1 in X_test_file:\n",
    "    X_test.append(element1.split())\n",
    "mySVC = svm.SVC(C=4, kernel='rbf', gamma= \"scale\")\n",
    "# Train (fit) the model on training data\n",
    "mySVC.fit(X_train, pept_label_014)\n",
    "# Predict classes on testing data\n",
    "y_pred_round3 = mySVC.predict(X_test)"
   ]
  },
  {
   "cell_type": "code",
   "execution_count": 107,
   "id": "d86b59dc-e44d-4732-8c90-0b64246f62e0",
   "metadata": {},
   "outputs": [
    {
     "data": {
      "text/plain": [
       "0.6457700994667923"
      ]
     },
     "execution_count": 107,
     "metadata": {},
     "output_type": "execute_result"
    }
   ],
   "source": [
    "mcc_round3 = matthews_corrcoef(pept_label_2, y_pred_round3)\n",
    "mcc_round3"
   ]
  },
  {
   "cell_type": "code",
   "execution_count": 108,
   "id": "94356a36-3d3e-4ec1-b072-1670f73ab55a",
   "metadata": {},
   "outputs": [
    {
     "name": "stdout",
     "output_type": "stream",
     "text": [
      "precision:  0.7169811320754716 recall:  0.6162162162162163 accuracy:  0.9636705292828062\n"
     ]
    }
   ],
   "source": [
    "precision3 = precision_score(pept_label_2, y_pred_round3)\n",
    "recall3 = recall_score(pept_label_2, y_pred_round3)\n",
    "accuracy3 = accuracy_score(pept_label_2, y_pred_round3)\n",
    "print(\"precision: \", precision3,\"recall: \", recall3,\"accuracy: \", accuracy3)"
   ]
  },
  {
   "cell_type": "markdown",
   "id": "eb3f6043-c9c3-4dc2-b4b1-4b8187fae5a5",
   "metadata": {},
   "source": [
    "## round4: Testing the best combination on testing dataset (trainings3) "
   ]
  },
  {
   "cell_type": "code",
   "execution_count": 109,
   "id": "d31b65f3-75b3-416f-9693-0fb849fcbe31",
   "metadata": {},
   "outputs": [],
   "source": [
    "%%bash\n",
    "python3 frequency.py trainings3.fasta 20 X_test20_final_round4.text "
   ]
  },
  {
   "cell_type": "code",
   "execution_count": 110,
   "id": "9e37df35-12ba-440b-959e-a15db7d1b8b3",
   "metadata": {},
   "outputs": [],
   "source": [
    "#the best combination with k=20 is C = 4 and gamma = 2\n",
    "#let's test on testing dataset round3\n",
    "X_train_file = open(\"X_train20_4.text\",\"r\")\n",
    "X_test_file = open(\"X_test20_final_round4.text\",\"r\")\n",
    "X_train = []\n",
    "X_test = []\n",
    "for element in X_train_file:\n",
    "    X_train.append(element.split())\n",
    "for element1 in X_test_file:\n",
    "    X_test.append(element1.split())\n",
    "mySVC = svm.SVC(C=4, kernel='rbf', gamma= 2)\n",
    "# Train (fit) the model on training data\n",
    "mySVC.fit(X_train, pept_label_012)\n",
    "# Predict classes on testing data\n",
    "y_pred_round4 = mySVC.predict(X_test)"
   ]
  },
  {
   "cell_type": "code",
   "execution_count": 111,
   "id": "ec6fdcf3-43db-4a1c-a561-658f842e04eb",
   "metadata": {},
   "outputs": [
    {
     "data": {
      "text/plain": [
       "0.6841622941152949"
      ]
     },
     "execution_count": 111,
     "metadata": {},
     "output_type": "execute_result"
    }
   ],
   "source": [
    "mcc_round4 = matthews_corrcoef(pept_label_3, y_pred_round4)\n",
    "mcc_round4"
   ]
  },
  {
   "cell_type": "code",
   "execution_count": 112,
   "id": "63766425-31ed-4100-8f85-980cbfbb8dc9",
   "metadata": {},
   "outputs": [
    {
     "name": "stdout",
     "output_type": "stream",
     "text": [
      "precision:  0.78 recall:  0.6290322580645161 accuracy:  0.9680651221039449\n"
     ]
    }
   ],
   "source": [
    "precision4 = precision_score(pept_label_3, y_pred_round4)\n",
    "recall4 = recall_score(pept_label_3, y_pred_round4)\n",
    "accuracy4 = accuracy_score(pept_label_3, y_pred_round4)\n",
    "print(\"precision: \", precision4,\"recall: \", recall4,\"accuracy: \", accuracy4)"
   ]
  },
  {
   "cell_type": "markdown",
   "id": "0c83df34-4b59-490e-b4b3-4cf8f2ce256d",
   "metadata": {},
   "source": [
    "## round5: Testing the best combination on testing dataset (trainings4) "
   ]
  },
  {
   "cell_type": "code",
   "execution_count": 113,
   "id": "d5cf8d81-cb0b-4a4e-9875-740f24e9d0dd",
   "metadata": {},
   "outputs": [],
   "source": [
    "%%bash\n",
    "python3 frequency.py trainings4.fasta 20 X_test20_final_round5.text "
   ]
  },
  {
   "cell_type": "code",
   "execution_count": 114,
   "id": "1feaa6bf-d9ea-4209-9155-c5c1836b6754",
   "metadata": {},
   "outputs": [],
   "source": [
    "#the best combination with k=20 is C = 2 and gamma = \"scale\"\n",
    "#let's test on testing dataset round3\n",
    "X_train_file = open(\"X_train20_5.text\",\"r\")\n",
    "X_test_file = open(\"X_test20_final_round5.text\",\"r\")\n",
    "X_train = []\n",
    "X_test = []\n",
    "for element in X_train_file:\n",
    "    X_train.append(element.split())\n",
    "for element1 in X_test_file:\n",
    "    X_test.append(element1.split())\n",
    "mySVC = svm.SVC(C=2, kernel='rbf', gamma=\"scale\")\n",
    "# Train (fit) the model on training data\n",
    "mySVC.fit(X_train, pept_label_123)\n",
    "# Predict classes on testing data\n",
    "y_pred_round5 = mySVC.predict(X_test)"
   ]
  },
  {
   "cell_type": "code",
   "execution_count": 115,
   "id": "aa27e943-a69f-415e-8210-a22dbaf86eb8",
   "metadata": {},
   "outputs": [
    {
     "data": {
      "text/plain": [
       "0.6239031951301988"
      ]
     },
     "execution_count": 115,
     "metadata": {},
     "output_type": "execute_result"
    }
   ],
   "source": [
    "mcc_round5 = matthews_corrcoef(pept_label_4, y_pred_round5)\n",
    "mcc_round5"
   ]
  },
  {
   "cell_type": "code",
   "execution_count": 116,
   "id": "ed7fbb78-65a2-4140-8184-06a01433780c",
   "metadata": {},
   "outputs": [
    {
     "name": "stdout",
     "output_type": "stream",
     "text": [
      "precision:  0.7025316455696202 recall:  0.5904255319148937 accuracy:  0.9612136377854238\n"
     ]
    }
   ],
   "source": [
    "precision5 = precision_score(pept_label_4, y_pred_round5)\n",
    "recall5 = recall_score(pept_label_4, y_pred_round5)\n",
    "accuracy5 = accuracy_score(pept_label_4, y_pred_round5)\n",
    "print(\"precision: \", precision5,\"recall: \", recall5,\"accuracy: \", accuracy5)"
   ]
  },
  {
   "cell_type": "code",
   "execution_count": 117,
   "id": "976d97de-9e04-4e5e-8f02-d6057fa34947",
   "metadata": {},
   "outputs": [],
   "source": [
    "#computing mean and standard deviation with the data for the 5 rounds:\n",
    "data_mcc =np.array([mcc_round1,mcc_round2,mcc_round3,mcc_round4,mcc_round5])\n",
    "data_accuracy = np.array([accuracy1,accuracy2,accuracy3,accuracy4,accuracy5])\n",
    "precision = [precision1,precision2,precision3,precision4,precision5]\n",
    "recall = [recall1,recall2,recall3,recall4,recall5]\n",
    "f1_score =[]\n",
    "for i in range(len(recall)):\n",
    "    f1_score.append(2 * (precision[i] * recall[i]) / (precision[i] + recall[i]))\n",
    "data_f1_Score = np.array(f1_score)\n",
    "mean_f1_Score = np.mean(f1_score)\n",
    "std_f1_Score = np.std(f1_score)\n",
    "data_precision = np.array(precision)\n",
    "data_recall = np.array(recall)\n",
    "mean_value_mcc = np.mean(data_mcc)\n",
    "std_deviation_mcc = np.std(data_mcc)\n",
    "mean_value_acc = np.mean(data_accuracy)\n",
    "std_deviation_acc = np.std(data_accuracy)\n",
    "mean_value_prec = np.mean(data_precision)\n",
    "std_deviation_prec = np.std(data_precision)\n",
    "mean_value_recall = np.mean(data_recall)\n",
    "std_deviation_recall = np.std(data_recall)"
   ]
  },
  {
   "cell_type": "code",
   "execution_count": 118,
   "id": "de27b714-aea3-4407-b496-c76dc95d8905",
   "metadata": {},
   "outputs": [
    {
     "name": "stdout",
     "output_type": "stream",
     "text": [
      "0.6511762984704067\n",
      "0.022226352095238263\n"
     ]
    }
   ],
   "source": [
    "print(mean_value_mcc)\n",
    "print(std_deviation_mcc)"
   ]
  },
  {
   "cell_type": "code",
   "execution_count": 119,
   "id": "e6629d11-74b3-425a-92f5-ec913faf92a4",
   "metadata": {},
   "outputs": [
    {
     "name": "stdout",
     "output_type": "stream",
     "text": [
      "0.9643086176214691\n",
      "0.00220426075021884\n"
     ]
    }
   ],
   "source": [
    "print(mean_value_acc)\n",
    "print(std_deviation_acc)"
   ]
  },
  {
   "cell_type": "code",
   "execution_count": 120,
   "id": "15d1f58f-6931-4319-8d78-f59525943d29",
   "metadata": {},
   "outputs": [
    {
     "name": "stdout",
     "output_type": "stream",
     "text": [
      "0.7326364639563575\n",
      "0.031258256728433235\n"
     ]
    }
   ],
   "source": [
    "print(mean_value_prec)\n",
    "print(std_deviation_prec)"
   ]
  },
  {
   "cell_type": "code",
   "execution_count": 121,
   "id": "f6772106-19a1-41ca-aeb9-1b183f9d2c59",
   "metadata": {},
   "outputs": [
    {
     "name": "stdout",
     "output_type": "stream",
     "text": [
      "0.6130168122824265\n",
      "0.03730359007904047\n"
     ]
    }
   ],
   "source": [
    "print(mean_value_recall)\n",
    "print(std_deviation_recall)"
   ]
  },
  {
   "cell_type": "code",
   "execution_count": 122,
   "id": "c1e087fd-933b-4ab4-bffa-6c9ee28ec3de",
   "metadata": {},
   "outputs": [
    {
     "name": "stdout",
     "output_type": "stream",
     "text": [
      "0.6663562447856626\n",
      "0.022162322706710067\n"
     ]
    }
   ],
   "source": [
    "print(mean_f1_Score)\n",
    "print(std_f1_Score)"
   ]
  },
  {
   "cell_type": "markdown",
   "id": "e298b2a1-4a0d-46f8-83af-beda99b64576",
   "metadata": {},
   "source": [
    "### the best combination for this model is k=20, C=4, gamma = \"scale\""
   ]
  },
  {
   "cell_type": "code",
   "execution_count": 69,
   "id": "46329dc0-9079-485d-967a-01390f62cb86",
   "metadata": {},
   "outputs": [],
   "source": [
    "%%bash\n",
    "python3 frequency.py full_training.fasta 20 X_train20_final_round_tr.text "
   ]
  },
  {
   "cell_type": "code",
   "execution_count": 70,
   "id": "f35c73a9-8ce8-489a-9cfb-ce58a427f5ee",
   "metadata": {},
   "outputs": [],
   "source": [
    "%%bash\n",
    "python3 frequency.py benchmarking_posneg.fasta 20 X_test20_final_round_be.text "
   ]
  },
  {
   "cell_type": "code",
   "execution_count": 71,
   "id": "6e591782-1e9b-48b9-bf3f-d234c5df04a0",
   "metadata": {},
   "outputs": [],
   "source": [
    "# final round with full postive training set and testing with benchmarking set\n",
    "df_trainp2 = pd.read_csv('full_training.tsv', sep='\\t')"
   ]
  },
  {
   "cell_type": "code",
   "execution_count": 72,
   "id": "678fced1-fbd0-4beb-85ae-18d7263385d3",
   "metadata": {},
   "outputs": [],
   "source": [
    "# Remove rows where \"Entry\" column equals \"Q3LFD5\" because obsolete protein not present in fasta file\n",
    "df_trainp2 = df_trainp2[df_trainp2[\"Entry\"] != 'Q3LFD5']"
   ]
  },
  {
   "cell_type": "code",
   "execution_count": 73,
   "id": "73761421-d260-479a-a8c0-8c48c4fb24ff",
   "metadata": {},
   "outputs": [
    {
     "data": {
      "text/plain": [
       "15971"
      ]
     },
     "execution_count": 73,
     "metadata": {},
     "output_type": "execute_result"
    }
   ],
   "source": [
    "#creating a list with the labeling of the proteins containing or not containing the signal peptide in the subset for cross validation\n",
    "pept_pr_train = []\n",
    "pept_label_train= []\n",
    "for i in df_trainp2[\"Signal peptide\"]:\n",
    "    pept_pr_train.append(str(i))\n",
    "for j in range(len(pept_pr_train)):\n",
    "    if pept_pr_train[j] == \"nan\" :\n",
    "        pept_label_train.append(0)\n",
    "    else:\n",
    "        pept_label_train.append(1)\n",
    "len(pept_label_train)"
   ]
  },
  {
   "cell_type": "code",
   "execution_count": 74,
   "id": "35526464-6d4d-49fe-b070-2fa560e0aab8",
   "metadata": {},
   "outputs": [],
   "source": [
    "# creating dataframe of the benchmarking dataset for the final round\n",
    "df_training_b = pd.read_csv('benchmarking_posneg.tsv', sep='\\t')"
   ]
  },
  {
   "cell_type": "code",
   "execution_count": 75,
   "id": "1ef4f1fd-dfc6-4991-a553-a0bd2d121bed",
   "metadata": {},
   "outputs": [],
   "source": [
    "#final round\n",
    "#creating a list with the labeling of the proteins containing or not containing the signal peptide in the subset for validation\n",
    "pept_pr1 = []\n",
    "pept_label_b = []\n",
    "for i in df_training_b[\"Signal peptide\"]:\n",
    "    pept_pr1.append(str(i))\n",
    "for j in range(len(pept_pr1)):\n",
    "    if pept_pr1[j] == \"nan\" :\n",
    "        pept_label_b.append(0)\n",
    "    else:\n",
    "        pept_label_b.append(1)"
   ]
  },
  {
   "cell_type": "code",
   "execution_count": 76,
   "id": "7b04a927-d506-4ef2-b378-9d0f6ab08c83",
   "metadata": {},
   "outputs": [],
   "source": [
    "#the best combination with k=20 is C = 4 and gamma = \"scale\"\n",
    "#let's test on benchmarking dataset\n",
    "X_train_file = open(\"X_train20_final_round_tr.text\",\"r\")\n",
    "X_test_file = open(\"X_test20_final_round_be.text\",\"r\")\n",
    "X_train = []\n",
    "X_test = []\n",
    "for element in X_train_file:\n",
    "    X_train.append(element.split())\n",
    "for element1 in X_test_file:\n",
    "    X_test.append(element1.split())\n",
    "mySVC = svm.SVC(C=4, kernel='rbf', gamma=\"scale\")\n",
    "# Train (fit) the model on training data\n",
    "mySVC.fit(X_train, pept_label_train)\n",
    "# Predict classes on testing data\n",
    "y_pred_roundb = mySVC.predict(X_test)"
   ]
  },
  {
   "cell_type": "code",
   "execution_count": 77,
   "id": "4e315bab-a71e-43ec-8b7f-ac48e3e9892b",
   "metadata": {},
   "outputs": [
    {
     "data": {
      "text/plain": [
       "0.6752094029726076"
      ]
     },
     "execution_count": 77,
     "metadata": {},
     "output_type": "execute_result"
    }
   ],
   "source": [
    "mcc_roundb = matthews_corrcoef(pept_label_b, y_pred_roundb)\n",
    "mcc_roundb"
   ]
  },
  {
   "cell_type": "code",
   "execution_count": 78,
   "id": "954031b6-e15b-4971-9c57-d62a48c1c8a3",
   "metadata": {},
   "outputs": [],
   "source": [
    "confusion_matrix_result_b = confusion_matrix(pept_label_b, y_pred_roundb)"
   ]
  },
  {
   "cell_type": "code",
   "execution_count": 79,
   "id": "4295a3fa-0f7f-45b6-8cab-9a6ab7ce84b1",
   "metadata": {},
   "outputs": [
    {
     "data": {
      "text/plain": [
       "array([[1662,   18],\n",
       "       [  67,   93]])"
      ]
     },
     "execution_count": 79,
     "metadata": {},
     "output_type": "execute_result"
    }
   ],
   "source": [
    "confusion_matrix_result_b"
   ]
  },
  {
   "cell_type": "code",
   "execution_count": 80,
   "id": "bb982a91-0d58-4db6-8b44-db4d583fcfbf",
   "metadata": {},
   "outputs": [],
   "source": [
    "# Identify false positives (18) and false negatives(67)"
   ]
  },
  {
   "cell_type": "code",
   "execution_count": 81,
   "id": "ec3ca28f-9bf9-4a4c-b417-c76d3a20ef6f",
   "metadata": {},
   "outputs": [],
   "source": [
    "false_pos = []\n",
    "false_neg = []\n",
    "for i in range (len(pept_label_b)):\n",
    "    if pept_label_b[i] == 0:\n",
    "        if y_pred_roundb[i] != 0:\n",
    "            false_pos.append(i)\n",
    "    if pept_label_b[i] == 1:\n",
    "        if y_pred_roundb[i] != 1:\n",
    "            false_neg.append(i)"
   ]
  },
  {
   "cell_type": "code",
   "execution_count": 82,
   "id": "44f684db-9c68-4204-bf0b-f8dd8380233b",
   "metadata": {},
   "outputs": [
    {
     "name": "stdout",
     "output_type": "stream",
     "text": [
      "fp:  [246, 287, 373, 383, 488, 496, 593, 644, 682, 872, 1020, 1066, 1225, 1280, 1311, 1612, 1618, 1786]\n",
      "fn:  [1, 3, 9, 10, 11, 14, 18, 19, 22, 23, 31, 33, 34, 35, 36, 37, 38, 39, 40, 45, 47, 49, 51, 55, 56, 57, 60, 61, 63, 65, 67, 69, 70, 71, 75, 81, 85, 86, 87, 89, 90, 94, 95, 97, 99, 103, 104, 106, 108, 113, 114, 115, 117, 122, 123, 126, 130, 131, 132, 134, 139, 142, 143, 150, 154, 155, 158]\n"
     ]
    }
   ],
   "source": [
    "print(\"fp: \", false_pos)\n",
    "print(\"fn: \", false_neg)\n"
   ]
  },
  {
   "cell_type": "code",
   "execution_count": null,
   "id": "1a7581f7-9085-4029-9e04-b925f400330b",
   "metadata": {},
   "outputs": [],
   "source": []
  },
  {
   "cell_type": "code",
   "execution_count": null,
   "id": "42f7e224-37b2-492b-960f-52651a4d1d59",
   "metadata": {},
   "outputs": [],
   "source": []
  }
 ],
 "metadata": {
  "kernelspec": {
   "display_name": "Python 3 (ipykernel)",
   "language": "python",
   "name": "python3"
  },
  "language_info": {
   "codemirror_mode": {
    "name": "ipython",
    "version": 3
   },
   "file_extension": ".py",
   "mimetype": "text/x-python",
   "name": "python",
   "nbconvert_exporter": "python",
   "pygments_lexer": "ipython3",
   "version": "3.11.4"
  }
 },
 "nbformat": 4,
 "nbformat_minor": 5
}
